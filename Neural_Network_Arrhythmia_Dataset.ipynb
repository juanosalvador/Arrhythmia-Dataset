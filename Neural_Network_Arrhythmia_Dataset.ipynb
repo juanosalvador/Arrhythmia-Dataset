{
  "nbformat": 4,
  "nbformat_minor": 0,
  "metadata": {
    "colab": {
      "name": "Neural Network Arrhythmia Dataset",
      "provenance": [],
      "authorship_tag": "ABX9TyN6H8rOPQaelnn+hgNetX5r",
      "include_colab_link": true
    },
    "kernelspec": {
      "name": "python3",
      "display_name": "Python 3"
    }
  },
  "cells": [
    {
      "cell_type": "markdown",
      "metadata": {
        "id": "view-in-github",
        "colab_type": "text"
      },
      "source": [
        "<a href=\"https://colab.research.google.com/github/juanosalvador/Arrhythmia-Dataset/blob/master/Neural_Network_Arrhythmia_Dataset.ipynb\" target=\"_parent\"><img src=\"https://colab.research.google.com/assets/colab-badge.svg\" alt=\"Open In Colab\"/></a>"
      ]
    },
    {
      "cell_type": "code",
      "metadata": {
        "id": "Wis_4meJ6ZFF"
      },
      "source": [
        "import pandas as pd\n",
        "import numpy as np\n",
        "import matplotlib.pyplot as plt"
      ],
      "execution_count": 50,
      "outputs": []
    },
    {
      "cell_type": "code",
      "metadata": {
        "id": "JR51UBJ26mOm",
        "colab": {
          "base_uri": "https://localhost:8080/",
          "height": 253
        },
        "outputId": "2534ea72-d7ee-49bc-c38c-5e5f90fa38f8"
      },
      "source": [
        "path_x = 'https://raw.githubusercontent.com/juanosalvador/Arrhythmia-Dataset/master/arrhythmia.data'\n",
        "path_y = 'https://raw.githubusercontent.com/juanosalvador/Arrhythmia-Dataset/master/Y.csv'\n",
        "features = pd.read_csv(path_x, header = None)\n",
        "label = pd.read_csv(path_y, header=None)\n",
        "## \n",
        "features.head()"
      ],
      "execution_count": 51,
      "outputs": [
        {
          "output_type": "execute_result",
          "data": {
            "text/html": [
              "<div>\n",
              "<style scoped>\n",
              "    .dataframe tbody tr th:only-of-type {\n",
              "        vertical-align: middle;\n",
              "    }\n",
              "\n",
              "    .dataframe tbody tr th {\n",
              "        vertical-align: top;\n",
              "    }\n",
              "\n",
              "    .dataframe thead th {\n",
              "        text-align: right;\n",
              "    }\n",
              "</style>\n",
              "<table border=\"1\" class=\"dataframe\">\n",
              "  <thead>\n",
              "    <tr style=\"text-align: right;\">\n",
              "      <th></th>\n",
              "      <th>0</th>\n",
              "      <th>1</th>\n",
              "      <th>2</th>\n",
              "      <th>3</th>\n",
              "      <th>4</th>\n",
              "      <th>5</th>\n",
              "      <th>6</th>\n",
              "      <th>7</th>\n",
              "      <th>8</th>\n",
              "      <th>9</th>\n",
              "      <th>10</th>\n",
              "      <th>11</th>\n",
              "      <th>12</th>\n",
              "      <th>13</th>\n",
              "      <th>14</th>\n",
              "      <th>15</th>\n",
              "      <th>16</th>\n",
              "      <th>17</th>\n",
              "      <th>18</th>\n",
              "      <th>19</th>\n",
              "      <th>20</th>\n",
              "      <th>21</th>\n",
              "      <th>22</th>\n",
              "      <th>23</th>\n",
              "      <th>24</th>\n",
              "      <th>25</th>\n",
              "      <th>26</th>\n",
              "      <th>27</th>\n",
              "      <th>28</th>\n",
              "      <th>29</th>\n",
              "      <th>30</th>\n",
              "      <th>31</th>\n",
              "      <th>32</th>\n",
              "      <th>33</th>\n",
              "      <th>34</th>\n",
              "      <th>35</th>\n",
              "      <th>36</th>\n",
              "      <th>37</th>\n",
              "      <th>38</th>\n",
              "      <th>39</th>\n",
              "      <th>...</th>\n",
              "      <th>240</th>\n",
              "      <th>241</th>\n",
              "      <th>242</th>\n",
              "      <th>243</th>\n",
              "      <th>244</th>\n",
              "      <th>245</th>\n",
              "      <th>246</th>\n",
              "      <th>247</th>\n",
              "      <th>248</th>\n",
              "      <th>249</th>\n",
              "      <th>250</th>\n",
              "      <th>251</th>\n",
              "      <th>252</th>\n",
              "      <th>253</th>\n",
              "      <th>254</th>\n",
              "      <th>255</th>\n",
              "      <th>256</th>\n",
              "      <th>257</th>\n",
              "      <th>258</th>\n",
              "      <th>259</th>\n",
              "      <th>260</th>\n",
              "      <th>261</th>\n",
              "      <th>262</th>\n",
              "      <th>263</th>\n",
              "      <th>264</th>\n",
              "      <th>265</th>\n",
              "      <th>266</th>\n",
              "      <th>267</th>\n",
              "      <th>268</th>\n",
              "      <th>269</th>\n",
              "      <th>270</th>\n",
              "      <th>271</th>\n",
              "      <th>272</th>\n",
              "      <th>273</th>\n",
              "      <th>274</th>\n",
              "      <th>275</th>\n",
              "      <th>276</th>\n",
              "      <th>277</th>\n",
              "      <th>278</th>\n",
              "      <th>279</th>\n",
              "    </tr>\n",
              "  </thead>\n",
              "  <tbody>\n",
              "    <tr>\n",
              "      <th>0</th>\n",
              "      <td>75</td>\n",
              "      <td>0</td>\n",
              "      <td>190</td>\n",
              "      <td>80</td>\n",
              "      <td>91</td>\n",
              "      <td>193</td>\n",
              "      <td>371</td>\n",
              "      <td>174</td>\n",
              "      <td>121</td>\n",
              "      <td>-16</td>\n",
              "      <td>13</td>\n",
              "      <td>64</td>\n",
              "      <td>-2</td>\n",
              "      <td>?</td>\n",
              "      <td>63</td>\n",
              "      <td>0</td>\n",
              "      <td>52</td>\n",
              "      <td>44</td>\n",
              "      <td>0</td>\n",
              "      <td>0</td>\n",
              "      <td>32</td>\n",
              "      <td>0</td>\n",
              "      <td>0</td>\n",
              "      <td>0</td>\n",
              "      <td>0</td>\n",
              "      <td>0</td>\n",
              "      <td>0</td>\n",
              "      <td>0</td>\n",
              "      <td>44</td>\n",
              "      <td>20</td>\n",
              "      <td>36</td>\n",
              "      <td>0</td>\n",
              "      <td>28</td>\n",
              "      <td>0</td>\n",
              "      <td>0</td>\n",
              "      <td>0</td>\n",
              "      <td>0</td>\n",
              "      <td>0</td>\n",
              "      <td>0</td>\n",
              "      <td>52</td>\n",
              "      <td>...</td>\n",
              "      <td>0.0</td>\n",
              "      <td>8.4</td>\n",
              "      <td>-10.0</td>\n",
              "      <td>0.0</td>\n",
              "      <td>0.0</td>\n",
              "      <td>0.6</td>\n",
              "      <td>5.9</td>\n",
              "      <td>-3.9</td>\n",
              "      <td>52.7</td>\n",
              "      <td>-0.3</td>\n",
              "      <td>0.0</td>\n",
              "      <td>15.2</td>\n",
              "      <td>-8.4</td>\n",
              "      <td>0.0</td>\n",
              "      <td>0.0</td>\n",
              "      <td>0.9</td>\n",
              "      <td>5.1</td>\n",
              "      <td>17.7</td>\n",
              "      <td>70.7</td>\n",
              "      <td>-0.4</td>\n",
              "      <td>0.0</td>\n",
              "      <td>13.5</td>\n",
              "      <td>-4.0</td>\n",
              "      <td>0.0</td>\n",
              "      <td>0.0</td>\n",
              "      <td>0.9</td>\n",
              "      <td>3.9</td>\n",
              "      <td>25.5</td>\n",
              "      <td>62.9</td>\n",
              "      <td>-0.3</td>\n",
              "      <td>0.0</td>\n",
              "      <td>9.0</td>\n",
              "      <td>-0.9</td>\n",
              "      <td>0.0</td>\n",
              "      <td>0.0</td>\n",
              "      <td>0.9</td>\n",
              "      <td>2.9</td>\n",
              "      <td>23.3</td>\n",
              "      <td>49.4</td>\n",
              "      <td>8</td>\n",
              "    </tr>\n",
              "    <tr>\n",
              "      <th>1</th>\n",
              "      <td>56</td>\n",
              "      <td>1</td>\n",
              "      <td>165</td>\n",
              "      <td>64</td>\n",
              "      <td>81</td>\n",
              "      <td>174</td>\n",
              "      <td>401</td>\n",
              "      <td>149</td>\n",
              "      <td>39</td>\n",
              "      <td>25</td>\n",
              "      <td>37</td>\n",
              "      <td>-17</td>\n",
              "      <td>31</td>\n",
              "      <td>?</td>\n",
              "      <td>53</td>\n",
              "      <td>0</td>\n",
              "      <td>48</td>\n",
              "      <td>0</td>\n",
              "      <td>0</td>\n",
              "      <td>0</td>\n",
              "      <td>24</td>\n",
              "      <td>0</td>\n",
              "      <td>0</td>\n",
              "      <td>0</td>\n",
              "      <td>0</td>\n",
              "      <td>0</td>\n",
              "      <td>0</td>\n",
              "      <td>0</td>\n",
              "      <td>64</td>\n",
              "      <td>0</td>\n",
              "      <td>0</td>\n",
              "      <td>0</td>\n",
              "      <td>24</td>\n",
              "      <td>0</td>\n",
              "      <td>0</td>\n",
              "      <td>0</td>\n",
              "      <td>0</td>\n",
              "      <td>0</td>\n",
              "      <td>0</td>\n",
              "      <td>32</td>\n",
              "      <td>...</td>\n",
              "      <td>0.0</td>\n",
              "      <td>5.8</td>\n",
              "      <td>-7.7</td>\n",
              "      <td>0.0</td>\n",
              "      <td>0.0</td>\n",
              "      <td>0.9</td>\n",
              "      <td>3.8</td>\n",
              "      <td>-5.7</td>\n",
              "      <td>27.7</td>\n",
              "      <td>-0.2</td>\n",
              "      <td>0.0</td>\n",
              "      <td>9.5</td>\n",
              "      <td>-5.0</td>\n",
              "      <td>0.0</td>\n",
              "      <td>0.0</td>\n",
              "      <td>0.5</td>\n",
              "      <td>2.6</td>\n",
              "      <td>11.8</td>\n",
              "      <td>34.6</td>\n",
              "      <td>-0.4</td>\n",
              "      <td>0.0</td>\n",
              "      <td>11.0</td>\n",
              "      <td>-2.4</td>\n",
              "      <td>0.0</td>\n",
              "      <td>0.0</td>\n",
              "      <td>0.4</td>\n",
              "      <td>2.6</td>\n",
              "      <td>21.6</td>\n",
              "      <td>43.4</td>\n",
              "      <td>-0.5</td>\n",
              "      <td>0.0</td>\n",
              "      <td>8.5</td>\n",
              "      <td>0.0</td>\n",
              "      <td>0.0</td>\n",
              "      <td>0.0</td>\n",
              "      <td>0.2</td>\n",
              "      <td>2.1</td>\n",
              "      <td>20.4</td>\n",
              "      <td>38.8</td>\n",
              "      <td>6</td>\n",
              "    </tr>\n",
              "    <tr>\n",
              "      <th>2</th>\n",
              "      <td>54</td>\n",
              "      <td>0</td>\n",
              "      <td>172</td>\n",
              "      <td>95</td>\n",
              "      <td>138</td>\n",
              "      <td>163</td>\n",
              "      <td>386</td>\n",
              "      <td>185</td>\n",
              "      <td>102</td>\n",
              "      <td>96</td>\n",
              "      <td>34</td>\n",
              "      <td>70</td>\n",
              "      <td>66</td>\n",
              "      <td>23</td>\n",
              "      <td>75</td>\n",
              "      <td>0</td>\n",
              "      <td>40</td>\n",
              "      <td>80</td>\n",
              "      <td>0</td>\n",
              "      <td>0</td>\n",
              "      <td>24</td>\n",
              "      <td>0</td>\n",
              "      <td>0</td>\n",
              "      <td>0</td>\n",
              "      <td>0</td>\n",
              "      <td>0</td>\n",
              "      <td>0</td>\n",
              "      <td>20</td>\n",
              "      <td>56</td>\n",
              "      <td>52</td>\n",
              "      <td>0</td>\n",
              "      <td>0</td>\n",
              "      <td>40</td>\n",
              "      <td>0</td>\n",
              "      <td>0</td>\n",
              "      <td>0</td>\n",
              "      <td>0</td>\n",
              "      <td>0</td>\n",
              "      <td>0</td>\n",
              "      <td>28</td>\n",
              "      <td>...</td>\n",
              "      <td>0.0</td>\n",
              "      <td>5.8</td>\n",
              "      <td>-4.1</td>\n",
              "      <td>4.0</td>\n",
              "      <td>-0.5</td>\n",
              "      <td>0.4</td>\n",
              "      <td>0.3</td>\n",
              "      <td>20.4</td>\n",
              "      <td>23.3</td>\n",
              "      <td>0.7</td>\n",
              "      <td>0.0</td>\n",
              "      <td>10.0</td>\n",
              "      <td>-5.7</td>\n",
              "      <td>0.0</td>\n",
              "      <td>0.0</td>\n",
              "      <td>0.5</td>\n",
              "      <td>2.2</td>\n",
              "      <td>-3.0</td>\n",
              "      <td>20.7</td>\n",
              "      <td>1.3</td>\n",
              "      <td>0.0</td>\n",
              "      <td>11.1</td>\n",
              "      <td>-3.4</td>\n",
              "      <td>0.0</td>\n",
              "      <td>0.0</td>\n",
              "      <td>0.4</td>\n",
              "      <td>3.4</td>\n",
              "      <td>11.5</td>\n",
              "      <td>48.2</td>\n",
              "      <td>0.9</td>\n",
              "      <td>0.0</td>\n",
              "      <td>9.5</td>\n",
              "      <td>-2.4</td>\n",
              "      <td>0.0</td>\n",
              "      <td>0.0</td>\n",
              "      <td>0.3</td>\n",
              "      <td>3.4</td>\n",
              "      <td>12.3</td>\n",
              "      <td>49.0</td>\n",
              "      <td>10</td>\n",
              "    </tr>\n",
              "    <tr>\n",
              "      <th>3</th>\n",
              "      <td>55</td>\n",
              "      <td>0</td>\n",
              "      <td>175</td>\n",
              "      <td>94</td>\n",
              "      <td>100</td>\n",
              "      <td>202</td>\n",
              "      <td>380</td>\n",
              "      <td>179</td>\n",
              "      <td>143</td>\n",
              "      <td>28</td>\n",
              "      <td>11</td>\n",
              "      <td>-5</td>\n",
              "      <td>20</td>\n",
              "      <td>?</td>\n",
              "      <td>71</td>\n",
              "      <td>0</td>\n",
              "      <td>72</td>\n",
              "      <td>20</td>\n",
              "      <td>0</td>\n",
              "      <td>0</td>\n",
              "      <td>48</td>\n",
              "      <td>0</td>\n",
              "      <td>0</td>\n",
              "      <td>0</td>\n",
              "      <td>0</td>\n",
              "      <td>0</td>\n",
              "      <td>0</td>\n",
              "      <td>0</td>\n",
              "      <td>64</td>\n",
              "      <td>36</td>\n",
              "      <td>0</td>\n",
              "      <td>0</td>\n",
              "      <td>36</td>\n",
              "      <td>0</td>\n",
              "      <td>0</td>\n",
              "      <td>0</td>\n",
              "      <td>0</td>\n",
              "      <td>0</td>\n",
              "      <td>0</td>\n",
              "      <td>20</td>\n",
              "      <td>...</td>\n",
              "      <td>0.0</td>\n",
              "      <td>9.0</td>\n",
              "      <td>-7.9</td>\n",
              "      <td>0.0</td>\n",
              "      <td>0.0</td>\n",
              "      <td>0.1</td>\n",
              "      <td>4.1</td>\n",
              "      <td>7.6</td>\n",
              "      <td>51.0</td>\n",
              "      <td>0.4</td>\n",
              "      <td>0.0</td>\n",
              "      <td>15.0</td>\n",
              "      <td>-5.5</td>\n",
              "      <td>0.0</td>\n",
              "      <td>0.0</td>\n",
              "      <td>0.1</td>\n",
              "      <td>3.3</td>\n",
              "      <td>28.8</td>\n",
              "      <td>63.1</td>\n",
              "      <td>0.1</td>\n",
              "      <td>0.0</td>\n",
              "      <td>15.2</td>\n",
              "      <td>-3.7</td>\n",
              "      <td>0.0</td>\n",
              "      <td>0.0</td>\n",
              "      <td>0.6</td>\n",
              "      <td>3.0</td>\n",
              "      <td>36.8</td>\n",
              "      <td>68.0</td>\n",
              "      <td>0.1</td>\n",
              "      <td>0.0</td>\n",
              "      <td>12.2</td>\n",
              "      <td>-2.2</td>\n",
              "      <td>0.0</td>\n",
              "      <td>0.0</td>\n",
              "      <td>0.4</td>\n",
              "      <td>2.6</td>\n",
              "      <td>34.6</td>\n",
              "      <td>61.6</td>\n",
              "      <td>1</td>\n",
              "    </tr>\n",
              "    <tr>\n",
              "      <th>4</th>\n",
              "      <td>75</td>\n",
              "      <td>0</td>\n",
              "      <td>190</td>\n",
              "      <td>80</td>\n",
              "      <td>88</td>\n",
              "      <td>181</td>\n",
              "      <td>360</td>\n",
              "      <td>177</td>\n",
              "      <td>103</td>\n",
              "      <td>-16</td>\n",
              "      <td>13</td>\n",
              "      <td>61</td>\n",
              "      <td>3</td>\n",
              "      <td>?</td>\n",
              "      <td>?</td>\n",
              "      <td>0</td>\n",
              "      <td>48</td>\n",
              "      <td>40</td>\n",
              "      <td>0</td>\n",
              "      <td>0</td>\n",
              "      <td>28</td>\n",
              "      <td>0</td>\n",
              "      <td>0</td>\n",
              "      <td>0</td>\n",
              "      <td>0</td>\n",
              "      <td>0</td>\n",
              "      <td>0</td>\n",
              "      <td>0</td>\n",
              "      <td>40</td>\n",
              "      <td>24</td>\n",
              "      <td>0</td>\n",
              "      <td>0</td>\n",
              "      <td>24</td>\n",
              "      <td>0</td>\n",
              "      <td>0</td>\n",
              "      <td>0</td>\n",
              "      <td>0</td>\n",
              "      <td>0</td>\n",
              "      <td>0</td>\n",
              "      <td>52</td>\n",
              "      <td>...</td>\n",
              "      <td>0.0</td>\n",
              "      <td>8.5</td>\n",
              "      <td>-10.2</td>\n",
              "      <td>0.0</td>\n",
              "      <td>0.0</td>\n",
              "      <td>-1.0</td>\n",
              "      <td>4.7</td>\n",
              "      <td>-4.0</td>\n",
              "      <td>43.0</td>\n",
              "      <td>-0.2</td>\n",
              "      <td>0.0</td>\n",
              "      <td>15.2</td>\n",
              "      <td>-7.8</td>\n",
              "      <td>0.0</td>\n",
              "      <td>0.0</td>\n",
              "      <td>-0.1</td>\n",
              "      <td>4.9</td>\n",
              "      <td>16.2</td>\n",
              "      <td>63.2</td>\n",
              "      <td>-0.2</td>\n",
              "      <td>0.0</td>\n",
              "      <td>9.1</td>\n",
              "      <td>-0.9</td>\n",
              "      <td>0.0</td>\n",
              "      <td>0.0</td>\n",
              "      <td>-0.2</td>\n",
              "      <td>2.9</td>\n",
              "      <td>21.7</td>\n",
              "      <td>48.9</td>\n",
              "      <td>-0.4</td>\n",
              "      <td>0.0</td>\n",
              "      <td>13.1</td>\n",
              "      <td>-3.6</td>\n",
              "      <td>0.0</td>\n",
              "      <td>0.0</td>\n",
              "      <td>-0.1</td>\n",
              "      <td>3.9</td>\n",
              "      <td>25.4</td>\n",
              "      <td>62.8</td>\n",
              "      <td>7</td>\n",
              "    </tr>\n",
              "  </tbody>\n",
              "</table>\n",
              "<p>5 rows × 280 columns</p>\n",
              "</div>"
            ],
            "text/plain": [
              "   0    1    2    3    4    5    6    ...  273  274  275  276   277   278 279\n",
              "0   75    0  190   80   91  193  371  ...  0.0  0.0  0.9  2.9  23.3  49.4   8\n",
              "1   56    1  165   64   81  174  401  ...  0.0  0.0  0.2  2.1  20.4  38.8   6\n",
              "2   54    0  172   95  138  163  386  ...  0.0  0.0  0.3  3.4  12.3  49.0  10\n",
              "3   55    0  175   94  100  202  380  ...  0.0  0.0  0.4  2.6  34.6  61.6   1\n",
              "4   75    0  190   80   88  181  360  ...  0.0  0.0 -0.1  3.9  25.4  62.8   7\n",
              "\n",
              "[5 rows x 280 columns]"
            ]
          },
          "metadata": {
            "tags": []
          },
          "execution_count": 51
        }
      ]
    },
    {
      "cell_type": "code",
      "metadata": {
        "colab": {
          "base_uri": "https://localhost:8080/",
          "height": 419
        },
        "id": "dCeT_eezU7p-",
        "outputId": "3ea27b8c-829d-42c7-ec28-ea1e16376a87"
      },
      "source": [
        "features.describe().T"
      ],
      "execution_count": 52,
      "outputs": [
        {
          "output_type": "execute_result",
          "data": {
            "text/html": [
              "<div>\n",
              "<style scoped>\n",
              "    .dataframe tbody tr th:only-of-type {\n",
              "        vertical-align: middle;\n",
              "    }\n",
              "\n",
              "    .dataframe tbody tr th {\n",
              "        vertical-align: top;\n",
              "    }\n",
              "\n",
              "    .dataframe thead th {\n",
              "        text-align: right;\n",
              "    }\n",
              "</style>\n",
              "<table border=\"1\" class=\"dataframe\">\n",
              "  <thead>\n",
              "    <tr style=\"text-align: right;\">\n",
              "      <th></th>\n",
              "      <th>count</th>\n",
              "      <th>mean</th>\n",
              "      <th>std</th>\n",
              "      <th>min</th>\n",
              "      <th>25%</th>\n",
              "      <th>50%</th>\n",
              "      <th>75%</th>\n",
              "      <th>max</th>\n",
              "    </tr>\n",
              "  </thead>\n",
              "  <tbody>\n",
              "    <tr>\n",
              "      <th>0</th>\n",
              "      <td>452.0</td>\n",
              "      <td>46.471239</td>\n",
              "      <td>16.466631</td>\n",
              "      <td>0.0</td>\n",
              "      <td>36.00</td>\n",
              "      <td>47.00</td>\n",
              "      <td>58.000</td>\n",
              "      <td>83.0</td>\n",
              "    </tr>\n",
              "    <tr>\n",
              "      <th>1</th>\n",
              "      <td>452.0</td>\n",
              "      <td>0.550885</td>\n",
              "      <td>0.497955</td>\n",
              "      <td>0.0</td>\n",
              "      <td>0.00</td>\n",
              "      <td>1.00</td>\n",
              "      <td>1.000</td>\n",
              "      <td>1.0</td>\n",
              "    </tr>\n",
              "    <tr>\n",
              "      <th>2</th>\n",
              "      <td>452.0</td>\n",
              "      <td>166.188053</td>\n",
              "      <td>37.170340</td>\n",
              "      <td>105.0</td>\n",
              "      <td>160.00</td>\n",
              "      <td>164.00</td>\n",
              "      <td>170.000</td>\n",
              "      <td>780.0</td>\n",
              "    </tr>\n",
              "    <tr>\n",
              "      <th>3</th>\n",
              "      <td>452.0</td>\n",
              "      <td>68.170354</td>\n",
              "      <td>16.590803</td>\n",
              "      <td>6.0</td>\n",
              "      <td>59.00</td>\n",
              "      <td>68.00</td>\n",
              "      <td>79.000</td>\n",
              "      <td>176.0</td>\n",
              "    </tr>\n",
              "    <tr>\n",
              "      <th>4</th>\n",
              "      <td>452.0</td>\n",
              "      <td>88.920354</td>\n",
              "      <td>15.364394</td>\n",
              "      <td>55.0</td>\n",
              "      <td>80.00</td>\n",
              "      <td>86.00</td>\n",
              "      <td>94.000</td>\n",
              "      <td>188.0</td>\n",
              "    </tr>\n",
              "    <tr>\n",
              "      <th>...</th>\n",
              "      <td>...</td>\n",
              "      <td>...</td>\n",
              "      <td>...</td>\n",
              "      <td>...</td>\n",
              "      <td>...</td>\n",
              "      <td>...</td>\n",
              "      <td>...</td>\n",
              "      <td>...</td>\n",
              "    </tr>\n",
              "    <tr>\n",
              "      <th>275</th>\n",
              "      <td>452.0</td>\n",
              "      <td>0.514823</td>\n",
              "      <td>0.347531</td>\n",
              "      <td>-0.8</td>\n",
              "      <td>0.40</td>\n",
              "      <td>0.50</td>\n",
              "      <td>0.700</td>\n",
              "      <td>2.4</td>\n",
              "    </tr>\n",
              "    <tr>\n",
              "      <th>276</th>\n",
              "      <td>452.0</td>\n",
              "      <td>1.222345</td>\n",
              "      <td>1.426052</td>\n",
              "      <td>-6.0</td>\n",
              "      <td>0.50</td>\n",
              "      <td>1.35</td>\n",
              "      <td>2.100</td>\n",
              "      <td>6.0</td>\n",
              "    </tr>\n",
              "    <tr>\n",
              "      <th>277</th>\n",
              "      <td>452.0</td>\n",
              "      <td>19.326106</td>\n",
              "      <td>13.503922</td>\n",
              "      <td>-44.2</td>\n",
              "      <td>11.45</td>\n",
              "      <td>18.10</td>\n",
              "      <td>25.825</td>\n",
              "      <td>88.8</td>\n",
              "    </tr>\n",
              "    <tr>\n",
              "      <th>278</th>\n",
              "      <td>452.0</td>\n",
              "      <td>29.473230</td>\n",
              "      <td>18.493927</td>\n",
              "      <td>-38.6</td>\n",
              "      <td>17.55</td>\n",
              "      <td>27.90</td>\n",
              "      <td>41.125</td>\n",
              "      <td>115.9</td>\n",
              "    </tr>\n",
              "    <tr>\n",
              "      <th>279</th>\n",
              "      <td>452.0</td>\n",
              "      <td>3.880531</td>\n",
              "      <td>4.407097</td>\n",
              "      <td>1.0</td>\n",
              "      <td>1.00</td>\n",
              "      <td>1.00</td>\n",
              "      <td>6.000</td>\n",
              "      <td>16.0</td>\n",
              "    </tr>\n",
              "  </tbody>\n",
              "</table>\n",
              "<p>275 rows × 8 columns</p>\n",
              "</div>"
            ],
            "text/plain": [
              "     count        mean        std    min     25%     50%      75%    max\n",
              "0    452.0   46.471239  16.466631    0.0   36.00   47.00   58.000   83.0\n",
              "1    452.0    0.550885   0.497955    0.0    0.00    1.00    1.000    1.0\n",
              "2    452.0  166.188053  37.170340  105.0  160.00  164.00  170.000  780.0\n",
              "3    452.0   68.170354  16.590803    6.0   59.00   68.00   79.000  176.0\n",
              "4    452.0   88.920354  15.364394   55.0   80.00   86.00   94.000  188.0\n",
              "..     ...         ...        ...    ...     ...     ...      ...    ...\n",
              "275  452.0    0.514823   0.347531   -0.8    0.40    0.50    0.700    2.4\n",
              "276  452.0    1.222345   1.426052   -6.0    0.50    1.35    2.100    6.0\n",
              "277  452.0   19.326106  13.503922  -44.2   11.45   18.10   25.825   88.8\n",
              "278  452.0   29.473230  18.493927  -38.6   17.55   27.90   41.125  115.9\n",
              "279  452.0    3.880531   4.407097    1.0    1.00    1.00    6.000   16.0\n",
              "\n",
              "[275 rows x 8 columns]"
            ]
          },
          "metadata": {
            "tags": []
          },
          "execution_count": 52
        }
      ]
    },
    {
      "cell_type": "code",
      "metadata": {
        "id": "dijMb2roWLOX"
      },
      "source": [
        "def Faltantes(features):\n",
        "  ## los valores nulos están representados con un signo de interrogacion\n",
        "  features = features.replace('?', np.nan)\n",
        "  col_null = pd.DataFrame(data = features.isnull().sum()).reset_index().rename(columns = {'index':'atributo', 0:'Faltantes'})\n",
        "  for i in range(len(col_null)):\n",
        "    if col_null.iloc[i]['Faltantes'] > 0:\n",
        "      print('Columna', col_null.iloc[i]['atributo'], 'presenta un', round(col_null.iloc[i]['Faltantes']/452,3)*100 , '% de valores faltantes' )\n",
        "\n",
        "features = features.replace('?', np.nan)"
      ],
      "execution_count": 53,
      "outputs": []
    },
    {
      "cell_type": "code",
      "metadata": {
        "colab": {
          "base_uri": "https://localhost:8080/"
        },
        "id": "sZiTy29pLv2o",
        "outputId": "f9c7ad7a-8925-4598-8f7d-3f25d96f2dfd"
      },
      "source": [
        "Faltantes(features)"
      ],
      "execution_count": 54,
      "outputs": [
        {
          "output_type": "stream",
          "text": [
            "Columna 10 presenta un 1.7999999999999998 % de valores faltantes\n",
            "Columna 11 presenta un 4.9 % de valores faltantes\n",
            "Columna 12 presenta un 0.2 % de valores faltantes\n",
            "Columna 13 presenta un 83.2 % de valores faltantes\n",
            "Columna 14 presenta un 0.2 % de valores faltantes\n"
          ],
          "name": "stdout"
        }
      ]
    },
    {
      "cell_type": "code",
      "metadata": {
        "id": "PEcJ85rsWTQY"
      },
      "source": [
        "# La columna trece presenta un 83% de valores faltantes\n",
        "features.drop([13], axis= 1, inplace = True)"
      ],
      "execution_count": 55,
      "outputs": []
    },
    {
      "cell_type": "code",
      "metadata": {
        "colab": {
          "base_uri": "https://localhost:8080/"
        },
        "id": "ho8Z1FxqMEuP",
        "outputId": "2d7dc9ec-0d80-4824-bc1c-1bfe00c1717e"
      },
      "source": [
        "Faltantes(features)"
      ],
      "execution_count": 56,
      "outputs": [
        {
          "output_type": "stream",
          "text": [
            "Columna 10 presenta un 1.7999999999999998 % de valores faltantes\n",
            "Columna 11 presenta un 4.9 % de valores faltantes\n",
            "Columna 12 presenta un 0.2 % de valores faltantes\n",
            "Columna 14 presenta un 0.2 % de valores faltantes\n"
          ],
          "name": "stdout"
        }
      ]
    },
    {
      "cell_type": "code",
      "metadata": {
        "id": "UsGjPAatSHbu"
      },
      "source": [
        "# Imputando por la mediana\n",
        "from sklearn.impute import SimpleImputer\n",
        "imp = SimpleImputer(missing_values=np.nan, strategy = 'median')\n",
        "features = pd.DataFrame(data = imp.fit_transform(features))"
      ],
      "execution_count": 57,
      "outputs": []
    },
    {
      "cell_type": "markdown",
      "metadata": {
        "id": "M9QdxUYtmGd0"
      },
      "source": [
        "data = features[0]"
      ]
    },
    {
      "cell_type": "markdown",
      "metadata": {
        "id": "ZwWF3EJKloNl"
      },
      "source": [
        "from sklearn.neighbors import KernelDensity\n",
        "kde = KernelDensity(kernel='gaussian',bandwidth = 1)\n",
        "kde.fit(data[:, None])\n",
        "\n",
        "x = np.arange(0, 83, 2) # Definimos un rango de valores para calcular su probabilidad\n",
        "prob = np.exp(kde.score_samples (x[:, None]))\n",
        "\n",
        "plt.clf()\n",
        "plt.hist(data, bins = 34, density=True)\n",
        "plt.plot(x, prob, \"r\")\n",
        "plt.show()"
      ]
    },
    {
      "cell_type": "code",
      "metadata": {
        "id": "TYNDEDyDj6y9"
      },
      "source": [
        "# Estandarizamos los datos\n",
        "from sklearn.preprocessing import StandardScaler\n",
        "sc = StandardScaler()\n",
        "features = sc.fit_transform(features)\n",
        "#features"
      ],
      "execution_count": 58,
      "outputs": []
    },
    {
      "cell_type": "code",
      "metadata": {
        "colab": {
          "base_uri": "https://localhost:8080/"
        },
        "id": "lhcUpFeNNMId",
        "outputId": "cf976950-7da2-4ecc-9e92-ce0ff15832db"
      },
      "source": [
        "print('Cantidad de clases en la variable dependiente :' ,len(label[0].unique()))"
      ],
      "execution_count": 59,
      "outputs": [
        {
          "output_type": "stream",
          "text": [
            "Cantidad de clases en la variable dependiente : 13\n"
          ],
          "name": "stdout"
        }
      ]
    },
    {
      "cell_type": "code",
      "metadata": {
        "colab": {
          "base_uri": "https://localhost:8080/"
        },
        "id": "5jsG8BiYVzBt",
        "outputId": "c250f12b-cb15-441f-aa34-90dcc89fcdfa"
      },
      "source": [
        "print('Dimensiones de las variables de entrada o \"x\": ' ,features.shape)\n",
        "print('***********************************************************')\n",
        "print('Dimensión de la variable de salida \"y\" o label: ' ,label.shape)"
      ],
      "execution_count": 60,
      "outputs": [
        {
          "output_type": "stream",
          "text": [
            "Dimensiones de las variables de entrada o \"x\":  (452, 279)\n",
            "***********************************************************\n",
            "Dimensión de la variable de salida \"y\" o label:  (452, 1)\n"
          ],
          "name": "stdout"
        }
      ]
    },
    {
      "cell_type": "code",
      "metadata": {
        "id": "mFMGz_YV3A7T"
      },
      "source": [
        "cant_clases = pd.DataFrame(data = label[0]).rename(columns = {0:'y'})\n",
        "#cant_clases"
      ],
      "execution_count": 61,
      "outputs": []
    },
    {
      "cell_type": "code",
      "metadata": {
        "id": "nDwjW1mh2AJ4"
      },
      "source": [
        "def resume(data,col):\n",
        "  tabla = data.groupby(col).size().reset_index().rename(columns={0:'Frec. Abs'}).sort_values(by=['Frec. Abs'], ascending = False).reset_index(drop=True)\n",
        "  return tabla\n"
      ],
      "execution_count": 62,
      "outputs": []
    },
    {
      "cell_type": "code",
      "metadata": {
        "colab": {
          "base_uri": "https://localhost:8080/",
          "height": 452
        },
        "id": "OiOXrWPZ3I8h",
        "outputId": "181f870b-7ac3-48ee-a383-28365eeea6fc"
      },
      "source": [
        "resume(cant_clases, 'y')"
      ],
      "execution_count": 63,
      "outputs": [
        {
          "output_type": "execute_result",
          "data": {
            "text/html": [
              "<div>\n",
              "<style scoped>\n",
              "    .dataframe tbody tr th:only-of-type {\n",
              "        vertical-align: middle;\n",
              "    }\n",
              "\n",
              "    .dataframe tbody tr th {\n",
              "        vertical-align: top;\n",
              "    }\n",
              "\n",
              "    .dataframe thead th {\n",
              "        text-align: right;\n",
              "    }\n",
              "</style>\n",
              "<table border=\"1\" class=\"dataframe\">\n",
              "  <thead>\n",
              "    <tr style=\"text-align: right;\">\n",
              "      <th></th>\n",
              "      <th>y</th>\n",
              "      <th>Frec. Abs</th>\n",
              "    </tr>\n",
              "  </thead>\n",
              "  <tbody>\n",
              "    <tr>\n",
              "      <th>0</th>\n",
              "      <td>1.0</td>\n",
              "      <td>245</td>\n",
              "    </tr>\n",
              "    <tr>\n",
              "      <th>1</th>\n",
              "      <td>10.0</td>\n",
              "      <td>50</td>\n",
              "    </tr>\n",
              "    <tr>\n",
              "      <th>2</th>\n",
              "      <td>2.0</td>\n",
              "      <td>44</td>\n",
              "    </tr>\n",
              "    <tr>\n",
              "      <th>3</th>\n",
              "      <td>6.0</td>\n",
              "      <td>25</td>\n",
              "    </tr>\n",
              "    <tr>\n",
              "      <th>4</th>\n",
              "      <td>16.0</td>\n",
              "      <td>22</td>\n",
              "    </tr>\n",
              "    <tr>\n",
              "      <th>5</th>\n",
              "      <td>3.0</td>\n",
              "      <td>15</td>\n",
              "    </tr>\n",
              "    <tr>\n",
              "      <th>6</th>\n",
              "      <td>4.0</td>\n",
              "      <td>15</td>\n",
              "    </tr>\n",
              "    <tr>\n",
              "      <th>7</th>\n",
              "      <td>5.0</td>\n",
              "      <td>13</td>\n",
              "    </tr>\n",
              "    <tr>\n",
              "      <th>8</th>\n",
              "      <td>9.0</td>\n",
              "      <td>9</td>\n",
              "    </tr>\n",
              "    <tr>\n",
              "      <th>9</th>\n",
              "      <td>15.0</td>\n",
              "      <td>5</td>\n",
              "    </tr>\n",
              "    <tr>\n",
              "      <th>10</th>\n",
              "      <td>14.0</td>\n",
              "      <td>4</td>\n",
              "    </tr>\n",
              "    <tr>\n",
              "      <th>11</th>\n",
              "      <td>7.0</td>\n",
              "      <td>3</td>\n",
              "    </tr>\n",
              "    <tr>\n",
              "      <th>12</th>\n",
              "      <td>8.0</td>\n",
              "      <td>2</td>\n",
              "    </tr>\n",
              "  </tbody>\n",
              "</table>\n",
              "</div>"
            ],
            "text/plain": [
              "       y  Frec. Abs\n",
              "0    1.0        245\n",
              "1   10.0         50\n",
              "2    2.0         44\n",
              "3    6.0         25\n",
              "4   16.0         22\n",
              "5    3.0         15\n",
              "6    4.0         15\n",
              "7    5.0         13\n",
              "8    9.0          9\n",
              "9   15.0          5\n",
              "10  14.0          4\n",
              "11   7.0          3\n",
              "12   8.0          2"
            ]
          },
          "metadata": {
            "tags": []
          },
          "execution_count": 63
        }
      ]
    },
    {
      "cell_type": "markdown",
      "metadata": {
        "id": "TcePFMLS3zlT"
      },
      "source": [
        "### Se puede observar que las clases de la variable \"y\" están desbalanceadas"
      ]
    },
    {
      "cell_type": "markdown",
      "metadata": {
        "id": "03qC7W1EeMes"
      },
      "source": [
        "# a) Generar el vector binario que codifica las clases para ser entregado a las redes.\n",
        "\n",
        "\n"
      ]
    },
    {
      "cell_type": "code",
      "metadata": {
        "colab": {
          "base_uri": "https://localhost:8080/"
        },
        "id": "5QV_F8PaQjf7",
        "outputId": "cd9e9f5c-679e-471a-cdda-4e3223dbad06"
      },
      "source": [
        "print('Vector de clases de la variable y: ', np.sort(label[0].unique()))\n",
        "print('*****************************************************************')\n",
        "print('Cantidad de valores únicos en la variable y: ', len(np.unique(label[0])))"
      ],
      "execution_count": 64,
      "outputs": [
        {
          "output_type": "stream",
          "text": [
            "Vector de clases de la variable y:  [ 1.  2.  3.  4.  5.  6.  7.  8.  9. 10. 14. 15. 16.]\n",
            "*****************************************************************\n",
            "Cantidad de valores únicos en la variable y:  13\n"
          ],
          "name": "stdout"
        }
      ]
    },
    {
      "cell_type": "markdown",
      "metadata": {
        "id": "LahzwJcS585t"
      },
      "source": [
        "#<center><h1>Codificando la clase de salida </h1></center>"
      ]
    },
    {
      "cell_type": "code",
      "metadata": {
        "colab": {
          "base_uri": "https://localhost:8080/"
        },
        "id": "CqkmMtqU93ND",
        "outputId": "5aaed4b4-46c4-4c24-f9f9-ac0a7fcb00af"
      },
      "source": [
        "from keras.utils import to_categorical\n",
        "num_classes = 17#len(np.unique(label[0]))\n",
        "vector_clases = to_categorical(label[0], num_classes)\n",
        "#vc = to_categorical(clases[0], num_classes)\n",
        "print('Dimensiones vector clases: ', vector_clases.shape)\n",
        "print('***************************************************')\n",
        "for i in range(0,17):\n",
        "\n",
        "  print(vector_clases[i], 'Es la clase: ', label[0][i])"
      ],
      "execution_count": 65,
      "outputs": [
        {
          "output_type": "stream",
          "text": [
            "Dimensiones vector clases:  (452, 17)\n",
            "***************************************************\n",
            "[0. 0. 0. 0. 0. 0. 0. 0. 1. 0. 0. 0. 0. 0. 0. 0. 0.] Es la clase:  8.0\n",
            "[0. 0. 0. 0. 0. 0. 1. 0. 0. 0. 0. 0. 0. 0. 0. 0. 0.] Es la clase:  6.0\n",
            "[0. 0. 0. 0. 0. 0. 0. 0. 0. 0. 1. 0. 0. 0. 0. 0. 0.] Es la clase:  10.0\n",
            "[0. 1. 0. 0. 0. 0. 0. 0. 0. 0. 0. 0. 0. 0. 0. 0. 0.] Es la clase:  1.0\n",
            "[0. 0. 0. 0. 0. 0. 0. 1. 0. 0. 0. 0. 0. 0. 0. 0. 0.] Es la clase:  7.0\n",
            "[0. 0. 0. 0. 0. 0. 0. 0. 0. 0. 0. 0. 0. 0. 1. 0. 0.] Es la clase:  14.0\n",
            "[0. 1. 0. 0. 0. 0. 0. 0. 0. 0. 0. 0. 0. 0. 0. 0. 0.] Es la clase:  1.0\n",
            "[0. 1. 0. 0. 0. 0. 0. 0. 0. 0. 0. 0. 0. 0. 0. 0. 0.] Es la clase:  1.0\n",
            "[0. 1. 0. 0. 0. 0. 0. 0. 0. 0. 0. 0. 0. 0. 0. 0. 0.] Es la clase:  1.0\n",
            "[0. 0. 0. 0. 0. 0. 0. 0. 0. 0. 1. 0. 0. 0. 0. 0. 0.] Es la clase:  10.0\n",
            "[0. 0. 0. 1. 0. 0. 0. 0. 0. 0. 0. 0. 0. 0. 0. 0. 0.] Es la clase:  3.0\n",
            "[0. 1. 0. 0. 0. 0. 0. 0. 0. 0. 0. 0. 0. 0. 0. 0. 0.] Es la clase:  1.0\n",
            "[0. 0. 0. 0. 0. 0. 0. 0. 0. 0. 1. 0. 0. 0. 0. 0. 0.] Es la clase:  10.0\n",
            "[0. 0. 0. 0. 0. 0. 1. 0. 0. 0. 0. 0. 0. 0. 0. 0. 0.] Es la clase:  6.0\n",
            "[0. 1. 0. 0. 0. 0. 0. 0. 0. 0. 0. 0. 0. 0. 0. 0. 0.] Es la clase:  1.0\n",
            "[0. 1. 0. 0. 0. 0. 0. 0. 0. 0. 0. 0. 0. 0. 0. 0. 0.] Es la clase:  1.0\n",
            "[0. 0. 0. 0. 0. 0. 0. 0. 0. 0. 1. 0. 0. 0. 0. 0. 0.] Es la clase:  10.0\n"
          ],
          "name": "stdout"
        }
      ]
    },
    {
      "cell_type": "markdown",
      "metadata": {
        "id": "u6Br2KBzQsik"
      },
      "source": [
        "# b) Para cada red calcular especificidad, sensibilidad y precisión para cada clase, y el promedio total entre todas las clases.\n",
        "\n",
        "Utilizaremos los 400 primero datos para entrenar"
      ]
    },
    {
      "cell_type": "markdown",
      "metadata": {
        "id": "ma_Wte_KmzUv"
      },
      "source": [
        "#<center><h1>Red Neuronal 0</h1></center>"
      ]
    },
    {
      "cell_type": "code",
      "metadata": {
        "id": "obGxJ-ojmzCl"
      },
      "source": [
        "## Generando una lista con la cantidad de capas con sus respectivas neuronas\n",
        "nn = [279,100 ,17]\n",
        "## Fijamos un batchsize de 10\n",
        "batchsize = 40"
      ],
      "execution_count": 66,
      "outputs": []
    },
    {
      "cell_type": "code",
      "metadata": {
        "id": "665UCokdmn1j"
      },
      "source": [
        "## Conjunto de entrenamiento\n",
        "x_train = features[:400]\n",
        "y_train = vector_clases[:400]\n",
        "\n",
        "# Conjunto de test\n",
        "x_test = features[400:]\n",
        "y_test = vector_clases[400:]"
      ],
      "execution_count": 67,
      "outputs": []
    },
    {
      "cell_type": "code",
      "metadata": {
        "id": "ryo2hUgnb9eN"
      },
      "source": [
        "## Barajamos las clases"
      ],
      "execution_count": 68,
      "outputs": []
    },
    {
      "cell_type": "code",
      "metadata": {
        "id": "TmD2p3C3nWY9"
      },
      "source": [
        "import tensorflow.keras as kr\n",
        "from tensorflow.keras import optimizers\n",
        "from keras.layers import Dropout\n",
        "from keras.callbacks import EarlyStopping\n",
        "from keras.optimizers import SGD\n",
        "from keras.utils import plot_model\n",
        "\n",
        "## Creamos la estructura que contendrá nuestro modelo\n",
        "model0 = kr.Sequential()\n",
        "## Añadiremos algunas capas a nuestra red neuronal\n",
        "## Capa 1 con 500 neuronas y 279 datos de entrada\n",
        "model0.add(kr.layers.Dense(nn[1], input_shape = (279,),activation='relu', name=\"layer1_red0\"))\n",
        "## Capa 2 con 250 neuronas\n",
        "#model.add(kr.layers.Dense(nn[2], activation='relu'))\n",
        "\n",
        "## Capa de salida con 17 neuronas\n",
        "model0.add(kr.layers.Dense(nn[-1], activation='softmax', name = 'layerOut_red0'))\n",
        "\n",
        "## optimizador descenso del gradiente estocastico\n",
        "opt = SGD(lr=0.02)\n",
        "## Compilamos el modelo\n",
        "model0.compile(loss = 'categorical_crossentropy', optimizer= opt, metrics = ['acc'])"
      ],
      "execution_count": 69,
      "outputs": []
    },
    {
      "cell_type": "code",
      "metadata": {
        "id": "4LkdkwYAnWTA"
      },
      "source": [
        "## Configuramos la regularización por earlystopoing\n",
        "earlystopping = EarlyStopping(monitor='val_loss', \n",
        "                              min_delta=0,\n",
        "                              patience = 15,\n",
        "                              mode='min',\n",
        "                              restore_best_weights=True)"
      ],
      "execution_count": 70,
      "outputs": []
    },
    {
      "cell_type": "code",
      "metadata": {
        "colab": {
          "base_uri": "https://localhost:8080/",
          "height": 516
        },
        "id": "7cPTO2bjnWOG",
        "outputId": "a91ec14c-311b-4522-8bd8-ba8d0aaa33c1"
      },
      "source": [
        "model0.summary()\n",
        "plot_model(model0, 'net0.png', show_shapes=True)"
      ],
      "execution_count": 71,
      "outputs": [
        {
          "output_type": "stream",
          "text": [
            "Model: \"sequential_6\"\n",
            "_________________________________________________________________\n",
            "Layer (type)                 Output Shape              Param #   \n",
            "=================================================================\n",
            "layer1_red0 (Dense)          (None, 100)               28000     \n",
            "_________________________________________________________________\n",
            "layerOut_red0 (Dense)        (None, 17)                1717      \n",
            "=================================================================\n",
            "Total params: 29,717\n",
            "Trainable params: 29,717\n",
            "Non-trainable params: 0\n",
            "_________________________________________________________________\n"
          ],
          "name": "stdout"
        },
        {
          "output_type": "execute_result",
          "data": {
            "image/png": "[encoded data removed]",
            "text/plain": [
              "<IPython.core.display.Image object>"
            ]
          },
          "metadata": {
            "tags": []
          },
          "execution_count": 71
        }
      ]
    },
    {
      "cell_type": "code",
      "metadata": {
        "colab": {
          "base_uri": "https://localhost:8080/"
        },
        "id": "DiuNf7w4oNaM",
        "outputId": "e7fce02b-014a-4ac0-844c-c78f5aecb49c"
      },
      "source": [
        "## Entrenamos el modelo\n",
        "%time\n",
        "history0 = model0.fit(x_train, \n",
        "          y_train,\n",
        "          epochs = 400,\n",
        "          batch_size=batchsize,\n",
        "          validation_split=0.2,\n",
        "          verbose = True,\n",
        "          callbacks=earlystopping)"
      ],
      "execution_count": 72,
      "outputs": [
        {
          "output_type": "stream",
          "text": [
            "CPU times: user 3 µs, sys: 1 µs, total: 4 µs\n",
            "Wall time: 9.78 µs\n",
            "Epoch 1/400\n",
            "8/8 [==============================] - 0s 24ms/step - loss: 3.1233 - acc: 0.0801 - val_loss: 2.8513 - val_acc: 0.2375\n",
            "Epoch 2/400\n",
            "8/8 [==============================] - 0s 5ms/step - loss: 2.2945 - acc: 0.4316 - val_loss: 2.4656 - val_acc: 0.3625\n",
            "Epoch 3/400\n",
            "8/8 [==============================] - 0s 6ms/step - loss: 1.8606 - acc: 0.5848 - val_loss: 2.2448 - val_acc: 0.4500\n",
            "Epoch 4/400\n",
            "8/8 [==============================] - 0s 6ms/step - loss: 1.5858 - acc: 0.6073 - val_loss: 2.1011 - val_acc: 0.4625\n",
            "Epoch 5/400\n",
            "8/8 [==============================] - 0s 6ms/step - loss: 1.4382 - acc: 0.6286 - val_loss: 1.9999 - val_acc: 0.4625\n",
            "Epoch 6/400\n",
            "8/8 [==============================] - 0s 6ms/step - loss: 1.3120 - acc: 0.6559 - val_loss: 1.9241 - val_acc: 0.4625\n",
            "Epoch 7/400\n",
            "8/8 [==============================] - 0s 6ms/step - loss: 1.1059 - acc: 0.7036 - val_loss: 1.8636 - val_acc: 0.4875\n",
            "Epoch 8/400\n",
            "8/8 [==============================] - 0s 6ms/step - loss: 1.0654 - acc: 0.7051 - val_loss: 1.8151 - val_acc: 0.5125\n",
            "Epoch 9/400\n",
            "8/8 [==============================] - 0s 5ms/step - loss: 0.9510 - acc: 0.7401 - val_loss: 1.7742 - val_acc: 0.5375\n",
            "Epoch 10/400\n",
            "8/8 [==============================] - 0s 7ms/step - loss: 0.9181 - acc: 0.7704 - val_loss: 1.7394 - val_acc: 0.5375\n",
            "Epoch 11/400\n",
            "8/8 [==============================] - 0s 6ms/step - loss: 0.8046 - acc: 0.7800 - val_loss: 1.7094 - val_acc: 0.5375\n",
            "Epoch 12/400\n",
            "8/8 [==============================] - 0s 6ms/step - loss: 0.8388 - acc: 0.7605 - val_loss: 1.6850 - val_acc: 0.5500\n",
            "Epoch 13/400\n",
            "8/8 [==============================] - 0s 5ms/step - loss: 0.7181 - acc: 0.8013 - val_loss: 1.6633 - val_acc: 0.5500\n",
            "Epoch 14/400\n",
            "8/8 [==============================] - 0s 6ms/step - loss: 0.6936 - acc: 0.8182 - val_loss: 1.6422 - val_acc: 0.5625\n",
            "Epoch 15/400\n",
            "8/8 [==============================] - 0s 6ms/step - loss: 0.7310 - acc: 0.7971 - val_loss: 1.6248 - val_acc: 0.5750\n",
            "Epoch 16/400\n",
            "8/8 [==============================] - 0s 6ms/step - loss: 0.6666 - acc: 0.8299 - val_loss: 1.6092 - val_acc: 0.5750\n",
            "Epoch 17/400\n",
            "8/8 [==============================] - 0s 6ms/step - loss: 0.6397 - acc: 0.8462 - val_loss: 1.5946 - val_acc: 0.5750\n",
            "Epoch 18/400\n",
            "8/8 [==============================] - 0s 6ms/step - loss: 0.5932 - acc: 0.8505 - val_loss: 1.5820 - val_acc: 0.5750\n",
            "Epoch 19/400\n",
            "8/8 [==============================] - 0s 6ms/step - loss: 0.5929 - acc: 0.8514 - val_loss: 1.5711 - val_acc: 0.5750\n",
            "Epoch 20/400\n",
            "8/8 [==============================] - 0s 6ms/step - loss: 0.4969 - acc: 0.8789 - val_loss: 1.5585 - val_acc: 0.5625\n",
            "Epoch 21/400\n",
            "8/8 [==============================] - 0s 6ms/step - loss: 0.5700 - acc: 0.8509 - val_loss: 1.5487 - val_acc: 0.5625\n",
            "Epoch 22/400\n",
            "8/8 [==============================] - 0s 6ms/step - loss: 0.5080 - acc: 0.8652 - val_loss: 1.5396 - val_acc: 0.5625\n",
            "Epoch 23/400\n",
            "8/8 [==============================] - 0s 5ms/step - loss: 0.5171 - acc: 0.8659 - val_loss: 1.5310 - val_acc: 0.5625\n",
            "Epoch 24/400\n",
            "8/8 [==============================] - 0s 6ms/step - loss: 0.4660 - acc: 0.8845 - val_loss: 1.5231 - val_acc: 0.5625\n",
            "Epoch 25/400\n",
            "8/8 [==============================] - 0s 6ms/step - loss: 0.4537 - acc: 0.8840 - val_loss: 1.5148 - val_acc: 0.5625\n",
            "Epoch 26/400\n",
            "8/8 [==============================] - 0s 6ms/step - loss: 0.4687 - acc: 0.8754 - val_loss: 1.5071 - val_acc: 0.5625\n",
            "Epoch 27/400\n",
            "8/8 [==============================] - 0s 6ms/step - loss: 0.4176 - acc: 0.9064 - val_loss: 1.4997 - val_acc: 0.5625\n",
            "Epoch 28/400\n",
            "8/8 [==============================] - 0s 6ms/step - loss: 0.4236 - acc: 0.8900 - val_loss: 1.4939 - val_acc: 0.5625\n",
            "Epoch 29/400\n",
            "8/8 [==============================] - 0s 6ms/step - loss: 0.4560 - acc: 0.8864 - val_loss: 1.4878 - val_acc: 0.5625\n",
            "Epoch 30/400\n",
            "8/8 [==============================] - 0s 5ms/step - loss: 0.4482 - acc: 0.8746 - val_loss: 1.4832 - val_acc: 0.5750\n",
            "Epoch 31/400\n",
            "8/8 [==============================] - 0s 6ms/step - loss: 0.3666 - acc: 0.9095 - val_loss: 1.4768 - val_acc: 0.6000\n",
            "Epoch 32/400\n",
            "8/8 [==============================] - 0s 6ms/step - loss: 0.3871 - acc: 0.9002 - val_loss: 1.4719 - val_acc: 0.6000\n",
            "Epoch 33/400\n",
            "8/8 [==============================] - 0s 6ms/step - loss: 0.3201 - acc: 0.9285 - val_loss: 1.4656 - val_acc: 0.6125\n",
            "Epoch 34/400\n",
            "8/8 [==============================] - 0s 6ms/step - loss: 0.3415 - acc: 0.9181 - val_loss: 1.4612 - val_acc: 0.6125\n",
            "Epoch 35/400\n",
            "8/8 [==============================] - 0s 6ms/step - loss: 0.3492 - acc: 0.9152 - val_loss: 1.4564 - val_acc: 0.6125\n",
            "Epoch 36/400\n",
            "8/8 [==============================] - 0s 6ms/step - loss: 0.3213 - acc: 0.9290 - val_loss: 1.4523 - val_acc: 0.6125\n",
            "Epoch 37/400\n",
            "8/8 [==============================] - 0s 6ms/step - loss: 0.3067 - acc: 0.9393 - val_loss: 1.4479 - val_acc: 0.6125\n",
            "Epoch 38/400\n",
            "8/8 [==============================] - 0s 6ms/step - loss: 0.2934 - acc: 0.9394 - val_loss: 1.4435 - val_acc: 0.6125\n",
            "Epoch 39/400\n",
            "8/8 [==============================] - 0s 6ms/step - loss: 0.2808 - acc: 0.9446 - val_loss: 1.4395 - val_acc: 0.6125\n",
            "Epoch 40/400\n",
            "8/8 [==============================] - 0s 6ms/step - loss: 0.3030 - acc: 0.9462 - val_loss: 1.4352 - val_acc: 0.6125\n",
            "Epoch 41/400\n",
            "8/8 [==============================] - 0s 6ms/step - loss: 0.2801 - acc: 0.9290 - val_loss: 1.4313 - val_acc: 0.6125\n",
            "Epoch 42/400\n",
            "8/8 [==============================] - 0s 6ms/step - loss: 0.2832 - acc: 0.9328 - val_loss: 1.4278 - val_acc: 0.6125\n",
            "Epoch 43/400\n",
            "8/8 [==============================] - 0s 6ms/step - loss: 0.3122 - acc: 0.9216 - val_loss: 1.4237 - val_acc: 0.6125\n",
            "Epoch 44/400\n",
            "8/8 [==============================] - 0s 6ms/step - loss: 0.2689 - acc: 0.9397 - val_loss: 1.4202 - val_acc: 0.6125\n",
            "Epoch 45/400\n",
            "8/8 [==============================] - 0s 6ms/step - loss: 0.2345 - acc: 0.9484 - val_loss: 1.4167 - val_acc: 0.6125\n",
            "Epoch 46/400\n",
            "8/8 [==============================] - 0s 6ms/step - loss: 0.2332 - acc: 0.9574 - val_loss: 1.4130 - val_acc: 0.6125\n",
            "Epoch 47/400\n",
            "8/8 [==============================] - 0s 24ms/step - loss: 0.2394 - acc: 0.9479 - val_loss: 1.4096 - val_acc: 0.6250\n",
            "Epoch 48/400\n",
            "8/8 [==============================] - 0s 6ms/step - loss: 0.2439 - acc: 0.9540 - val_loss: 1.4065 - val_acc: 0.6250\n",
            "Epoch 49/400\n",
            "8/8 [==============================] - 0s 6ms/step - loss: 0.2464 - acc: 0.9406 - val_loss: 1.4037 - val_acc: 0.6250\n",
            "Epoch 50/400\n",
            "8/8 [==============================] - 0s 6ms/step - loss: 0.1977 - acc: 0.9647 - val_loss: 1.4005 - val_acc: 0.6250\n",
            "Epoch 51/400\n",
            "8/8 [==============================] - 0s 6ms/step - loss: 0.2204 - acc: 0.9639 - val_loss: 1.3976 - val_acc: 0.6250\n",
            "Epoch 52/400\n",
            "8/8 [==============================] - 0s 5ms/step - loss: 0.2108 - acc: 0.9601 - val_loss: 1.3946 - val_acc: 0.6250\n",
            "Epoch 53/400\n",
            "8/8 [==============================] - 0s 6ms/step - loss: 0.1845 - acc: 0.9738 - val_loss: 1.3920 - val_acc: 0.6250\n",
            "Epoch 54/400\n",
            "8/8 [==============================] - 0s 6ms/step - loss: 0.2082 - acc: 0.9585 - val_loss: 1.3891 - val_acc: 0.6375\n",
            "Epoch 55/400\n",
            "8/8 [==============================] - 0s 5ms/step - loss: 0.1762 - acc: 0.9708 - val_loss: 1.3865 - val_acc: 0.6375\n",
            "Epoch 56/400\n",
            "8/8 [==============================] - 0s 6ms/step - loss: 0.1779 - acc: 0.9752 - val_loss: 1.3839 - val_acc: 0.6375\n",
            "Epoch 57/400\n",
            "8/8 [==============================] - 0s 6ms/step - loss: 0.2057 - acc: 0.9707 - val_loss: 1.3813 - val_acc: 0.6375\n",
            "Epoch 58/400\n",
            "8/8 [==============================] - 0s 6ms/step - loss: 0.1990 - acc: 0.9687 - val_loss: 1.3792 - val_acc: 0.6375\n",
            "Epoch 59/400\n",
            "8/8 [==============================] - 0s 6ms/step - loss: 0.1811 - acc: 0.9727 - val_loss: 1.3771 - val_acc: 0.6375\n",
            "Epoch 60/400\n",
            "8/8 [==============================] - 0s 6ms/step - loss: 0.1750 - acc: 0.9770 - val_loss: 1.3749 - val_acc: 0.6375\n",
            "Epoch 61/400\n",
            "8/8 [==============================] - 0s 6ms/step - loss: 0.1610 - acc: 0.9736 - val_loss: 1.3725 - val_acc: 0.6250\n",
            "Epoch 62/400\n",
            "8/8 [==============================] - 0s 6ms/step - loss: 0.1588 - acc: 0.9712 - val_loss: 1.3704 - val_acc: 0.6250\n",
            "Epoch 63/400\n",
            "8/8 [==============================] - 0s 7ms/step - loss: 0.1678 - acc: 0.9731 - val_loss: 1.3685 - val_acc: 0.6250\n",
            "Epoch 64/400\n",
            "8/8 [==============================] - 0s 6ms/step - loss: 0.1791 - acc: 0.9660 - val_loss: 1.3669 - val_acc: 0.6250\n",
            "Epoch 65/400\n",
            "8/8 [==============================] - 0s 6ms/step - loss: 0.1452 - acc: 0.9812 - val_loss: 1.3647 - val_acc: 0.6250\n",
            "Epoch 66/400\n",
            "8/8 [==============================] - 0s 6ms/step - loss: 0.1621 - acc: 0.9813 - val_loss: 1.3627 - val_acc: 0.6250\n",
            "Epoch 67/400\n",
            "8/8 [==============================] - 0s 6ms/step - loss: 0.1480 - acc: 0.9862 - val_loss: 1.3609 - val_acc: 0.6250\n",
            "Epoch 68/400\n",
            "8/8 [==============================] - 0s 6ms/step - loss: 0.1411 - acc: 0.9789 - val_loss: 1.3591 - val_acc: 0.6250\n",
            "Epoch 69/400\n",
            "8/8 [==============================] - 0s 6ms/step - loss: 0.1567 - acc: 0.9719 - val_loss: 1.3570 - val_acc: 0.6250\n",
            "Epoch 70/400\n",
            "8/8 [==============================] - 0s 6ms/step - loss: 0.1324 - acc: 0.9808 - val_loss: 1.3555 - val_acc: 0.6250\n",
            "Epoch 71/400\n",
            "8/8 [==============================] - 0s 7ms/step - loss: 0.1244 - acc: 0.9858 - val_loss: 1.3536 - val_acc: 0.6250\n",
            "Epoch 72/400\n",
            "8/8 [==============================] - 0s 6ms/step - loss: 0.1606 - acc: 0.9693 - val_loss: 1.3521 - val_acc: 0.6250\n",
            "Epoch 73/400\n",
            "8/8 [==============================] - 0s 6ms/step - loss: 0.1306 - acc: 0.9807 - val_loss: 1.3504 - val_acc: 0.6375\n",
            "Epoch 74/400\n",
            "8/8 [==============================] - 0s 6ms/step - loss: 0.1412 - acc: 0.9785 - val_loss: 1.3488 - val_acc: 0.6375\n",
            "Epoch 75/400\n",
            "8/8 [==============================] - 0s 6ms/step - loss: 0.1448 - acc: 0.9773 - val_loss: 1.3475 - val_acc: 0.6375\n",
            "Epoch 76/400\n",
            "8/8 [==============================] - 0s 6ms/step - loss: 0.1143 - acc: 0.9832 - val_loss: 1.3460 - val_acc: 0.6375\n",
            "Epoch 77/400\n",
            "8/8 [==============================] - 0s 6ms/step - loss: 0.1229 - acc: 0.9845 - val_loss: 1.3446 - val_acc: 0.6375\n",
            "Epoch 78/400\n",
            "8/8 [==============================] - 0s 6ms/step - loss: 0.1310 - acc: 0.9852 - val_loss: 1.3434 - val_acc: 0.6375\n",
            "Epoch 79/400\n",
            "8/8 [==============================] - 0s 6ms/step - loss: 0.1138 - acc: 0.9948 - val_loss: 1.3421 - val_acc: 0.6375\n",
            "Epoch 80/400\n",
            "8/8 [==============================] - 0s 6ms/step - loss: 0.1232 - acc: 0.9931 - val_loss: 1.3404 - val_acc: 0.6375\n",
            "Epoch 81/400\n",
            "8/8 [==============================] - 0s 6ms/step - loss: 0.1022 - acc: 0.9945 - val_loss: 1.3390 - val_acc: 0.6375\n",
            "Epoch 82/400\n",
            "8/8 [==============================] - 0s 6ms/step - loss: 0.1027 - acc: 0.9919 - val_loss: 1.3379 - val_acc: 0.6375\n",
            "Epoch 83/400\n",
            "8/8 [==============================] - 0s 6ms/step - loss: 0.1090 - acc: 0.9918 - val_loss: 1.3369 - val_acc: 0.6375\n",
            "Epoch 84/400\n",
            "8/8 [==============================] - 0s 7ms/step - loss: 0.0963 - acc: 0.9946 - val_loss: 1.3355 - val_acc: 0.6375\n",
            "Epoch 85/400\n",
            "8/8 [==============================] - 0s 6ms/step - loss: 0.0973 - acc: 0.9941 - val_loss: 1.3342 - val_acc: 0.6375\n",
            "Epoch 86/400\n",
            "8/8 [==============================] - 0s 7ms/step - loss: 0.1075 - acc: 0.9942 - val_loss: 1.3331 - val_acc: 0.6375\n",
            "Epoch 87/400\n",
            "8/8 [==============================] - 0s 6ms/step - loss: 0.1132 - acc: 0.9870 - val_loss: 1.3319 - val_acc: 0.6375\n",
            "Epoch 88/400\n",
            "8/8 [==============================] - 0s 6ms/step - loss: 0.1112 - acc: 0.9870 - val_loss: 1.3310 - val_acc: 0.6375\n",
            "Epoch 89/400\n",
            "8/8 [==============================] - 0s 6ms/step - loss: 0.1002 - acc: 0.9972 - val_loss: 1.3296 - val_acc: 0.6375\n",
            "Epoch 90/400\n",
            "8/8 [==============================] - 0s 6ms/step - loss: 0.1009 - acc: 0.9921 - val_loss: 1.3284 - val_acc: 0.6375\n",
            "Epoch 91/400\n",
            "8/8 [==============================] - 0s 6ms/step - loss: 0.0976 - acc: 0.9942 - val_loss: 1.3274 - val_acc: 0.6375\n",
            "Epoch 92/400\n",
            "8/8 [==============================] - 0s 7ms/step - loss: 0.0895 - acc: 0.9928 - val_loss: 1.3264 - val_acc: 0.6375\n",
            "Epoch 93/400\n",
            "8/8 [==============================] - 0s 6ms/step - loss: 0.0939 - acc: 0.9900 - val_loss: 1.3251 - val_acc: 0.6375\n",
            "Epoch 94/400\n",
            "8/8 [==============================] - 0s 6ms/step - loss: 0.0903 - acc: 0.9965 - val_loss: 1.3242 - val_acc: 0.6375\n",
            "Epoch 95/400\n",
            "8/8 [==============================] - 0s 6ms/step - loss: 0.0892 - acc: 0.9942 - val_loss: 1.3235 - val_acc: 0.6375\n",
            "Epoch 96/400\n",
            "8/8 [==============================] - 0s 6ms/step - loss: 0.0914 - acc: 0.9951 - val_loss: 1.3224 - val_acc: 0.6375\n",
            "Epoch 97/400\n",
            "8/8 [==============================] - 0s 6ms/step - loss: 0.0863 - acc: 0.9944 - val_loss: 1.3213 - val_acc: 0.6375\n",
            "Epoch 98/400\n",
            "8/8 [==============================] - 0s 6ms/step - loss: 0.0771 - acc: 0.9942 - val_loss: 1.3202 - val_acc: 0.6375\n",
            "Epoch 99/400\n",
            "8/8 [==============================] - 0s 6ms/step - loss: 0.0743 - acc: 0.9956 - val_loss: 1.3191 - val_acc: 0.6250\n",
            "Epoch 100/400\n",
            "8/8 [==============================] - 0s 6ms/step - loss: 0.0819 - acc: 0.9928 - val_loss: 1.3183 - val_acc: 0.6250\n",
            "Epoch 101/400\n",
            "8/8 [==============================] - 0s 7ms/step - loss: 0.0752 - acc: 0.9961 - val_loss: 1.3172 - val_acc: 0.6250\n",
            "Epoch 102/400\n",
            "8/8 [==============================] - 0s 6ms/step - loss: 0.0795 - acc: 0.9956 - val_loss: 1.3164 - val_acc: 0.6250\n",
            "Epoch 103/400\n",
            "8/8 [==============================] - 0s 22ms/step - loss: 0.0702 - acc: 0.9986 - val_loss: 1.3155 - val_acc: 0.6250\n",
            "Epoch 104/400\n",
            "8/8 [==============================] - 0s 6ms/step - loss: 0.0719 - acc: 0.9938 - val_loss: 1.3146 - val_acc: 0.6250\n",
            "Epoch 105/400\n",
            "8/8 [==============================] - 0s 6ms/step - loss: 0.0776 - acc: 0.9921 - val_loss: 1.3135 - val_acc: 0.6250\n",
            "Epoch 106/400\n",
            "8/8 [==============================] - 0s 6ms/step - loss: 0.0712 - acc: 0.9968 - val_loss: 1.3127 - val_acc: 0.6250\n",
            "Epoch 107/400\n",
            "8/8 [==============================] - 0s 6ms/step - loss: 0.0784 - acc: 0.9938 - val_loss: 1.3117 - val_acc: 0.6250\n",
            "Epoch 108/400\n",
            "8/8 [==============================] - 0s 6ms/step - loss: 0.0659 - acc: 0.9963 - val_loss: 1.3110 - val_acc: 0.6250\n",
            "Epoch 109/400\n",
            "8/8 [==============================] - 0s 6ms/step - loss: 0.0686 - acc: 0.9982 - val_loss: 1.3103 - val_acc: 0.6250\n",
            "Epoch 110/400\n",
            "8/8 [==============================] - 0s 7ms/step - loss: 0.0778 - acc: 0.9870 - val_loss: 1.3093 - val_acc: 0.6250\n",
            "Epoch 111/400\n",
            "8/8 [==============================] - 0s 7ms/step - loss: 0.0662 - acc: 0.9933 - val_loss: 1.3086 - val_acc: 0.6250\n",
            "Epoch 112/400\n",
            "8/8 [==============================] - 0s 6ms/step - loss: 0.0709 - acc: 0.9961 - val_loss: 1.3078 - val_acc: 0.6250\n",
            "Epoch 113/400\n",
            "8/8 [==============================] - 0s 6ms/step - loss: 0.0712 - acc: 0.9942 - val_loss: 1.3071 - val_acc: 0.6250\n",
            "Epoch 114/400\n",
            "8/8 [==============================] - 0s 8ms/step - loss: 0.0645 - acc: 0.9978 - val_loss: 1.3064 - val_acc: 0.6250\n",
            "Epoch 115/400\n",
            "8/8 [==============================] - 0s 6ms/step - loss: 0.0711 - acc: 0.9933 - val_loss: 1.3059 - val_acc: 0.6250\n",
            "Epoch 116/400\n",
            "8/8 [==============================] - 0s 7ms/step - loss: 0.0588 - acc: 0.9974 - val_loss: 1.3050 - val_acc: 0.6250\n",
            "Epoch 117/400\n",
            "8/8 [==============================] - 0s 6ms/step - loss: 0.0636 - acc: 0.9928 - val_loss: 1.3042 - val_acc: 0.6250\n",
            "Epoch 118/400\n",
            "8/8 [==============================] - 0s 6ms/step - loss: 0.0660 - acc: 0.9912 - val_loss: 1.3036 - val_acc: 0.6250\n",
            "Epoch 119/400\n",
            "8/8 [==============================] - 0s 6ms/step - loss: 0.0651 - acc: 0.9963 - val_loss: 1.3031 - val_acc: 0.6250\n",
            "Epoch 120/400\n",
            "8/8 [==============================] - 0s 6ms/step - loss: 0.0560 - acc: 0.9972 - val_loss: 1.3026 - val_acc: 0.6250\n",
            "Epoch 121/400\n",
            "8/8 [==============================] - 0s 6ms/step - loss: 0.0626 - acc: 0.9921 - val_loss: 1.3022 - val_acc: 0.6250\n",
            "Epoch 122/400\n",
            "8/8 [==============================] - 0s 6ms/step - loss: 0.0632 - acc: 0.9972 - val_loss: 1.3015 - val_acc: 0.6250\n",
            "Epoch 123/400\n",
            "8/8 [==============================] - 0s 7ms/step - loss: 0.0489 - acc: 0.9993 - val_loss: 1.3009 - val_acc: 0.6250\n",
            "Epoch 124/400\n",
            "8/8 [==============================] - 0s 8ms/step - loss: 0.0595 - acc: 0.9993 - val_loss: 1.3005 - val_acc: 0.6250\n",
            "Epoch 125/400\n",
            "8/8 [==============================] - 0s 6ms/step - loss: 0.0597 - acc: 0.9984 - val_loss: 1.3001 - val_acc: 0.6250\n",
            "Epoch 126/400\n",
            "8/8 [==============================] - 0s 6ms/step - loss: 0.0521 - acc: 0.9984 - val_loss: 1.2995 - val_acc: 0.6250\n",
            "Epoch 127/400\n",
            "8/8 [==============================] - 0s 6ms/step - loss: 0.0510 - acc: 0.9993 - val_loss: 1.2989 - val_acc: 0.6250\n",
            "Epoch 128/400\n",
            "8/8 [==============================] - 0s 7ms/step - loss: 0.0528 - acc: 0.9972 - val_loss: 1.2984 - val_acc: 0.6250\n",
            "Epoch 129/400\n",
            "8/8 [==============================] - 0s 8ms/step - loss: 0.0548 - acc: 0.9989 - val_loss: 1.2979 - val_acc: 0.6250\n",
            "Epoch 130/400\n",
            "8/8 [==============================] - 0s 6ms/step - loss: 0.0554 - acc: 1.0000 - val_loss: 1.2972 - val_acc: 0.6250\n",
            "Epoch 131/400\n",
            "8/8 [==============================] - 0s 6ms/step - loss: 0.0539 - acc: 1.0000 - val_loss: 1.2969 - val_acc: 0.6250\n",
            "Epoch 132/400\n",
            "8/8 [==============================] - 0s 6ms/step - loss: 0.0591 - acc: 1.0000 - val_loss: 1.2967 - val_acc: 0.6250\n",
            "Epoch 133/400\n",
            "8/8 [==============================] - 0s 7ms/step - loss: 0.0445 - acc: 1.0000 - val_loss: 1.2961 - val_acc: 0.6250\n",
            "Epoch 134/400\n",
            "8/8 [==============================] - 0s 6ms/step - loss: 0.0500 - acc: 1.0000 - val_loss: 1.2955 - val_acc: 0.6250\n",
            "Epoch 135/400\n",
            "8/8 [==============================] - 0s 7ms/step - loss: 0.0493 - acc: 1.0000 - val_loss: 1.2951 - val_acc: 0.6250\n",
            "Epoch 136/400\n",
            "8/8 [==============================] - 0s 6ms/step - loss: 0.0513 - acc: 1.0000 - val_loss: 1.2948 - val_acc: 0.6250\n",
            "Epoch 137/400\n",
            "8/8 [==============================] - 0s 7ms/step - loss: 0.0441 - acc: 1.0000 - val_loss: 1.2946 - val_acc: 0.6250\n",
            "Epoch 138/400\n",
            "8/8 [==============================] - 0s 7ms/step - loss: 0.0475 - acc: 1.0000 - val_loss: 1.2939 - val_acc: 0.6250\n",
            "Epoch 139/400\n",
            "8/8 [==============================] - 0s 6ms/step - loss: 0.0451 - acc: 1.0000 - val_loss: 1.2933 - val_acc: 0.6250\n",
            "Epoch 140/400\n",
            "8/8 [==============================] - 0s 7ms/step - loss: 0.0428 - acc: 1.0000 - val_loss: 1.2929 - val_acc: 0.6250\n",
            "Epoch 141/400\n",
            "8/8 [==============================] - 0s 6ms/step - loss: 0.0449 - acc: 1.0000 - val_loss: 1.2925 - val_acc: 0.6250\n",
            "Epoch 142/400\n",
            "8/8 [==============================] - 0s 6ms/step - loss: 0.0461 - acc: 1.0000 - val_loss: 1.2920 - val_acc: 0.6250\n",
            "Epoch 143/400\n",
            "8/8 [==============================] - 0s 7ms/step - loss: 0.0432 - acc: 1.0000 - val_loss: 1.2916 - val_acc: 0.6250\n",
            "Epoch 144/400\n",
            "8/8 [==============================] - 0s 6ms/step - loss: 0.0393 - acc: 1.0000 - val_loss: 1.2913 - val_acc: 0.6250\n",
            "Epoch 145/400\n",
            "8/8 [==============================] - 0s 6ms/step - loss: 0.0452 - acc: 1.0000 - val_loss: 1.2910 - val_acc: 0.6250\n",
            "Epoch 146/400\n",
            "8/8 [==============================] - 0s 6ms/step - loss: 0.0395 - acc: 1.0000 - val_loss: 1.2903 - val_acc: 0.6250\n",
            "Epoch 147/400\n",
            "8/8 [==============================] - 0s 7ms/step - loss: 0.0499 - acc: 1.0000 - val_loss: 1.2901 - val_acc: 0.6250\n",
            "Epoch 148/400\n",
            "8/8 [==============================] - 0s 8ms/step - loss: 0.0444 - acc: 1.0000 - val_loss: 1.2899 - val_acc: 0.6250\n",
            "Epoch 149/400\n",
            "8/8 [==============================] - 0s 6ms/step - loss: 0.0423 - acc: 1.0000 - val_loss: 1.2896 - val_acc: 0.6250\n",
            "Epoch 150/400\n",
            "8/8 [==============================] - 0s 6ms/step - loss: 0.0375 - acc: 1.0000 - val_loss: 1.2892 - val_acc: 0.6250\n",
            "Epoch 151/400\n",
            "8/8 [==============================] - 0s 6ms/step - loss: 0.0403 - acc: 1.0000 - val_loss: 1.2887 - val_acc: 0.6250\n",
            "Epoch 152/400\n",
            "8/8 [==============================] - 0s 6ms/step - loss: 0.0421 - acc: 1.0000 - val_loss: 1.2886 - val_acc: 0.6250\n",
            "Epoch 153/400\n",
            "8/8 [==============================] - 0s 6ms/step - loss: 0.0465 - acc: 1.0000 - val_loss: 1.2883 - val_acc: 0.6250\n",
            "Epoch 154/400\n",
            "8/8 [==============================] - 0s 6ms/step - loss: 0.0392 - acc: 1.0000 - val_loss: 1.2879 - val_acc: 0.6250\n",
            "Epoch 155/400\n",
            "8/8 [==============================] - 0s 7ms/step - loss: 0.0389 - acc: 1.0000 - val_loss: 1.2875 - val_acc: 0.6250\n",
            "Epoch 156/400\n",
            "8/8 [==============================] - 0s 6ms/step - loss: 0.0377 - acc: 1.0000 - val_loss: 1.2872 - val_acc: 0.6250\n",
            "Epoch 157/400\n",
            "8/8 [==============================] - 0s 6ms/step - loss: 0.0349 - acc: 1.0000 - val_loss: 1.2869 - val_acc: 0.6250\n",
            "Epoch 158/400\n",
            "8/8 [==============================] - 0s 6ms/step - loss: 0.0351 - acc: 1.0000 - val_loss: 1.2867 - val_acc: 0.6250\n",
            "Epoch 159/400\n",
            "8/8 [==============================] - 0s 22ms/step - loss: 0.0378 - acc: 1.0000 - val_loss: 1.2865 - val_acc: 0.6250\n",
            "Epoch 160/400\n",
            "8/8 [==============================] - 0s 6ms/step - loss: 0.0354 - acc: 1.0000 - val_loss: 1.2863 - val_acc: 0.6250\n",
            "Epoch 161/400\n",
            "8/8 [==============================] - 0s 7ms/step - loss: 0.0371 - acc: 1.0000 - val_loss: 1.2861 - val_acc: 0.6375\n",
            "Epoch 162/400\n",
            "8/8 [==============================] - 0s 6ms/step - loss: 0.0360 - acc: 1.0000 - val_loss: 1.2857 - val_acc: 0.6375\n",
            "Epoch 163/400\n",
            "8/8 [==============================] - 0s 6ms/step - loss: 0.0334 - acc: 1.0000 - val_loss: 1.2856 - val_acc: 0.6375\n",
            "Epoch 164/400\n",
            "8/8 [==============================] - 0s 6ms/step - loss: 0.0380 - acc: 1.0000 - val_loss: 1.2854 - val_acc: 0.6375\n",
            "Epoch 165/400\n",
            "8/8 [==============================] - 0s 7ms/step - loss: 0.0354 - acc: 1.0000 - val_loss: 1.2850 - val_acc: 0.6375\n",
            "Epoch 166/400\n",
            "8/8 [==============================] - 0s 7ms/step - loss: 0.0363 - acc: 1.0000 - val_loss: 1.2849 - val_acc: 0.6375\n",
            "Epoch 167/400\n",
            "8/8 [==============================] - 0s 6ms/step - loss: 0.0389 - acc: 1.0000 - val_loss: 1.2847 - val_acc: 0.6375\n",
            "Epoch 168/400\n",
            "8/8 [==============================] - 0s 6ms/step - loss: 0.0364 - acc: 1.0000 - val_loss: 1.2844 - val_acc: 0.6375\n",
            "Epoch 169/400\n",
            "8/8 [==============================] - 0s 6ms/step - loss: 0.0325 - acc: 1.0000 - val_loss: 1.2844 - val_acc: 0.6375\n",
            "Epoch 170/400\n",
            "8/8 [==============================] - 0s 6ms/step - loss: 0.0342 - acc: 1.0000 - val_loss: 1.2840 - val_acc: 0.6375\n",
            "Epoch 171/400\n",
            "8/8 [==============================] - 0s 6ms/step - loss: 0.0377 - acc: 1.0000 - val_loss: 1.2839 - val_acc: 0.6375\n",
            "Epoch 172/400\n",
            "8/8 [==============================] - 0s 6ms/step - loss: 0.0359 - acc: 1.0000 - val_loss: 1.2837 - val_acc: 0.6375\n",
            "Epoch 173/400\n",
            "8/8 [==============================] - 0s 7ms/step - loss: 0.0368 - acc: 1.0000 - val_loss: 1.2836 - val_acc: 0.6375\n",
            "Epoch 174/400\n",
            "8/8 [==============================] - 0s 6ms/step - loss: 0.0294 - acc: 1.0000 - val_loss: 1.2834 - val_acc: 0.6375\n",
            "Epoch 175/400\n",
            "8/8 [==============================] - 0s 6ms/step - loss: 0.0323 - acc: 1.0000 - val_loss: 1.2833 - val_acc: 0.6375\n",
            "Epoch 176/400\n",
            "8/8 [==============================] - 0s 6ms/step - loss: 0.0293 - acc: 1.0000 - val_loss: 1.2831 - val_acc: 0.6375\n",
            "Epoch 177/400\n",
            "8/8 [==============================] - 0s 7ms/step - loss: 0.0341 - acc: 1.0000 - val_loss: 1.2830 - val_acc: 0.6375\n",
            "Epoch 178/400\n",
            "8/8 [==============================] - 0s 6ms/step - loss: 0.0311 - acc: 1.0000 - val_loss: 1.2828 - val_acc: 0.6375\n",
            "Epoch 179/400\n",
            "8/8 [==============================] - 0s 6ms/step - loss: 0.0320 - acc: 1.0000 - val_loss: 1.2829 - val_acc: 0.6375\n",
            "Epoch 180/400\n",
            "8/8 [==============================] - 0s 6ms/step - loss: 0.0293 - acc: 1.0000 - val_loss: 1.2827 - val_acc: 0.6375\n",
            "Epoch 181/400\n",
            "8/8 [==============================] - 0s 7ms/step - loss: 0.0309 - acc: 1.0000 - val_loss: 1.2825 - val_acc: 0.6375\n",
            "Epoch 182/400\n",
            "8/8 [==============================] - 0s 7ms/step - loss: 0.0314 - acc: 1.0000 - val_loss: 1.2825 - val_acc: 0.6375\n",
            "Epoch 183/400\n",
            "8/8 [==============================] - 0s 7ms/step - loss: 0.0317 - acc: 1.0000 - val_loss: 1.2822 - val_acc: 0.6375\n",
            "Epoch 184/400\n",
            "8/8 [==============================] - 0s 7ms/step - loss: 0.0318 - acc: 1.0000 - val_loss: 1.2821 - val_acc: 0.6375\n",
            "Epoch 185/400\n",
            "8/8 [==============================] - 0s 6ms/step - loss: 0.0282 - acc: 1.0000 - val_loss: 1.2822 - val_acc: 0.6375\n",
            "Epoch 186/400\n",
            "8/8 [==============================] - 0s 7ms/step - loss: 0.0279 - acc: 1.0000 - val_loss: 1.2819 - val_acc: 0.6375\n",
            "Epoch 187/400\n",
            "8/8 [==============================] - 0s 6ms/step - loss: 0.0274 - acc: 1.0000 - val_loss: 1.2819 - val_acc: 0.6375\n",
            "Epoch 188/400\n",
            "8/8 [==============================] - 0s 7ms/step - loss: 0.0285 - acc: 1.0000 - val_loss: 1.2817 - val_acc: 0.6500\n",
            "Epoch 189/400\n",
            "8/8 [==============================] - 0s 7ms/step - loss: 0.0283 - acc: 1.0000 - val_loss: 1.2815 - val_acc: 0.6500\n",
            "Epoch 190/400\n",
            "8/8 [==============================] - 0s 6ms/step - loss: 0.0290 - acc: 1.0000 - val_loss: 1.2815 - val_acc: 0.6500\n",
            "Epoch 191/400\n",
            "8/8 [==============================] - 0s 6ms/step - loss: 0.0287 - acc: 1.0000 - val_loss: 1.2814 - val_acc: 0.6500\n",
            "Epoch 192/400\n",
            "8/8 [==============================] - 0s 7ms/step - loss: 0.0254 - acc: 1.0000 - val_loss: 1.2814 - val_acc: 0.6500\n",
            "Epoch 193/400\n",
            "8/8 [==============================] - 0s 6ms/step - loss: 0.0253 - acc: 1.0000 - val_loss: 1.2811 - val_acc: 0.6500\n",
            "Epoch 194/400\n",
            "8/8 [==============================] - 0s 6ms/step - loss: 0.0283 - acc: 1.0000 - val_loss: 1.2811 - val_acc: 0.6500\n",
            "Epoch 195/400\n",
            "8/8 [==============================] - 0s 7ms/step - loss: 0.0299 - acc: 1.0000 - val_loss: 1.2811 - val_acc: 0.6500\n",
            "Epoch 196/400\n",
            "8/8 [==============================] - 0s 6ms/step - loss: 0.0295 - acc: 1.0000 - val_loss: 1.2809 - val_acc: 0.6500\n",
            "Epoch 197/400\n",
            "8/8 [==============================] - 0s 6ms/step - loss: 0.0319 - acc: 1.0000 - val_loss: 1.2810 - val_acc: 0.6500\n",
            "Epoch 198/400\n",
            "8/8 [==============================] - 0s 7ms/step - loss: 0.0267 - acc: 1.0000 - val_loss: 1.2808 - val_acc: 0.6500\n",
            "Epoch 199/400\n",
            "8/8 [==============================] - 0s 7ms/step - loss: 0.0236 - acc: 1.0000 - val_loss: 1.2808 - val_acc: 0.6500\n",
            "Epoch 200/400\n",
            "8/8 [==============================] - 0s 7ms/step - loss: 0.0252 - acc: 1.0000 - val_loss: 1.2807 - val_acc: 0.6500\n",
            "Epoch 201/400\n",
            "8/8 [==============================] - 0s 6ms/step - loss: 0.0290 - acc: 1.0000 - val_loss: 1.2807 - val_acc: 0.6500\n",
            "Epoch 202/400\n",
            "8/8 [==============================] - 0s 6ms/step - loss: 0.0266 - acc: 1.0000 - val_loss: 1.2807 - val_acc: 0.6500\n",
            "Epoch 203/400\n",
            "8/8 [==============================] - 0s 6ms/step - loss: 0.0288 - acc: 1.0000 - val_loss: 1.2804 - val_acc: 0.6500\n",
            "Epoch 204/400\n",
            "8/8 [==============================] - 0s 7ms/step - loss: 0.0253 - acc: 1.0000 - val_loss: 1.2804 - val_acc: 0.6500\n",
            "Epoch 205/400\n",
            "8/8 [==============================] - 0s 6ms/step - loss: 0.0258 - acc: 1.0000 - val_loss: 1.2804 - val_acc: 0.6500\n",
            "Epoch 206/400\n",
            "8/8 [==============================] - 0s 7ms/step - loss: 0.0259 - acc: 1.0000 - val_loss: 1.2803 - val_acc: 0.6500\n",
            "Epoch 207/400\n",
            "8/8 [==============================] - 0s 6ms/step - loss: 0.0274 - acc: 1.0000 - val_loss: 1.2802 - val_acc: 0.6500\n",
            "Epoch 208/400\n",
            "8/8 [==============================] - 0s 6ms/step - loss: 0.0254 - acc: 1.0000 - val_loss: 1.2801 - val_acc: 0.6500\n",
            "Epoch 209/400\n",
            "8/8 [==============================] - 0s 7ms/step - loss: 0.0235 - acc: 1.0000 - val_loss: 1.2801 - val_acc: 0.6500\n",
            "Epoch 210/400\n",
            "8/8 [==============================] - 0s 6ms/step - loss: 0.0246 - acc: 1.0000 - val_loss: 1.2801 - val_acc: 0.6500\n",
            "Epoch 211/400\n",
            "8/8 [==============================] - 0s 6ms/step - loss: 0.0234 - acc: 1.0000 - val_loss: 1.2801 - val_acc: 0.6500\n",
            "Epoch 212/400\n",
            "8/8 [==============================] - 0s 7ms/step - loss: 0.0248 - acc: 1.0000 - val_loss: 1.2800 - val_acc: 0.6500\n",
            "Epoch 213/400\n",
            "8/8 [==============================] - 0s 6ms/step - loss: 0.0225 - acc: 1.0000 - val_loss: 1.2799 - val_acc: 0.6500\n",
            "Epoch 214/400\n",
            "8/8 [==============================] - 0s 6ms/step - loss: 0.0253 - acc: 1.0000 - val_loss: 1.2798 - val_acc: 0.6500\n",
            "Epoch 215/400\n",
            "8/8 [==============================] - 0s 22ms/step - loss: 0.0215 - acc: 1.0000 - val_loss: 1.2797 - val_acc: 0.6500\n",
            "Epoch 216/400\n",
            "8/8 [==============================] - 0s 6ms/step - loss: 0.0231 - acc: 1.0000 - val_loss: 1.2798 - val_acc: 0.6500\n",
            "Epoch 217/400\n",
            "8/8 [==============================] - 0s 7ms/step - loss: 0.0223 - acc: 1.0000 - val_loss: 1.2797 - val_acc: 0.6500\n",
            "Epoch 218/400\n",
            "8/8 [==============================] - 0s 6ms/step - loss: 0.0258 - acc: 1.0000 - val_loss: 1.2795 - val_acc: 0.6500\n",
            "Epoch 219/400\n",
            "8/8 [==============================] - 0s 6ms/step - loss: 0.0224 - acc: 1.0000 - val_loss: 1.2794 - val_acc: 0.6500\n",
            "Epoch 220/400\n",
            "8/8 [==============================] - 0s 7ms/step - loss: 0.0238 - acc: 1.0000 - val_loss: 1.2794 - val_acc: 0.6500\n",
            "Epoch 221/400\n",
            "8/8 [==============================] - 0s 7ms/step - loss: 0.0237 - acc: 1.0000 - val_loss: 1.2793 - val_acc: 0.6500\n",
            "Epoch 222/400\n",
            "8/8 [==============================] - 0s 6ms/step - loss: 0.0205 - acc: 1.0000 - val_loss: 1.2792 - val_acc: 0.6500\n",
            "Epoch 223/400\n",
            "8/8 [==============================] - 0s 6ms/step - loss: 0.0224 - acc: 1.0000 - val_loss: 1.2793 - val_acc: 0.6500\n",
            "Epoch 224/400\n",
            "8/8 [==============================] - 0s 6ms/step - loss: 0.0215 - acc: 1.0000 - val_loss: 1.2792 - val_acc: 0.6500\n",
            "Epoch 225/400\n",
            "8/8 [==============================] - 0s 7ms/step - loss: 0.0221 - acc: 1.0000 - val_loss: 1.2792 - val_acc: 0.6500\n",
            "Epoch 226/400\n",
            "8/8 [==============================] - 0s 6ms/step - loss: 0.0205 - acc: 1.0000 - val_loss: 1.2791 - val_acc: 0.6500\n",
            "Epoch 227/400\n",
            "8/8 [==============================] - 0s 6ms/step - loss: 0.0202 - acc: 1.0000 - val_loss: 1.2791 - val_acc: 0.6500\n",
            "Epoch 228/400\n",
            "8/8 [==============================] - 0s 6ms/step - loss: 0.0218 - acc: 1.0000 - val_loss: 1.2789 - val_acc: 0.6500\n",
            "Epoch 229/400\n",
            "8/8 [==============================] - 0s 7ms/step - loss: 0.0215 - acc: 1.0000 - val_loss: 1.2789 - val_acc: 0.6500\n",
            "Epoch 230/400\n",
            "8/8 [==============================] - 0s 7ms/step - loss: 0.0228 - acc: 1.0000 - val_loss: 1.2790 - val_acc: 0.6500\n",
            "Epoch 231/400\n",
            "8/8 [==============================] - 0s 6ms/step - loss: 0.0235 - acc: 1.0000 - val_loss: 1.2789 - val_acc: 0.6500\n",
            "Epoch 232/400\n",
            "8/8 [==============================] - 0s 6ms/step - loss: 0.0202 - acc: 1.0000 - val_loss: 1.2789 - val_acc: 0.6500\n",
            "Epoch 233/400\n",
            "8/8 [==============================] - 0s 9ms/step - loss: 0.0204 - acc: 1.0000 - val_loss: 1.2788 - val_acc: 0.6500\n",
            "Epoch 234/400\n",
            "8/8 [==============================] - 0s 6ms/step - loss: 0.0188 - acc: 1.0000 - val_loss: 1.2788 - val_acc: 0.6500\n",
            "Epoch 235/400\n",
            "8/8 [==============================] - 0s 6ms/step - loss: 0.0195 - acc: 1.0000 - val_loss: 1.2788 - val_acc: 0.6500\n",
            "Epoch 236/400\n",
            "8/8 [==============================] - 0s 7ms/step - loss: 0.0209 - acc: 1.0000 - val_loss: 1.2787 - val_acc: 0.6500\n",
            "Epoch 237/400\n",
            "8/8 [==============================] - 0s 7ms/step - loss: 0.0203 - acc: 1.0000 - val_loss: 1.2787 - val_acc: 0.6500\n",
            "Epoch 238/400\n",
            "8/8 [==============================] - 0s 7ms/step - loss: 0.0195 - acc: 1.0000 - val_loss: 1.2786 - val_acc: 0.6500\n",
            "Epoch 239/400\n",
            "8/8 [==============================] - 0s 6ms/step - loss: 0.0198 - acc: 1.0000 - val_loss: 1.2786 - val_acc: 0.6500\n",
            "Epoch 240/400\n",
            "8/8 [==============================] - 0s 8ms/step - loss: 0.0225 - acc: 1.0000 - val_loss: 1.2785 - val_acc: 0.6500\n",
            "Epoch 241/400\n",
            "8/8 [==============================] - 0s 6ms/step - loss: 0.0190 - acc: 1.0000 - val_loss: 1.2785 - val_acc: 0.6625\n",
            "Epoch 242/400\n",
            "8/8 [==============================] - 0s 6ms/step - loss: 0.0187 - acc: 1.0000 - val_loss: 1.2785 - val_acc: 0.6625\n",
            "Epoch 243/400\n",
            "8/8 [==============================] - 0s 6ms/step - loss: 0.0196 - acc: 1.0000 - val_loss: 1.2784 - val_acc: 0.6625\n",
            "Epoch 244/400\n",
            "8/8 [==============================] - 0s 6ms/step - loss: 0.0196 - acc: 1.0000 - val_loss: 1.2784 - val_acc: 0.6625\n",
            "Epoch 245/400\n",
            "8/8 [==============================] - 0s 7ms/step - loss: 0.0187 - acc: 1.0000 - val_loss: 1.2783 - val_acc: 0.6625\n",
            "Epoch 246/400\n",
            "8/8 [==============================] - 0s 7ms/step - loss: 0.0203 - acc: 1.0000 - val_loss: 1.2783 - val_acc: 0.6625\n",
            "Epoch 247/400\n",
            "8/8 [==============================] - 0s 6ms/step - loss: 0.0199 - acc: 1.0000 - val_loss: 1.2784 - val_acc: 0.6625\n",
            "Epoch 248/400\n",
            "8/8 [==============================] - 0s 7ms/step - loss: 0.0200 - acc: 1.0000 - val_loss: 1.2783 - val_acc: 0.6625\n",
            "Epoch 249/400\n",
            "8/8 [==============================] - 0s 7ms/step - loss: 0.0227 - acc: 1.0000 - val_loss: 1.2783 - val_acc: 0.6625\n",
            "Epoch 250/400\n",
            "8/8 [==============================] - 0s 7ms/step - loss: 0.0196 - acc: 1.0000 - val_loss: 1.2783 - val_acc: 0.6625\n",
            "Epoch 251/400\n",
            "8/8 [==============================] - 0s 7ms/step - loss: 0.0192 - acc: 1.0000 - val_loss: 1.2782 - val_acc: 0.6625\n",
            "Epoch 252/400\n",
            "8/8 [==============================] - 0s 7ms/step - loss: 0.0185 - acc: 1.0000 - val_loss: 1.2782 - val_acc: 0.6625\n",
            "Epoch 253/400\n",
            "8/8 [==============================] - 0s 7ms/step - loss: 0.0197 - acc: 1.0000 - val_loss: 1.2781 - val_acc: 0.6625\n",
            "Epoch 254/400\n",
            "8/8 [==============================] - 0s 6ms/step - loss: 0.0172 - acc: 1.0000 - val_loss: 1.2782 - val_acc: 0.6625\n",
            "Epoch 255/400\n",
            "8/8 [==============================] - 0s 7ms/step - loss: 0.0181 - acc: 1.0000 - val_loss: 1.2782 - val_acc: 0.6625\n",
            "Epoch 256/400\n",
            "8/8 [==============================] - 0s 7ms/step - loss: 0.0182 - acc: 1.0000 - val_loss: 1.2782 - val_acc: 0.6625\n",
            "Epoch 257/400\n",
            "8/8 [==============================] - 0s 7ms/step - loss: 0.0183 - acc: 1.0000 - val_loss: 1.2781 - val_acc: 0.6625\n",
            "Epoch 258/400\n",
            "8/8 [==============================] - 0s 7ms/step - loss: 0.0181 - acc: 1.0000 - val_loss: 1.2781 - val_acc: 0.6625\n",
            "Epoch 259/400\n",
            "8/8 [==============================] - 0s 7ms/step - loss: 0.0164 - acc: 1.0000 - val_loss: 1.2782 - val_acc: 0.6625\n",
            "Epoch 260/400\n",
            "8/8 [==============================] - 0s 7ms/step - loss: 0.0155 - acc: 1.0000 - val_loss: 1.2781 - val_acc: 0.6625\n",
            "Epoch 261/400\n",
            "8/8 [==============================] - 0s 6ms/step - loss: 0.0162 - acc: 1.0000 - val_loss: 1.2781 - val_acc: 0.6625\n",
            "Epoch 262/400\n",
            "8/8 [==============================] - 0s 7ms/step - loss: 0.0179 - acc: 1.0000 - val_loss: 1.2779 - val_acc: 0.6625\n",
            "Epoch 263/400\n",
            "8/8 [==============================] - 0s 6ms/step - loss: 0.0175 - acc: 1.0000 - val_loss: 1.2780 - val_acc: 0.6625\n",
            "Epoch 264/400\n",
            "8/8 [==============================] - 0s 7ms/step - loss: 0.0175 - acc: 1.0000 - val_loss: 1.2781 - val_acc: 0.6625\n",
            "Epoch 265/400\n",
            "8/8 [==============================] - 0s 7ms/step - loss: 0.0190 - acc: 1.0000 - val_loss: 1.2781 - val_acc: 0.6625\n",
            "Epoch 266/400\n",
            "8/8 [==============================] - 0s 6ms/step - loss: 0.0173 - acc: 1.0000 - val_loss: 1.2780 - val_acc: 0.6625\n",
            "Epoch 267/400\n",
            "8/8 [==============================] - 0s 7ms/step - loss: 0.0172 - acc: 1.0000 - val_loss: 1.2780 - val_acc: 0.6625\n",
            "Epoch 268/400\n",
            "8/8 [==============================] - 0s 6ms/step - loss: 0.0160 - acc: 1.0000 - val_loss: 1.2780 - val_acc: 0.6625\n",
            "Epoch 269/400\n",
            "8/8 [==============================] - 0s 7ms/step - loss: 0.0163 - acc: 1.0000 - val_loss: 1.2781 - val_acc: 0.6625\n",
            "Epoch 270/400\n",
            "8/8 [==============================] - 0s 6ms/step - loss: 0.0162 - acc: 1.0000 - val_loss: 1.2779 - val_acc: 0.6625\n",
            "Epoch 271/400\n",
            "8/8 [==============================] - 0s 23ms/step - loss: 0.0168 - acc: 1.0000 - val_loss: 1.2780 - val_acc: 0.6625\n",
            "Epoch 272/400\n",
            "8/8 [==============================] - 0s 7ms/step - loss: 0.0156 - acc: 1.0000 - val_loss: 1.2779 - val_acc: 0.6625\n",
            "Epoch 273/400\n",
            "8/8 [==============================] - 0s 7ms/step - loss: 0.0168 - acc: 1.0000 - val_loss: 1.2779 - val_acc: 0.6625\n",
            "Epoch 274/400\n",
            "8/8 [==============================] - 0s 7ms/step - loss: 0.0159 - acc: 1.0000 - val_loss: 1.2779 - val_acc: 0.6625\n",
            "Epoch 275/400\n",
            "8/8 [==============================] - 0s 7ms/step - loss: 0.0169 - acc: 1.0000 - val_loss: 1.2779 - val_acc: 0.6625\n",
            "Epoch 276/400\n",
            "8/8 [==============================] - 0s 8ms/step - loss: 0.0162 - acc: 1.0000 - val_loss: 1.2779 - val_acc: 0.6625\n",
            "Epoch 277/400\n",
            "8/8 [==============================] - 0s 7ms/step - loss: 0.0162 - acc: 1.0000 - val_loss: 1.2779 - val_acc: 0.6625\n",
            "Epoch 278/400\n",
            "8/8 [==============================] - 0s 7ms/step - loss: 0.0154 - acc: 1.0000 - val_loss: 1.2779 - val_acc: 0.6625\n",
            "Epoch 279/400\n",
            "8/8 [==============================] - 0s 7ms/step - loss: 0.0141 - acc: 1.0000 - val_loss: 1.2779 - val_acc: 0.6625\n",
            "Epoch 280/400\n",
            "8/8 [==============================] - 0s 6ms/step - loss: 0.0156 - acc: 1.0000 - val_loss: 1.2779 - val_acc: 0.6625\n",
            "Epoch 281/400\n",
            "8/8 [==============================] - 0s 7ms/step - loss: 0.0152 - acc: 1.0000 - val_loss: 1.2780 - val_acc: 0.6625\n",
            "Epoch 282/400\n",
            "8/8 [==============================] - 0s 6ms/step - loss: 0.0152 - acc: 1.0000 - val_loss: 1.2779 - val_acc: 0.6625\n",
            "Epoch 283/400\n",
            "8/8 [==============================] - 0s 7ms/step - loss: 0.0159 - acc: 1.0000 - val_loss: 1.2779 - val_acc: 0.6625\n",
            "Epoch 284/400\n",
            "8/8 [==============================] - 0s 6ms/step - loss: 0.0152 - acc: 1.0000 - val_loss: 1.2778 - val_acc: 0.6625\n",
            "Epoch 285/400\n",
            "8/8 [==============================] - 0s 6ms/step - loss: 0.0171 - acc: 1.0000 - val_loss: 1.2779 - val_acc: 0.6625\n",
            "Epoch 286/400\n",
            "8/8 [==============================] - 0s 7ms/step - loss: 0.0155 - acc: 1.0000 - val_loss: 1.2778 - val_acc: 0.6625\n",
            "Epoch 287/400\n",
            "8/8 [==============================] - 0s 7ms/step - loss: 0.0135 - acc: 1.0000 - val_loss: 1.2779 - val_acc: 0.6625\n",
            "Epoch 288/400\n",
            "8/8 [==============================] - 0s 7ms/step - loss: 0.0166 - acc: 1.0000 - val_loss: 1.2779 - val_acc: 0.6625\n",
            "Epoch 289/400\n",
            "8/8 [==============================] - 0s 7ms/step - loss: 0.0155 - acc: 1.0000 - val_loss: 1.2779 - val_acc: 0.6625\n",
            "Epoch 290/400\n",
            "8/8 [==============================] - 0s 7ms/step - loss: 0.0163 - acc: 1.0000 - val_loss: 1.2779 - val_acc: 0.6625\n",
            "Epoch 291/400\n",
            "8/8 [==============================] - 0s 8ms/step - loss: 0.0144 - acc: 1.0000 - val_loss: 1.2779 - val_acc: 0.6625\n",
            "Epoch 292/400\n",
            "8/8 [==============================] - 0s 7ms/step - loss: 0.0156 - acc: 1.0000 - val_loss: 1.2779 - val_acc: 0.6625\n",
            "Epoch 293/400\n",
            "8/8 [==============================] - 0s 6ms/step - loss: 0.0141 - acc: 1.0000 - val_loss: 1.2779 - val_acc: 0.6625\n",
            "Epoch 294/400\n",
            "8/8 [==============================] - 0s 6ms/step - loss: 0.0163 - acc: 1.0000 - val_loss: 1.2779 - val_acc: 0.6625\n",
            "Epoch 295/400\n",
            "8/8 [==============================] - 0s 7ms/step - loss: 0.0173 - acc: 1.0000 - val_loss: 1.2780 - val_acc: 0.6625\n",
            "Epoch 296/400\n",
            "8/8 [==============================] - 0s 7ms/step - loss: 0.0135 - acc: 1.0000 - val_loss: 1.2779 - val_acc: 0.6625\n",
            "Epoch 297/400\n",
            "8/8 [==============================] - 0s 6ms/step - loss: 0.0148 - acc: 1.0000 - val_loss: 1.2779 - val_acc: 0.6625\n",
            "Epoch 298/400\n",
            "8/8 [==============================] - 0s 7ms/step - loss: 0.0137 - acc: 1.0000 - val_loss: 1.2780 - val_acc: 0.6625\n",
            "Epoch 299/400\n",
            "8/8 [==============================] - 0s 7ms/step - loss: 0.0136 - acc: 1.0000 - val_loss: 1.2780 - val_acc: 0.6500\n"
          ],
          "name": "stdout"
        }
      ]
    },
    {
      "cell_type": "code",
      "metadata": {
        "colab": {
          "base_uri": "https://localhost:8080/",
          "height": 831
        },
        "id": "WHZKNKluoNWW",
        "outputId": "0c463ba0-fea3-4b05-8154-b293cc0add3c"
      },
      "source": [
        "plt.figure(0)  \n",
        "plt.plot(history0.history['acc'],'r')  \n",
        "plt.plot(history0.history['val_acc'],'g')  \n",
        "plt.xticks(np.arange(0, 300, 30))  \n",
        "plt.rcParams['figure.figsize'] = (8, 6)  \n",
        "plt.xlabel(\"Num of Epochs\")  \n",
        "plt.ylabel(\"Accuracy\")  \n",
        "plt.title(\"Training Accuracy vs Validation Accuracy\")  \n",
        "plt.legend(['train','validation'])\n",
        "\n",
        "plt.figure(1)  \n",
        "plt.plot(history0.history['loss'],'r')  \n",
        "plt.plot(history0.history['val_loss'],'g')  \n",
        "plt.xticks(np.arange(0, 300, 30))  \n",
        "plt.rcParams['figure.figsize'] = (8, 6)  \n",
        "plt.xlabel(\"Num of Epochs\")  \n",
        "plt.ylabel(\"Loss\")  \n",
        "plt.title(\"Training Loss vs Validation Loss\")  \n",
        "plt.legend(['train','validation'])\n",
        "\n",
        "plt.show()"
      ],
      "execution_count": 74,
      "outputs": [
        {
          "output_type": "display_data",
          "data": {
            "image/png": "[encoded data removed]",
            "text/plain": [
              "<Figure size 576x432 with 1 Axes>"
            ]
          },
          "metadata": {
            "tags": []
          }
        },
        {
          "output_type": "display_data",
          "data": {
            "image/png": "[encoded data removed]",
            "text/plain": [
              "<Figure size 576x432 with 1 Axes>"
            ]
          },
          "metadata": {
            "tags": []
          }
        }
      ]
    },
    {
      "cell_type": "code",
      "metadata": {
        "colab": {
          "base_uri": "https://localhost:8080/"
        },
        "id": "HM-v0hqnoNQf",
        "outputId": "4653632c-72e0-480d-8c9b-110fa871952d"
      },
      "source": [
        "#Predicciones\n",
        "red0_pred = model0.predict(x_test, batch_size=batchsize, verbose=1)  \n",
        "red0_predicted = np.argmax(red0_pred, axis=1)"
      ],
      "execution_count": 75,
      "outputs": [
        {
          "output_type": "stream",
          "text": [
            "2/2 [==============================] - 0s 5ms/step\n"
          ],
          "name": "stdout"
        }
      ]
    },
    {
      "cell_type": "code",
      "metadata": {
        "colab": {
          "base_uri": "https://localhost:8080/"
        },
        "id": "gPHqewzmauPZ",
        "outputId": "5e2614de-3e14-4bbc-cbdf-2038ee9f265b"
      },
      "source": [
        "## Evaluando el modelo\n",
        "train_loss, train_acc = model0.evaluate(x_train, y_train)\n",
        "print('Train_loss: ', train_loss, 'Train_Acc: ', train_acc)\n",
        "test_loss, test_acc = model0.evaluate(x_test, y_test)\n",
        "print('Test_loss: ', test_loss, 'Test_Acc: ', test_acc)"
      ],
      "execution_count": 82,
      "outputs": [
        {
          "output_type": "stream",
          "text": [
            "13/13 [==============================] - 0s 2ms/step - loss: 0.2679 - acc: 0.9325\n",
            "Train_loss:  0.2679024934768677 Train_Acc:  0.9325000047683716\n",
            "2/2 [==============================] - 0s 3ms/step - loss: 1.2960 - acc: 0.7115\n",
            "Test_loss:  1.2959753274917603 Test_Acc:  0.7115384340286255\n"
          ],
          "name": "stdout"
        }
      ]
    },
    {
      "cell_type": "code",
      "metadata": {
        "colab": {
          "base_uri": "https://localhost:8080/",
          "height": 382
        },
        "id": "zZgSnanCpNJp",
        "outputId": "0a2a23b1-6f87-4d5f-ee53-a28874221ba4"
      },
      "source": [
        "import seaborn as sn \n",
        "from sklearn.metrics import confusion_matrix, classification_report \n",
        "#Creamos la matriz de confusión\n",
        "red0_cm = confusion_matrix(np.argmax(y_test, axis=1), red0_predicted)\n",
        "\n",
        "# Visualizamos la matriz de confusión\n",
        "cm_red0= pd.DataFrame(red0_cm, range(11), range(11))  \n",
        "plt.figure(figsize = (8,6))  \n",
        "sn.set(font_scale=1.4) #for label size  \n",
        "sn.heatmap(cm_red0, annot=True, annot_kws={\"size\": 10}) # font size  \n",
        "plt.show()  "
      ],
      "execution_count": 83,
      "outputs": [
        {
          "output_type": "display_data",
          "data": {
            "image/png": "[encoded data removed]",
            "text/plain": [
              "<Figure size 576x432 with 2 Axes>"
            ]
          },
          "metadata": {
            "tags": []
          }
        }
      ]
    },
    {
      "cell_type": "code",
      "metadata": {
        "colab": {
          "base_uri": "https://localhost:8080/"
        },
        "id": "qPUovZCEpNFh",
        "outputId": "3c4662a2-a0bb-4110-ff74-2008731f6f63"
      },
      "source": [
        "red0_report = classification_report(np.argmax(y_test, axis=1), red0_predicted)  \n",
        "print(red0_report)"
      ],
      "execution_count": 84,
      "outputs": [
        {
          "output_type": "stream",
          "text": [
            "              precision    recall  f1-score   support\n",
            "\n",
            "           1       0.91      0.94      0.93        33\n",
            "           2       0.00      0.00      0.00         2\n",
            "           3       0.50      1.00      0.67         1\n",
            "           4       1.00      1.00      1.00         1\n",
            "           5       0.00      0.00      0.00         1\n",
            "           6       0.00      0.00      0.00         1\n",
            "           9       0.00      0.00      0.00         1\n",
            "          10       0.50      0.57      0.53         7\n",
            "          14       0.00      0.00      0.00         1\n",
            "          15       0.00      0.00      0.00         1\n",
            "          16       0.00      0.00      0.00         3\n",
            "\n",
            "    accuracy                           0.71        52\n",
            "   macro avg       0.26      0.32      0.28        52\n",
            "weighted avg       0.67      0.71      0.69        52\n",
            "\n"
          ],
          "name": "stdout"
        },
        {
          "output_type": "stream",
          "text": [
            "/usr/local/lib/python3.6/dist-packages/sklearn/metrics/_classification.py:1272: UndefinedMetricWarning: Precision and F-score are ill-defined and being set to 0.0 in labels with no predicted samples. Use `zero_division` parameter to control this behavior.\n",
            "  _warn_prf(average, modifier, msg_start, len(result))\n"
          ],
          "name": "stderr"
        }
      ]
    },
    {
      "cell_type": "markdown",
      "metadata": {
        "id": "7RyBgGicmoaa"
      },
      "source": [
        "#<center><h1>Red Neuronal 1</h1></center>"
      ]
    },
    {
      "cell_type": "code",
      "metadata": {
        "id": "vhztZgxfHy8i"
      },
      "source": [
        "## Definiendo la cantidad de neuronas en cada capa\n",
        "nn = [279,1000,500,250,17]\n",
        "batchsize = 40\n",
        "## Conjunto de entrenamiento\n",
        "x_train = features[:400]\n",
        "y_train = vector_clases[:400]\n",
        "\n",
        "# Conjunto de test\n",
        "x_test = features[400:]\n",
        "y_test = vector_clases[400:]"
      ],
      "execution_count": 86,
      "outputs": []
    },
    {
      "cell_type": "code",
      "metadata": {
        "id": "d9FIUw6bStzZ"
      },
      "source": [
        "import tensorflow.keras as kr\n",
        "from tensorflow.keras import optimizers\n",
        "from keras.layers import Dropout\n",
        "from keras.callbacks import EarlyStopping\n",
        "from keras.optimizers import SGD\n",
        "\n",
        "## Creamos la estructura que contendrá nuestro modelo\n",
        "model1 = kr.Sequential()\n",
        "## Añadiremos algunas capas a nuestra red neuronal\n",
        "## Capa 1\n",
        "model1.add(kr.layers.Dense(nn[1], input_shape = (279,),activation='relu', name = 'layer1_red1'))\n",
        "## Agregamos una capa de dropout\n",
        "model1.add(Dropout(rate = 0.5))\n",
        "## Capa 2\n",
        "model1.add(kr.layers.Dense(nn[2], activation='relu', name = 'layer2_red1'))\n",
        "## Capa 3\n",
        "model1.add(kr.layers.Dense(nn[3], activation='relu', name = 'layer3_red1'))\n",
        "## Agregamos una capa de dropout\n",
        "model1.add(Dropout(rate = 0.5))\n",
        "## Capa de salida\n",
        "model1.add(kr.layers.Dense(nn[-1], activation='softmax', name = 'layerOut_red1'))\n",
        "\n",
        "## optimizador descenso del gradiente estocastico\n",
        "opt = SGD(lr=0.01)\n",
        "## Compilamos el modelo\n",
        "model1.compile(loss = 'categorical_crossentropy', optimizer= opt, metrics = ['acc'])"
      ],
      "execution_count": 87,
      "outputs": []
    },
    {
      "cell_type": "code",
      "metadata": {
        "id": "rsW9Wiuxh61g"
      },
      "source": [
        "earlystopping = EarlyStopping(monitor='val_loss', \n",
        "                              min_delta=0,\n",
        "                              patience = 15,\n",
        "                              mode='min',\n",
        "                              restore_best_weights=True)"
      ],
      "execution_count": 88,
      "outputs": []
    },
    {
      "cell_type": "code",
      "metadata": {
        "colab": {
          "base_uri": "https://localhost:8080/",
          "height": 1000
        },
        "id": "BZsE1UIURrHC",
        "outputId": "8d0c27c9-2581-42ce-b421-7af7025894ca"
      },
      "source": [
        "model1.summary()\n",
        "plot_model(model1, 'net1.png', show_shapes=True)"
      ],
      "execution_count": 89,
      "outputs": [
        {
          "output_type": "stream",
          "text": [
            "Model: \"sequential_7\"\n",
            "_________________________________________________________________\n",
            "Layer (type)                 Output Shape              Param #   \n",
            "=================================================================\n",
            "layer1_red1 (Dense)          (None, 1000)              280000    \n",
            "_________________________________________________________________\n",
            "dropout_2 (Dropout)          (None, 1000)              0         \n",
            "_________________________________________________________________\n",
            "layer2_red1 (Dense)          (None, 500)               500500    \n",
            "_________________________________________________________________\n",
            "layer3_red1 (Dense)          (None, 250)               125250    \n",
            "_________________________________________________________________\n",
            "dropout_3 (Dropout)          (None, 250)               0         \n",
            "_________________________________________________________________\n",
            "layerOut_red1 (Dense)        (None, 17)                4267      \n",
            "=================================================================\n",
            "Total params: 910,017\n",
            "Trainable params: 910,017\n",
            "Non-trainable params: 0\n",
            "_________________________________________________________________\n"
          ],
          "name": "stdout"
        },
        {
          "output_type": "execute_result",
          "data": {
            "image/png": "[encoded data removed]",
            "text/plain": [
              "<IPython.core.display.Image object>"
            ]
          },
          "metadata": {
            "tags": []
          },
          "execution_count": 89
        }
      ]
    },
    {
      "cell_type": "code",
      "metadata": {
        "colab": {
          "base_uri": "https://localhost:8080/"
        },
        "id": "slGnjcuydmaz",
        "outputId": "01cd903d-fe0d-4709-f921-3421efefc8b4"
      },
      "source": [
        "## Entrenamos el modelo\n",
        "%time\n",
        "history1 = model1.fit(x_train, \n",
        "          y_train,\n",
        "          epochs = 400,\n",
        "          batch_size=batchsize,\n",
        "          validation_split=0.2,\n",
        "          verbose = True,\n",
        "          callbacks=earlystopping)"
      ],
      "execution_count": 90,
      "outputs": [
        {
          "output_type": "stream",
          "text": [
            "CPU times: user 4 µs, sys: 1 µs, total: 5 µs\n",
            "Wall time: 10 µs\n",
            "Epoch 1/400\n",
            "8/8 [==============================] - 1s 59ms/step - loss: 3.0765 - acc: 0.0682 - val_loss: 2.4147 - val_acc: 0.4250\n",
            "Epoch 2/400\n",
            "8/8 [==============================] - 0s 16ms/step - loss: 2.5242 - acc: 0.3334 - val_loss: 2.2421 - val_acc: 0.4250\n",
            "Epoch 3/400\n",
            "8/8 [==============================] - 0s 17ms/step - loss: 2.2006 - acc: 0.4896 - val_loss: 2.1469 - val_acc: 0.4250\n",
            "Epoch 4/400\n",
            "8/8 [==============================] - 0s 15ms/step - loss: 2.1681 - acc: 0.5097 - val_loss: 2.0512 - val_acc: 0.4250\n",
            "Epoch 5/400\n",
            "8/8 [==============================] - 0s 16ms/step - loss: 2.0305 - acc: 0.5338 - val_loss: 1.9776 - val_acc: 0.4250\n",
            "Epoch 6/400\n",
            "8/8 [==============================] - 0s 15ms/step - loss: 1.8064 - acc: 0.5786 - val_loss: 1.8955 - val_acc: 0.4250\n",
            "Epoch 7/400\n",
            "8/8 [==============================] - 0s 16ms/step - loss: 1.8643 - acc: 0.5606 - val_loss: 1.8333 - val_acc: 0.4375\n",
            "Epoch 8/400\n",
            "8/8 [==============================] - 0s 16ms/step - loss: 1.6252 - acc: 0.5778 - val_loss: 1.7766 - val_acc: 0.4375\n",
            "Epoch 9/400\n",
            "8/8 [==============================] - 0s 18ms/step - loss: 1.6245 - acc: 0.5921 - val_loss: 1.7238 - val_acc: 0.4500\n",
            "Epoch 10/400\n",
            "8/8 [==============================] - 0s 17ms/step - loss: 1.4909 - acc: 0.6144 - val_loss: 1.6648 - val_acc: 0.4750\n",
            "Epoch 11/400\n",
            "8/8 [==============================] - 0s 15ms/step - loss: 1.4152 - acc: 0.6202 - val_loss: 1.6116 - val_acc: 0.5000\n",
            "Epoch 12/400\n",
            "8/8 [==============================] - 0s 16ms/step - loss: 1.4748 - acc: 0.5919 - val_loss: 1.5867 - val_acc: 0.4875\n",
            "Epoch 13/400\n",
            "8/8 [==============================] - 0s 16ms/step - loss: 1.3787 - acc: 0.6135 - val_loss: 1.5603 - val_acc: 0.5000\n",
            "Epoch 14/400\n",
            "8/8 [==============================] - 0s 16ms/step - loss: 1.3195 - acc: 0.6398 - val_loss: 1.5168 - val_acc: 0.5375\n",
            "Epoch 15/400\n",
            "8/8 [==============================] - 0s 17ms/step - loss: 1.3007 - acc: 0.6023 - val_loss: 1.4944 - val_acc: 0.5375\n",
            "Epoch 16/400\n",
            "8/8 [==============================] - 0s 18ms/step - loss: 1.3807 - acc: 0.6096 - val_loss: 1.4822 - val_acc: 0.5375\n",
            "Epoch 17/400\n",
            "8/8 [==============================] - 0s 16ms/step - loss: 1.2477 - acc: 0.6530 - val_loss: 1.4497 - val_acc: 0.5500\n",
            "Epoch 18/400\n",
            "8/8 [==============================] - 0s 15ms/step - loss: 1.0894 - acc: 0.6734 - val_loss: 1.4309 - val_acc: 0.5500\n",
            "Epoch 19/400\n",
            "8/8 [==============================] - 0s 16ms/step - loss: 1.0961 - acc: 0.6770 - val_loss: 1.4054 - val_acc: 0.5750\n",
            "Epoch 20/400\n",
            "8/8 [==============================] - 0s 16ms/step - loss: 1.0999 - acc: 0.7163 - val_loss: 1.3740 - val_acc: 0.5875\n",
            "Epoch 21/400\n",
            "8/8 [==============================] - 0s 16ms/step - loss: 1.1344 - acc: 0.6800 - val_loss: 1.3575 - val_acc: 0.5875\n",
            "Epoch 22/400\n",
            "8/8 [==============================] - 0s 15ms/step - loss: 0.9997 - acc: 0.6947 - val_loss: 1.3516 - val_acc: 0.5875\n",
            "Epoch 23/400\n",
            "8/8 [==============================] - 0s 15ms/step - loss: 0.9936 - acc: 0.7217 - val_loss: 1.3372 - val_acc: 0.6000\n",
            "Epoch 24/400\n",
            "8/8 [==============================] - 0s 15ms/step - loss: 0.9985 - acc: 0.7203 - val_loss: 1.3112 - val_acc: 0.6000\n",
            "Epoch 25/400\n",
            "8/8 [==============================] - 0s 15ms/step - loss: 0.8891 - acc: 0.7386 - val_loss: 1.3025 - val_acc: 0.6000\n",
            "Epoch 26/400\n",
            "8/8 [==============================] - 0s 17ms/step - loss: 1.0150 - acc: 0.7204 - val_loss: 1.2850 - val_acc: 0.6000\n",
            "Epoch 27/400\n",
            "8/8 [==============================] - 0s 16ms/step - loss: 0.9865 - acc: 0.7336 - val_loss: 1.2687 - val_acc: 0.6125\n",
            "Epoch 28/400\n",
            "8/8 [==============================] - 0s 16ms/step - loss: 0.8826 - acc: 0.7557 - val_loss: 1.2687 - val_acc: 0.6250\n",
            "Epoch 29/400\n",
            "8/8 [==============================] - 0s 17ms/step - loss: 0.9104 - acc: 0.7435 - val_loss: 1.2618 - val_acc: 0.6250\n",
            "Epoch 30/400\n",
            "8/8 [==============================] - 0s 15ms/step - loss: 0.8658 - acc: 0.7521 - val_loss: 1.2354 - val_acc: 0.6500\n",
            "Epoch 31/400\n",
            "8/8 [==============================] - 0s 16ms/step - loss: 0.8488 - acc: 0.7485 - val_loss: 1.2328 - val_acc: 0.6375\n",
            "Epoch 32/400\n",
            "8/8 [==============================] - 0s 15ms/step - loss: 0.8280 - acc: 0.7514 - val_loss: 1.2382 - val_acc: 0.6250\n",
            "Epoch 33/400\n",
            "8/8 [==============================] - 0s 16ms/step - loss: 0.7861 - acc: 0.7931 - val_loss: 1.2208 - val_acc: 0.6250\n",
            "Epoch 34/400\n",
            "8/8 [==============================] - 0s 15ms/step - loss: 0.7262 - acc: 0.7854 - val_loss: 1.2057 - val_acc: 0.6375\n",
            "Epoch 35/400\n",
            "8/8 [==============================] - 0s 15ms/step - loss: 0.7641 - acc: 0.7937 - val_loss: 1.1847 - val_acc: 0.6625\n",
            "Epoch 36/400\n",
            "8/8 [==============================] - 0s 16ms/step - loss: 0.7725 - acc: 0.7763 - val_loss: 1.1849 - val_acc: 0.6625\n",
            "Epoch 37/400\n",
            "8/8 [==============================] - 0s 19ms/step - loss: 0.6513 - acc: 0.7993 - val_loss: 1.1725 - val_acc: 0.6625\n",
            "Epoch 38/400\n",
            "8/8 [==============================] - 0s 16ms/step - loss: 0.6945 - acc: 0.7921 - val_loss: 1.1792 - val_acc: 0.6625\n",
            "Epoch 39/400\n",
            "8/8 [==============================] - 0s 16ms/step - loss: 0.6298 - acc: 0.8222 - val_loss: 1.1566 - val_acc: 0.6625\n",
            "Epoch 40/400\n",
            "8/8 [==============================] - 0s 15ms/step - loss: 0.7478 - acc: 0.7668 - val_loss: 1.1632 - val_acc: 0.6625\n",
            "Epoch 41/400\n",
            "8/8 [==============================] - 0s 16ms/step - loss: 0.6349 - acc: 0.8054 - val_loss: 1.1447 - val_acc: 0.6625\n",
            "Epoch 42/400\n",
            "8/8 [==============================] - 0s 16ms/step - loss: 0.6024 - acc: 0.7993 - val_loss: 1.1490 - val_acc: 0.6625\n",
            "Epoch 43/400\n",
            "8/8 [==============================] - 0s 15ms/step - loss: 0.5934 - acc: 0.8242 - val_loss: 1.1264 - val_acc: 0.6750\n",
            "Epoch 44/400\n",
            "8/8 [==============================] - 0s 16ms/step - loss: 0.6497 - acc: 0.7864 - val_loss: 1.1367 - val_acc: 0.6625\n",
            "Epoch 45/400\n",
            "8/8 [==============================] - 0s 32ms/step - loss: 0.5390 - acc: 0.8396 - val_loss: 1.1246 - val_acc: 0.6625\n",
            "Epoch 46/400\n",
            "8/8 [==============================] - 0s 17ms/step - loss: 0.5409 - acc: 0.8203 - val_loss: 1.1209 - val_acc: 0.6625\n",
            "Epoch 47/400\n",
            "8/8 [==============================] - 0s 16ms/step - loss: 0.5713 - acc: 0.8219 - val_loss: 1.1340 - val_acc: 0.6625\n",
            "Epoch 48/400\n",
            "8/8 [==============================] - 0s 15ms/step - loss: 0.5273 - acc: 0.8405 - val_loss: 1.1198 - val_acc: 0.6625\n",
            "Epoch 49/400\n",
            "8/8 [==============================] - 0s 17ms/step - loss: 0.5551 - acc: 0.8540 - val_loss: 1.1313 - val_acc: 0.6625\n",
            "Epoch 50/400\n",
            "8/8 [==============================] - 0s 16ms/step - loss: 0.5013 - acc: 0.8593 - val_loss: 1.1147 - val_acc: 0.6750\n",
            "Epoch 51/400\n",
            "8/8 [==============================] - 0s 17ms/step - loss: 0.5297 - acc: 0.8235 - val_loss: 1.1099 - val_acc: 0.6625\n",
            "Epoch 52/400\n",
            "8/8 [==============================] - 0s 15ms/step - loss: 0.5008 - acc: 0.8652 - val_loss: 1.1174 - val_acc: 0.6625\n",
            "Epoch 53/400\n",
            "8/8 [==============================] - 0s 16ms/step - loss: 0.4746 - acc: 0.8667 - val_loss: 1.1166 - val_acc: 0.6625\n",
            "Epoch 54/400\n",
            "8/8 [==============================] - 0s 15ms/step - loss: 0.4704 - acc: 0.8465 - val_loss: 1.0868 - val_acc: 0.6625\n",
            "Epoch 55/400\n",
            "8/8 [==============================] - 0s 17ms/step - loss: 0.4721 - acc: 0.8593 - val_loss: 1.0997 - val_acc: 0.6625\n",
            "Epoch 56/400\n",
            "8/8 [==============================] - 0s 16ms/step - loss: 0.4951 - acc: 0.8535 - val_loss: 1.1168 - val_acc: 0.6625\n",
            "Epoch 57/400\n",
            "8/8 [==============================] - 0s 16ms/step - loss: 0.4211 - acc: 0.8806 - val_loss: 1.1114 - val_acc: 0.6625\n",
            "Epoch 58/400\n",
            "8/8 [==============================] - 0s 16ms/step - loss: 0.4299 - acc: 0.8644 - val_loss: 1.1056 - val_acc: 0.6750\n",
            "Epoch 59/400\n",
            "8/8 [==============================] - 0s 16ms/step - loss: 0.4518 - acc: 0.8659 - val_loss: 1.1196 - val_acc: 0.6750\n",
            "Epoch 60/400\n",
            "8/8 [==============================] - 0s 15ms/step - loss: 0.4269 - acc: 0.8507 - val_loss: 1.0922 - val_acc: 0.6625\n",
            "Epoch 61/400\n",
            "8/8 [==============================] - 0s 16ms/step - loss: 0.3453 - acc: 0.8915 - val_loss: 1.0911 - val_acc: 0.6750\n",
            "Epoch 62/400\n",
            "8/8 [==============================] - 0s 16ms/step - loss: 0.3962 - acc: 0.8933 - val_loss: 1.1072 - val_acc: 0.6875\n",
            "Epoch 63/400\n",
            "8/8 [==============================] - 0s 15ms/step - loss: 0.3156 - acc: 0.9202 - val_loss: 1.1036 - val_acc: 0.6750\n",
            "Epoch 64/400\n",
            "8/8 [==============================] - 0s 16ms/step - loss: 0.4113 - acc: 0.8757 - val_loss: 1.0968 - val_acc: 0.6750\n",
            "Epoch 65/400\n",
            "8/8 [==============================] - 0s 15ms/step - loss: 0.3389 - acc: 0.9087 - val_loss: 1.0969 - val_acc: 0.6625\n",
            "Epoch 66/400\n",
            "8/8 [==============================] - 0s 15ms/step - loss: 0.3727 - acc: 0.8996 - val_loss: 1.0893 - val_acc: 0.6625\n",
            "Epoch 67/400\n",
            "8/8 [==============================] - 0s 17ms/step - loss: 0.3861 - acc: 0.8822 - val_loss: 1.0868 - val_acc: 0.6625\n",
            "Epoch 68/400\n",
            "8/8 [==============================] - 0s 16ms/step - loss: 0.3618 - acc: 0.9071 - val_loss: 1.0965 - val_acc: 0.6625\n",
            "Epoch 69/400\n",
            "8/8 [==============================] - 0s 16ms/step - loss: 0.3620 - acc: 0.8822 - val_loss: 1.0977 - val_acc: 0.6625\n",
            "Epoch 70/400\n",
            "8/8 [==============================] - 0s 18ms/step - loss: 0.3228 - acc: 0.9076 - val_loss: 1.0998 - val_acc: 0.6625\n",
            "Epoch 71/400\n",
            "8/8 [==============================] - 0s 16ms/step - loss: 0.3537 - acc: 0.9038 - val_loss: 1.0820 - val_acc: 0.6750\n",
            "Epoch 72/400\n",
            "8/8 [==============================] - 0s 16ms/step - loss: 0.3376 - acc: 0.8996 - val_loss: 1.0716 - val_acc: 0.6750\n",
            "Epoch 73/400\n",
            "8/8 [==============================] - 0s 17ms/step - loss: 0.3175 - acc: 0.9076 - val_loss: 1.1057 - val_acc: 0.6875\n",
            "Epoch 74/400\n",
            "8/8 [==============================] - 0s 17ms/step - loss: 0.3162 - acc: 0.8970 - val_loss: 1.0894 - val_acc: 0.6875\n",
            "Epoch 75/400\n",
            "8/8 [==============================] - 0s 15ms/step - loss: 0.2834 - acc: 0.9272 - val_loss: 1.0855 - val_acc: 0.6875\n",
            "Epoch 76/400\n",
            "8/8 [==============================] - 0s 16ms/step - loss: 0.2644 - acc: 0.9272 - val_loss: 1.0965 - val_acc: 0.6750\n",
            "Epoch 77/400\n",
            "8/8 [==============================] - 0s 15ms/step - loss: 0.3237 - acc: 0.9050 - val_loss: 1.0908 - val_acc: 0.6750\n",
            "Epoch 78/400\n",
            "8/8 [==============================] - 0s 17ms/step - loss: 0.2704 - acc: 0.9295 - val_loss: 1.0865 - val_acc: 0.6750\n",
            "Epoch 79/400\n",
            "8/8 [==============================] - 0s 16ms/step - loss: 0.2212 - acc: 0.9507 - val_loss: 1.0579 - val_acc: 0.6625\n",
            "Epoch 80/400\n",
            "8/8 [==============================] - 0s 16ms/step - loss: 0.3178 - acc: 0.9046 - val_loss: 1.0569 - val_acc: 0.7000\n",
            "Epoch 81/400\n",
            "8/8 [==============================] - 0s 16ms/step - loss: 0.2913 - acc: 0.9266 - val_loss: 1.0977 - val_acc: 0.6875\n",
            "Epoch 82/400\n",
            "8/8 [==============================] - 0s 17ms/step - loss: 0.2471 - acc: 0.9328 - val_loss: 1.0729 - val_acc: 0.6875\n",
            "Epoch 83/400\n",
            "8/8 [==============================] - 0s 15ms/step - loss: 0.2881 - acc: 0.9349 - val_loss: 1.0886 - val_acc: 0.6750\n",
            "Epoch 84/400\n",
            "8/8 [==============================] - 0s 16ms/step - loss: 0.2563 - acc: 0.9381 - val_loss: 1.1101 - val_acc: 0.6750\n",
            "Epoch 85/400\n",
            "8/8 [==============================] - 0s 16ms/step - loss: 0.2585 - acc: 0.9206 - val_loss: 1.1099 - val_acc: 0.6875\n",
            "Epoch 86/400\n",
            "8/8 [==============================] - 0s 16ms/step - loss: 0.2231 - acc: 0.9587 - val_loss: 1.0945 - val_acc: 0.6750\n",
            "Epoch 87/400\n",
            "8/8 [==============================] - 0s 16ms/step - loss: 0.2595 - acc: 0.9141 - val_loss: 1.0826 - val_acc: 0.6750\n",
            "Epoch 88/400\n",
            "8/8 [==============================] - 0s 16ms/step - loss: 0.3027 - acc: 0.9107 - val_loss: 1.1022 - val_acc: 0.6750\n",
            "Epoch 89/400\n",
            "8/8 [==============================] - 0s 32ms/step - loss: 0.2350 - acc: 0.9340 - val_loss: 1.1095 - val_acc: 0.6875\n",
            "Epoch 90/400\n",
            "8/8 [==============================] - 0s 16ms/step - loss: 0.2265 - acc: 0.9356 - val_loss: 1.1050 - val_acc: 0.6750\n",
            "Epoch 91/400\n",
            "8/8 [==============================] - 0s 15ms/step - loss: 0.3006 - acc: 0.9281 - val_loss: 1.0886 - val_acc: 0.6750\n",
            "Epoch 92/400\n",
            "8/8 [==============================] - 0s 16ms/step - loss: 0.2119 - acc: 0.9428 - val_loss: 1.1062 - val_acc: 0.7000\n",
            "Epoch 93/400\n",
            "8/8 [==============================] - 0s 17ms/step - loss: 0.2404 - acc: 0.9267 - val_loss: 1.1035 - val_acc: 0.7000\n",
            "Epoch 94/400\n",
            "8/8 [==============================] - 0s 19ms/step - loss: 0.2327 - acc: 0.9514 - val_loss: 1.0703 - val_acc: 0.6875\n",
            "Epoch 95/400\n",
            "8/8 [==============================] - 0s 16ms/step - loss: 0.2163 - acc: 0.9330 - val_loss: 1.0763 - val_acc: 0.6875\n"
          ],
          "name": "stdout"
        }
      ]
    },
    {
      "cell_type": "code",
      "metadata": {
        "colab": {
          "base_uri": "https://localhost:8080/",
          "height": 831
        },
        "id": "S5QYsEgAnowJ",
        "outputId": "0567bf3f-90de-4984-c5ae-e137dbb51220"
      },
      "source": [
        "plt.figure(0)  \n",
        "plt.plot(history1.history['acc'],'r')  \n",
        "plt.plot(history1.history['val_acc'],'g')  \n",
        "plt.xticks(np.arange(0, 100, 15))  \n",
        "plt.rcParams['figure.figsize'] = (8, 6)  \n",
        "plt.xlabel(\"Num of Epochs\")  \n",
        "plt.ylabel(\"Accuracy\")  \n",
        "plt.title(\"Training Accuracy vs Validation Accuracy\")  \n",
        "plt.legend(['train','validation'])\n",
        "\n",
        "plt.figure(1)  \n",
        "plt.plot(history1.history['loss'],'r')  \n",
        "plt.plot(history1.history['val_loss'],'g')  \n",
        "plt.xticks(np.arange(0, 100, 15))  \n",
        "plt.rcParams['figure.figsize'] = (8, 6)  \n",
        "plt.xlabel(\"Num of Epochs\")  \n",
        "plt.ylabel(\"Loss\")  \n",
        "plt.title(\"Training Loss vs Validation Loss\")  \n",
        "plt.legend(['train','validation'])\n",
        "\n",
        "plt.show()"
      ],
      "execution_count": 91,
      "outputs": [
        {
          "output_type": "display_data",
          "data": {
            "image/png": "[encoded data removed]",
            "text/plain": [
              "<Figure size 576x432 with 1 Axes>"
            ]
          },
          "metadata": {
            "tags": []
          }
        },
        {
          "output_type": "display_data",
          "data": {
            "image/png": "[encoded data removed]",
            "text/plain": [
              "<Figure size 576x432 with 1 Axes>"
            ]
          },
          "metadata": {
            "tags": []
          }
        }
      ]
    },
    {
      "cell_type": "code",
      "metadata": {
        "id": "2iAqHuOVHqIn",
        "colab": {
          "base_uri": "https://localhost:8080/"
        },
        "outputId": "69c6be13-c270-48b2-f85a-9abb4756adeb"
      },
      "source": [
        "## Evaluando el modelo\n",
        "train_loss, train_acc = model1.evaluate(x_train, y_train)\n",
        "print('Train_loss: ', train_loss, 'Train_Acc: ', train_acc)\n",
        "test_loss, test_acc = model1.evaluate(x_test, y_test)\n",
        "print('Test_loss: ', test_loss, 'Test_Acc: ', test_acc)"
      ],
      "execution_count": 93,
      "outputs": [
        {
          "output_type": "stream",
          "text": [
            "13/13 [==============================] - 0s 3ms/step - loss: 0.3129 - acc: 0.9300\n",
            "Train_loss:  0.31285953521728516 Train_Acc:  0.9300000071525574\n",
            "2/2 [==============================] - 0s 6ms/step - loss: 0.8470 - acc: 0.7885\n",
            "Test_loss:  0.8469952940940857 Test_Acc:  0.7884615659713745\n"
          ],
          "name": "stdout"
        }
      ]
    },
    {
      "cell_type": "code",
      "metadata": {
        "colab": {
          "base_uri": "https://localhost:8080/"
        },
        "id": "F5Mgq87kHqFE",
        "outputId": "d6878e62-bd4f-46d0-969a-e3c04255f849"
      },
      "source": [
        "test_acc"
      ],
      "execution_count": 94,
      "outputs": [
        {
          "output_type": "execute_result",
          "data": {
            "text/plain": [
              "0.7884615659713745"
            ]
          },
          "metadata": {
            "tags": []
          },
          "execution_count": 94
        }
      ]
    },
    {
      "cell_type": "code",
      "metadata": {
        "colab": {
          "base_uri": "https://localhost:8080/"
        },
        "id": "KNcqKsp8HqBz",
        "outputId": "512a862c-420d-4f89-fe7c-ff897268bb02"
      },
      "source": [
        "train_acc"
      ],
      "execution_count": 95,
      "outputs": [
        {
          "output_type": "execute_result",
          "data": {
            "text/plain": [
              "0.9300000071525574"
            ]
          },
          "metadata": {
            "tags": []
          },
          "execution_count": 95
        }
      ]
    },
    {
      "cell_type": "code",
      "metadata": {
        "colab": {
          "base_uri": "https://localhost:8080/"
        },
        "id": "mLIz6NrInotL",
        "outputId": "e6ab76d0-53e1-4026-93cb-ce249fa667ef"
      },
      "source": [
        "#Predicciones\n",
        "red1_pred = model1.predict(x_test, batch_size=batchsize, verbose=1)  \n",
        "red1_predicted = np.argmax(red1_pred, axis=-1)"
      ],
      "execution_count": 96,
      "outputs": [
        {
          "output_type": "stream",
          "text": [
            "2/2 [==============================] - 0s 6ms/step\n"
          ],
          "name": "stdout"
        }
      ]
    },
    {
      "cell_type": "code",
      "metadata": {
        "colab": {
          "base_uri": "https://localhost:8080/",
          "height": 382
        },
        "id": "_TDYXgFlnooX",
        "outputId": "81db1be3-4d34-4add-f76d-fe42c557e4da"
      },
      "source": [
        "import seaborn as sn \n",
        "from sklearn.metrics import confusion_matrix, classification_report \n",
        "#Creamos la matriz de confusión\n",
        "red1_cm = confusion_matrix(np.argmax(y_test, axis=-1), red1_predicted)\n",
        "\n",
        "# Visualizamos la matriz de confusión\n",
        "cm_red1= pd.DataFrame(red1_cm, range(11), range(11))  \n",
        "plt.figure(figsize = (8,6))  \n",
        "sn.set(font_scale=1.4) #for label size  \n",
        "sn.heatmap(cm_red1, annot=True, annot_kws={\"size\": 10}) # font size  \n",
        "plt.show()  "
      ],
      "execution_count": 99,
      "outputs": [
        {
          "output_type": "display_data",
          "data": {
            "image/png": "[encoded data removed]",
            "text/plain": [
              "<Figure size 576x432 with 2 Axes>"
            ]
          },
          "metadata": {
            "tags": []
          }
        }
      ]
    },
    {
      "cell_type": "code",
      "metadata": {
        "colab": {
          "base_uri": "https://localhost:8080/"
        },
        "id": "xZyvs64Ew-vf",
        "outputId": "c1130e82-5b5a-481c-e4c4-d0f55a67bdf7"
      },
      "source": [
        "red1_report = classification_report(np.argmax(y_test, axis=-1), red1_predicted)  \n",
        "print(red1_report)"
      ],
      "execution_count": 100,
      "outputs": [
        {
          "output_type": "stream",
          "text": [
            "              precision    recall  f1-score   support\n",
            "\n",
            "           1       0.86      0.97      0.91        33\n",
            "           2       0.00      0.00      0.00         2\n",
            "           3       1.00      1.00      1.00         1\n",
            "           4       1.00      1.00      1.00         1\n",
            "           5       0.00      0.00      0.00         1\n",
            "           6       0.00      0.00      0.00         1\n",
            "           9       0.00      0.00      0.00         1\n",
            "          10       0.62      0.71      0.67         7\n",
            "          14       1.00      1.00      1.00         1\n",
            "          15       0.00      0.00      0.00         1\n",
            "          16       1.00      0.33      0.50         3\n",
            "\n",
            "    accuracy                           0.79        52\n",
            "   macro avg       0.50      0.46      0.46        52\n",
            "weighted avg       0.75      0.79      0.76        52\n",
            "\n"
          ],
          "name": "stdout"
        },
        {
          "output_type": "stream",
          "text": [
            "/usr/local/lib/python3.6/dist-packages/sklearn/metrics/_classification.py:1272: UndefinedMetricWarning: Precision and F-score are ill-defined and being set to 0.0 in labels with no predicted samples. Use `zero_division` parameter to control this behavior.\n",
            "  _warn_prf(average, modifier, msg_start, len(result))\n"
          ],
          "name": "stderr"
        }
      ]
    },
    {
      "cell_type": "markdown",
      "metadata": {
        "id": "6iYU7LRAf6P1"
      },
      "source": [
        "# <center><h1>Red Neuronal 2 </h1></center>"
      ]
    },
    {
      "cell_type": "code",
      "metadata": {
        "id": "Sboy4Da3f5Fd"
      },
      "source": [
        "## Definiendo la cantidad de neuronas en cada capa\n",
        "nn = [279,250,150,100,50,25,17]\n",
        "batchsize = 40\n",
        "## Conjunto de entrenamiento\n",
        "x_train = features[:400]\n",
        "y_train = vector_clases[:400]\n",
        "\n",
        "# Conjunto de test\n",
        "x_test = features[400:]\n",
        "y_test = vector_clases[400:]"
      ],
      "execution_count": 101,
      "outputs": []
    },
    {
      "cell_type": "code",
      "metadata": {
        "id": "vr889Ogew-sU"
      },
      "source": [
        "import tensorflow.keras as kr\n",
        "from tensorflow.keras import optimizers\n",
        "from keras.layers import Dropout\n",
        "from keras.callbacks import EarlyStopping\n",
        "from keras.optimizers import SGD\n",
        "\n",
        "## Creamos la estructura que contendrá nuestro modelo\n",
        "model2 = kr.Sequential()\n",
        "## Añadiremos algunas capas a nuestra red neuronal\n",
        "## Capa 1\n",
        "model2.add(kr.layers.Dense(nn[1], input_shape = (279,),activation='relu', name = 'layer1_red2'))\n",
        "## Agregamos una capa de dropout\n",
        "model2.add(Dropout(rate = 0.5))\n",
        "## Capa 2\n",
        "model2.add(kr.layers.Dense(nn[2], activation = 'relu', name = 'layer2_red2'))\n",
        "## Capa 3\n",
        "model2.add(kr.layers.Dense(nn[3], activation = 'relu', name = 'layer3_red2'))\n",
        "## Agregamos una capa de dropout\n",
        "model2.add(Dropout(rate = 0.5))\n",
        "## Capa 4\n",
        "model2.add(kr.layers.Dense(nn[4], activation = 'sigmoid', name = 'layer4_red2'))\n",
        "## Capa 5\n",
        "model2.add(kr.layers.Dense(nn[5], activation = 'relu', name = 'layer5_red2'))\n",
        "\n",
        "\n",
        "## Capa de salida\n",
        "model2.add(kr.layers.Dense(nn[-1], activation='softmax', name = 'layerOut_red2'))\n",
        "\n",
        "## optimizador descenso del gradiente estocastico\n",
        "opt = SGD(lr=0.01)\n",
        "## Compilamos el modelo\n",
        "model2.compile(loss = 'categorical_crossentropy', optimizer= opt, metrics = ['acc'])"
      ],
      "execution_count": 103,
      "outputs": []
    },
    {
      "cell_type": "code",
      "metadata": {
        "id": "A97Wid2Jw-oW"
      },
      "source": [
        "earlystopping = EarlyStopping(monitor='val_loss', \n",
        "                              min_delta=0,\n",
        "                              patience = 15,\n",
        "                              mode='min',\n",
        "                              restore_best_weights=True)"
      ],
      "execution_count": 104,
      "outputs": []
    },
    {
      "cell_type": "code",
      "metadata": {
        "id": "jHwgruy3w-kH",
        "colab": {
          "base_uri": "https://localhost:8080/",
          "height": 1000
        },
        "outputId": "293246cb-a4bc-4bd5-c4e8-dcdb0e4275d0"
      },
      "source": [
        "model2.summary()\n",
        "plot_model(model2, 'net2.png', show_shapes=True)"
      ],
      "execution_count": 105,
      "outputs": [
        {
          "output_type": "stream",
          "text": [
            "Model: \"sequential_9\"\n",
            "_________________________________________________________________\n",
            "Layer (type)                 Output Shape              Param #   \n",
            "=================================================================\n",
            "layer1_red2 (Dense)          (None, 250)               70000     \n",
            "_________________________________________________________________\n",
            "dropout_4 (Dropout)          (None, 250)               0         \n",
            "_________________________________________________________________\n",
            "layer2_red2 (Dense)          (None, 150)               37650     \n",
            "_________________________________________________________________\n",
            "layer3_red2 (Dense)          (None, 100)               15100     \n",
            "_________________________________________________________________\n",
            "dropout_5 (Dropout)          (None, 100)               0         \n",
            "_________________________________________________________________\n",
            "layer4_red2 (Dense)          (None, 50)                5050      \n",
            "_________________________________________________________________\n",
            "layer5_red2 (Dense)          (None, 25)                1275      \n",
            "_________________________________________________________________\n",
            "layerOut_red2 (Dense)        (None, 17)                442       \n",
            "=================================================================\n",
            "Total params: 129,517\n",
            "Trainable params: 129,517\n",
            "Non-trainable params: 0\n",
            "_________________________________________________________________\n"
          ],
          "name": "stdout"
        },
        {
          "output_type": "execute_result",
          "data": {
            "image/png": "[encoded data removed]",
            "text/plain": [
              "<IPython.core.display.Image object>"
            ]
          },
          "metadata": {
            "tags": []
          },
          "execution_count": 105
        }
      ]
    },
    {
      "cell_type": "code",
      "metadata": {
        "id": "TMv6bPDGw-gC",
        "colab": {
          "base_uri": "https://localhost:8080/"
        },
        "outputId": "f52c827d-5e5f-42e5-dc43-acf5998cf2a6"
      },
      "source": [
        "## Entrenamos el modelo\n",
        "%time\n",
        "history2 = model2.fit(x_train, \n",
        "          y_train,\n",
        "          epochs = 400,\n",
        "          batch_size=batchsize,\n",
        "          validation_split=0.2,\n",
        "          verbose = True,\n",
        "          callbacks=earlystopping)"
      ],
      "execution_count": 106,
      "outputs": [
        {
          "output_type": "stream",
          "text": [
            "CPU times: user 4 µs, sys: 1 µs, total: 5 µs\n",
            "Wall time: 9.54 µs\n",
            "Epoch 1/400\n",
            "8/8 [==============================] - 1s 30ms/step - loss: 2.8426 - acc: 0.0080 - val_loss: 2.5770 - val_acc: 0.1625\n",
            "Epoch 2/400\n",
            "8/8 [==============================] - 0s 8ms/step - loss: 2.5497 - acc: 0.3018 - val_loss: 2.4106 - val_acc: 0.4250\n",
            "Epoch 3/400\n",
            "8/8 [==============================] - 0s 7ms/step - loss: 2.3428 - acc: 0.5316 - val_loss: 2.2874 - val_acc: 0.4250\n",
            "Epoch 4/400\n",
            "8/8 [==============================] - 0s 7ms/step - loss: 2.0643 - acc: 0.5817 - val_loss: 2.2015 - val_acc: 0.4250\n",
            "Epoch 5/400\n",
            "8/8 [==============================] - 0s 7ms/step - loss: 1.9739 - acc: 0.5604 - val_loss: 2.1560 - val_acc: 0.4250\n",
            "Epoch 6/400\n",
            "8/8 [==============================] - 0s 7ms/step - loss: 1.9052 - acc: 0.5678 - val_loss: 2.1387 - val_acc: 0.4250\n",
            "Epoch 7/400\n",
            "8/8 [==============================] - 0s 7ms/step - loss: 1.8412 - acc: 0.5636 - val_loss: 2.1302 - val_acc: 0.4250\n",
            "Epoch 8/400\n",
            "8/8 [==============================] - 0s 7ms/step - loss: 1.8125 - acc: 0.5632 - val_loss: 2.1203 - val_acc: 0.4250\n",
            "Epoch 9/400\n",
            "8/8 [==============================] - 0s 7ms/step - loss: 1.8492 - acc: 0.5440 - val_loss: 2.1125 - val_acc: 0.4250\n",
            "Epoch 10/400\n",
            "8/8 [==============================] - 0s 7ms/step - loss: 1.8099 - acc: 0.5623 - val_loss: 2.0980 - val_acc: 0.4250\n",
            "Epoch 11/400\n",
            "8/8 [==============================] - 0s 7ms/step - loss: 1.8802 - acc: 0.5341 - val_loss: 2.0858 - val_acc: 0.4250\n",
            "Epoch 12/400\n",
            "8/8 [==============================] - 0s 8ms/step - loss: 1.8350 - acc: 0.5336 - val_loss: 2.0738 - val_acc: 0.4250\n",
            "Epoch 13/400\n",
            "8/8 [==============================] - 0s 8ms/step - loss: 1.8237 - acc: 0.5470 - val_loss: 2.0635 - val_acc: 0.4250\n",
            "Epoch 14/400\n",
            "8/8 [==============================] - 0s 7ms/step - loss: 1.8289 - acc: 0.5237 - val_loss: 2.0516 - val_acc: 0.4250\n",
            "Epoch 15/400\n",
            "8/8 [==============================] - 0s 7ms/step - loss: 1.7022 - acc: 0.5755 - val_loss: 2.0374 - val_acc: 0.4250\n",
            "Epoch 16/400\n",
            "8/8 [==============================] - 0s 8ms/step - loss: 1.6364 - acc: 0.5901 - val_loss: 2.0241 - val_acc: 0.4250\n",
            "Epoch 17/400\n",
            "8/8 [==============================] - 0s 7ms/step - loss: 1.7360 - acc: 0.5327 - val_loss: 2.0190 - val_acc: 0.4250\n",
            "Epoch 18/400\n",
            "8/8 [==============================] - 0s 7ms/step - loss: 1.7122 - acc: 0.5504 - val_loss: 2.0100 - val_acc: 0.4250\n",
            "Epoch 19/400\n",
            "8/8 [==============================] - 0s 8ms/step - loss: 1.6108 - acc: 0.5874 - val_loss: 1.9995 - val_acc: 0.4250\n",
            "Epoch 20/400\n",
            "8/8 [==============================] - 0s 8ms/step - loss: 1.7132 - acc: 0.5503 - val_loss: 1.9935 - val_acc: 0.4250\n",
            "Epoch 21/400\n",
            "8/8 [==============================] - 0s 8ms/step - loss: 1.6591 - acc: 0.5699 - val_loss: 1.9868 - val_acc: 0.4250\n",
            "Epoch 22/400\n",
            "8/8 [==============================] - 0s 8ms/step - loss: 1.6682 - acc: 0.5516 - val_loss: 1.9833 - val_acc: 0.4250\n",
            "Epoch 23/400\n",
            "8/8 [==============================] - 0s 7ms/step - loss: 1.5339 - acc: 0.6149 - val_loss: 1.9745 - val_acc: 0.4250\n",
            "Epoch 24/400\n",
            "8/8 [==============================] - 0s 8ms/step - loss: 1.6313 - acc: 0.5615 - val_loss: 1.9709 - val_acc: 0.4250\n",
            "Epoch 25/400\n",
            "8/8 [==============================] - 0s 29ms/step - loss: 1.6100 - acc: 0.5800 - val_loss: 1.9661 - val_acc: 0.4250\n",
            "Epoch 26/400\n",
            "8/8 [==============================] - 0s 7ms/step - loss: 1.7413 - acc: 0.5234 - val_loss: 1.9665 - val_acc: 0.4250\n",
            "Epoch 27/400\n",
            "8/8 [==============================] - 0s 7ms/step - loss: 1.6888 - acc: 0.5423 - val_loss: 1.9622 - val_acc: 0.4250\n",
            "Epoch 28/400\n",
            "8/8 [==============================] - 0s 7ms/step - loss: 1.6473 - acc: 0.5679 - val_loss: 1.9554 - val_acc: 0.4250\n",
            "Epoch 29/400\n",
            "8/8 [==============================] - 0s 7ms/step - loss: 1.7431 - acc: 0.5297 - val_loss: 1.9555 - val_acc: 0.4250\n",
            "Epoch 30/400\n",
            "8/8 [==============================] - 0s 7ms/step - loss: 1.6404 - acc: 0.5581 - val_loss: 1.9529 - val_acc: 0.4250\n",
            "Epoch 31/400\n",
            "8/8 [==============================] - 0s 7ms/step - loss: 1.6849 - acc: 0.5515 - val_loss: 1.9477 - val_acc: 0.4250\n",
            "Epoch 32/400\n",
            "8/8 [==============================] - 0s 7ms/step - loss: 1.5813 - acc: 0.5875 - val_loss: 1.9410 - val_acc: 0.4250\n",
            "Epoch 33/400\n",
            "8/8 [==============================] - 0s 8ms/step - loss: 1.7391 - acc: 0.5121 - val_loss: 1.9401 - val_acc: 0.4250\n",
            "Epoch 34/400\n",
            "8/8 [==============================] - 0s 7ms/step - loss: 1.6544 - acc: 0.5478 - val_loss: 1.9391 - val_acc: 0.4250\n",
            "Epoch 35/400\n",
            "8/8 [==============================] - 0s 7ms/step - loss: 1.5627 - acc: 0.5729 - val_loss: 1.9333 - val_acc: 0.4250\n",
            "Epoch 36/400\n",
            "8/8 [==============================] - 0s 7ms/step - loss: 1.5360 - acc: 0.6004 - val_loss: 1.9255 - val_acc: 0.4250\n",
            "Epoch 37/400\n",
            "8/8 [==============================] - 0s 8ms/step - loss: 1.6196 - acc: 0.5671 - val_loss: 1.9235 - val_acc: 0.4250\n",
            "Epoch 38/400\n",
            "8/8 [==============================] - 0s 7ms/step - loss: 1.5605 - acc: 0.5670 - val_loss: 1.9200 - val_acc: 0.4250\n",
            "Epoch 39/400\n",
            "8/8 [==============================] - 0s 7ms/step - loss: 1.6496 - acc: 0.5314 - val_loss: 1.9215 - val_acc: 0.4250\n",
            "Epoch 40/400\n",
            "8/8 [==============================] - 0s 7ms/step - loss: 1.6304 - acc: 0.5449 - val_loss: 1.9160 - val_acc: 0.4250\n",
            "Epoch 41/400\n",
            "8/8 [==============================] - 0s 7ms/step - loss: 1.6236 - acc: 0.5645 - val_loss: 1.9132 - val_acc: 0.4250\n",
            "Epoch 42/400\n",
            "8/8 [==============================] - 0s 8ms/step - loss: 1.6180 - acc: 0.5495 - val_loss: 1.9143 - val_acc: 0.4250\n",
            "Epoch 43/400\n",
            "8/8 [==============================] - 0s 7ms/step - loss: 1.5548 - acc: 0.5800 - val_loss: 1.9087 - val_acc: 0.4250\n",
            "Epoch 44/400\n",
            "8/8 [==============================] - 0s 7ms/step - loss: 1.5411 - acc: 0.5788 - val_loss: 1.9036 - val_acc: 0.4250\n",
            "Epoch 45/400\n",
            "8/8 [==============================] - 0s 7ms/step - loss: 1.5618 - acc: 0.5680 - val_loss: 1.8977 - val_acc: 0.4250\n",
            "Epoch 46/400\n",
            "8/8 [==============================] - 0s 8ms/step - loss: 1.6426 - acc: 0.5411 - val_loss: 1.8974 - val_acc: 0.4250\n",
            "Epoch 47/400\n",
            "8/8 [==============================] - 0s 8ms/step - loss: 1.5154 - acc: 0.5795 - val_loss: 1.8927 - val_acc: 0.4250\n",
            "Epoch 48/400\n",
            "8/8 [==============================] - 0s 7ms/step - loss: 1.6111 - acc: 0.5423 - val_loss: 1.8934 - val_acc: 0.4250\n",
            "Epoch 49/400\n",
            "8/8 [==============================] - 0s 7ms/step - loss: 1.5916 - acc: 0.5416 - val_loss: 1.8905 - val_acc: 0.4250\n",
            "Epoch 50/400\n",
            "8/8 [==============================] - 0s 9ms/step - loss: 1.5229 - acc: 0.5829 - val_loss: 1.8834 - val_acc: 0.4250\n",
            "Epoch 51/400\n",
            "8/8 [==============================] - 0s 7ms/step - loss: 1.5465 - acc: 0.5583 - val_loss: 1.8798 - val_acc: 0.4250\n",
            "Epoch 52/400\n",
            "8/8 [==============================] - 0s 8ms/step - loss: 1.5938 - acc: 0.5459 - val_loss: 1.8771 - val_acc: 0.4250\n",
            "Epoch 53/400\n",
            "8/8 [==============================] - 0s 7ms/step - loss: 1.6462 - acc: 0.5204 - val_loss: 1.8807 - val_acc: 0.4250\n",
            "Epoch 54/400\n",
            "8/8 [==============================] - 0s 7ms/step - loss: 1.5196 - acc: 0.5806 - val_loss: 1.8734 - val_acc: 0.4250\n",
            "Epoch 55/400\n",
            "8/8 [==============================] - 0s 7ms/step - loss: 1.6141 - acc: 0.5438 - val_loss: 1.8713 - val_acc: 0.4250\n",
            "Epoch 56/400\n",
            "8/8 [==============================] - 0s 7ms/step - loss: 1.6154 - acc: 0.5402 - val_loss: 1.8703 - val_acc: 0.4250\n",
            "Epoch 57/400\n",
            "8/8 [==============================] - 0s 7ms/step - loss: 1.5727 - acc: 0.5520 - val_loss: 1.8663 - val_acc: 0.4375\n",
            "Epoch 58/400\n",
            "8/8 [==============================] - 0s 7ms/step - loss: 1.4849 - acc: 0.5747 - val_loss: 1.8594 - val_acc: 0.4375\n",
            "Epoch 59/400\n",
            "8/8 [==============================] - 0s 7ms/step - loss: 1.5194 - acc: 0.5690 - val_loss: 1.8504 - val_acc: 0.4375\n",
            "Epoch 60/400\n",
            "8/8 [==============================] - 0s 7ms/step - loss: 1.5253 - acc: 0.5578 - val_loss: 1.8476 - val_acc: 0.4375\n",
            "Epoch 61/400\n",
            "8/8 [==============================] - 0s 7ms/step - loss: 1.6222 - acc: 0.5227 - val_loss: 1.8501 - val_acc: 0.4375\n",
            "Epoch 62/400\n",
            "8/8 [==============================] - 0s 8ms/step - loss: 1.5073 - acc: 0.5639 - val_loss: 1.8452 - val_acc: 0.4375\n",
            "Epoch 63/400\n",
            "8/8 [==============================] - 0s 7ms/step - loss: 1.5267 - acc: 0.5628 - val_loss: 1.8379 - val_acc: 0.4375\n",
            "Epoch 64/400\n",
            "8/8 [==============================] - 0s 8ms/step - loss: 1.5483 - acc: 0.5515 - val_loss: 1.8343 - val_acc: 0.4375\n",
            "Epoch 65/400\n",
            "8/8 [==============================] - 0s 8ms/step - loss: 1.4721 - acc: 0.5854 - val_loss: 1.8287 - val_acc: 0.4375\n",
            "Epoch 66/400\n",
            "8/8 [==============================] - 0s 8ms/step - loss: 1.5978 - acc: 0.5279 - val_loss: 1.8278 - val_acc: 0.4375\n",
            "Epoch 67/400\n",
            "8/8 [==============================] - 0s 7ms/step - loss: 1.5832 - acc: 0.5521 - val_loss: 1.8218 - val_acc: 0.4375\n",
            "Epoch 68/400\n",
            "8/8 [==============================] - 0s 7ms/step - loss: 1.5508 - acc: 0.5603 - val_loss: 1.8157 - val_acc: 0.4375\n",
            "Epoch 69/400\n",
            "8/8 [==============================] - 0s 7ms/step - loss: 1.5355 - acc: 0.5433 - val_loss: 1.8164 - val_acc: 0.4375\n",
            "Epoch 70/400\n",
            "8/8 [==============================] - 0s 8ms/step - loss: 1.4679 - acc: 0.5751 - val_loss: 1.8096 - val_acc: 0.4375\n",
            "Epoch 71/400\n",
            "8/8 [==============================] - 0s 7ms/step - loss: 1.4628 - acc: 0.5861 - val_loss: 1.7975 - val_acc: 0.4375\n",
            "Epoch 72/400\n",
            "8/8 [==============================] - 0s 7ms/step - loss: 1.4373 - acc: 0.5924 - val_loss: 1.7929 - val_acc: 0.4375\n",
            "Epoch 73/400\n",
            "8/8 [==============================] - 0s 9ms/step - loss: 1.4821 - acc: 0.5564 - val_loss: 1.7929 - val_acc: 0.4375\n",
            "Epoch 74/400\n",
            "8/8 [==============================] - 0s 9ms/step - loss: 1.4438 - acc: 0.5832 - val_loss: 1.7891 - val_acc: 0.4375\n",
            "Epoch 75/400\n",
            "8/8 [==============================] - 0s 8ms/step - loss: 1.4594 - acc: 0.5858 - val_loss: 1.7825 - val_acc: 0.4375\n",
            "Epoch 76/400\n",
            "8/8 [==============================] - 0s 7ms/step - loss: 1.5105 - acc: 0.5611 - val_loss: 1.7785 - val_acc: 0.4375\n",
            "Epoch 77/400\n",
            "8/8 [==============================] - 0s 7ms/step - loss: 1.5061 - acc: 0.5549 - val_loss: 1.7742 - val_acc: 0.4375\n",
            "Epoch 78/400\n",
            "8/8 [==============================] - 0s 8ms/step - loss: 1.4375 - acc: 0.5801 - val_loss: 1.7727 - val_acc: 0.4375\n",
            "Epoch 79/400\n",
            "8/8 [==============================] - 0s 7ms/step - loss: 1.5591 - acc: 0.5320 - val_loss: 1.7732 - val_acc: 0.4375\n",
            "Epoch 80/400\n",
            "8/8 [==============================] - 0s 8ms/step - loss: 1.5033 - acc: 0.5653 - val_loss: 1.7701 - val_acc: 0.4375\n",
            "Epoch 81/400\n",
            "8/8 [==============================] - 0s 7ms/step - loss: 1.5447 - acc: 0.5469 - val_loss: 1.7591 - val_acc: 0.4375\n",
            "Epoch 82/400\n",
            "8/8 [==============================] - 0s 8ms/step - loss: 1.4760 - acc: 0.5641 - val_loss: 1.7566 - val_acc: 0.4375\n",
            "Epoch 83/400\n",
            "8/8 [==============================] - 0s 25ms/step - loss: 1.4414 - acc: 0.5632 - val_loss: 1.7470 - val_acc: 0.4500\n",
            "Epoch 84/400\n",
            "8/8 [==============================] - 0s 7ms/step - loss: 1.4286 - acc: 0.5684 - val_loss: 1.7420 - val_acc: 0.4500\n",
            "Epoch 85/400\n",
            "8/8 [==============================] - 0s 8ms/step - loss: 1.4053 - acc: 0.5867 - val_loss: 1.7379 - val_acc: 0.4500\n",
            "Epoch 86/400\n",
            "8/8 [==============================] - 0s 7ms/step - loss: 1.4481 - acc: 0.5632 - val_loss: 1.7398 - val_acc: 0.4500\n",
            "Epoch 87/400\n",
            "8/8 [==============================] - 0s 7ms/step - loss: 1.4074 - acc: 0.5992 - val_loss: 1.7332 - val_acc: 0.4500\n",
            "Epoch 88/400\n",
            "8/8 [==============================] - 0s 7ms/step - loss: 1.3914 - acc: 0.5824 - val_loss: 1.7264 - val_acc: 0.4500\n",
            "Epoch 89/400\n",
            "8/8 [==============================] - 0s 8ms/step - loss: 1.3861 - acc: 0.5846 - val_loss: 1.7197 - val_acc: 0.4625\n",
            "Epoch 90/400\n",
            "8/8 [==============================] - 0s 7ms/step - loss: 1.4183 - acc: 0.5844 - val_loss: 1.7130 - val_acc: 0.4625\n",
            "Epoch 91/400\n",
            "8/8 [==============================] - 0s 7ms/step - loss: 1.3155 - acc: 0.6095 - val_loss: 1.7093 - val_acc: 0.4625\n",
            "Epoch 92/400\n",
            "8/8 [==============================] - 0s 8ms/step - loss: 1.3281 - acc: 0.6065 - val_loss: 1.7024 - val_acc: 0.4625\n",
            "Epoch 93/400\n",
            "8/8 [==============================] - 0s 8ms/step - loss: 1.3973 - acc: 0.6026 - val_loss: 1.7010 - val_acc: 0.4625\n",
            "Epoch 94/400\n",
            "8/8 [==============================] - 0s 8ms/step - loss: 1.3577 - acc: 0.5773 - val_loss: 1.6978 - val_acc: 0.4625\n",
            "Epoch 95/400\n",
            "8/8 [==============================] - 0s 8ms/step - loss: 1.4207 - acc: 0.5786 - val_loss: 1.6924 - val_acc: 0.4625\n",
            "Epoch 96/400\n",
            "8/8 [==============================] - 0s 9ms/step - loss: 1.3552 - acc: 0.5917 - val_loss: 1.6882 - val_acc: 0.4625\n",
            "Epoch 97/400\n",
            "8/8 [==============================] - 0s 7ms/step - loss: 1.3807 - acc: 0.5990 - val_loss: 1.6810 - val_acc: 0.4625\n",
            "Epoch 98/400\n",
            "8/8 [==============================] - 0s 8ms/step - loss: 1.2504 - acc: 0.6316 - val_loss: 1.6773 - val_acc: 0.4625\n",
            "Epoch 99/400\n",
            "8/8 [==============================] - 0s 7ms/step - loss: 1.3926 - acc: 0.5761 - val_loss: 1.6734 - val_acc: 0.4500\n",
            "Epoch 100/400\n",
            "8/8 [==============================] - 0s 8ms/step - loss: 1.4517 - acc: 0.5592 - val_loss: 1.6786 - val_acc: 0.4625\n",
            "Epoch 101/400\n",
            "8/8 [==============================] - 0s 7ms/step - loss: 1.4224 - acc: 0.5776 - val_loss: 1.6723 - val_acc: 0.4500\n",
            "Epoch 102/400\n",
            "8/8 [==============================] - 0s 7ms/step - loss: 1.3748 - acc: 0.5828 - val_loss: 1.6712 - val_acc: 0.4500\n",
            "Epoch 103/400\n",
            "8/8 [==============================] - 0s 7ms/step - loss: 1.4104 - acc: 0.5880 - val_loss: 1.6645 - val_acc: 0.4500\n",
            "Epoch 104/400\n",
            "8/8 [==============================] - 0s 8ms/step - loss: 1.2913 - acc: 0.6128 - val_loss: 1.6518 - val_acc: 0.4500\n",
            "Epoch 105/400\n",
            "8/8 [==============================] - 0s 7ms/step - loss: 1.3183 - acc: 0.5851 - val_loss: 1.6490 - val_acc: 0.4500\n",
            "Epoch 106/400\n",
            "8/8 [==============================] - 0s 7ms/step - loss: 1.3583 - acc: 0.5930 - val_loss: 1.6470 - val_acc: 0.4500\n",
            "Epoch 107/400\n",
            "8/8 [==============================] - 0s 8ms/step - loss: 1.3805 - acc: 0.5913 - val_loss: 1.6440 - val_acc: 0.4500\n",
            "Epoch 108/400\n",
            "8/8 [==============================] - 0s 8ms/step - loss: 1.3428 - acc: 0.5893 - val_loss: 1.6407 - val_acc: 0.4500\n",
            "Epoch 109/400\n",
            "8/8 [==============================] - 0s 7ms/step - loss: 1.2804 - acc: 0.6275 - val_loss: 1.6355 - val_acc: 0.4375\n",
            "Epoch 110/400\n",
            "8/8 [==============================] - 0s 7ms/step - loss: 1.2910 - acc: 0.6045 - val_loss: 1.6298 - val_acc: 0.4375\n",
            "Epoch 111/400\n",
            "8/8 [==============================] - 0s 8ms/step - loss: 1.3344 - acc: 0.5991 - val_loss: 1.6266 - val_acc: 0.4500\n",
            "Epoch 112/400\n",
            "8/8 [==============================] - 0s 8ms/step - loss: 1.3073 - acc: 0.6089 - val_loss: 1.6245 - val_acc: 0.4625\n",
            "Epoch 113/400\n",
            "8/8 [==============================] - 0s 7ms/step - loss: 1.3629 - acc: 0.5953 - val_loss: 1.6194 - val_acc: 0.4625\n",
            "Epoch 114/400\n",
            "8/8 [==============================] - 0s 8ms/step - loss: 1.2821 - acc: 0.6082 - val_loss: 1.6153 - val_acc: 0.4750\n",
            "Epoch 115/400\n",
            "8/8 [==============================] - 0s 7ms/step - loss: 1.2454 - acc: 0.6224 - val_loss: 1.6094 - val_acc: 0.4875\n",
            "Epoch 116/400\n",
            "8/8 [==============================] - 0s 8ms/step - loss: 1.3575 - acc: 0.5859 - val_loss: 1.6084 - val_acc: 0.4875\n",
            "Epoch 117/400\n",
            "8/8 [==============================] - 0s 7ms/step - loss: 1.1988 - acc: 0.6523 - val_loss: 1.6065 - val_acc: 0.4875\n",
            "Epoch 118/400\n",
            "8/8 [==============================] - 0s 8ms/step - loss: 1.1877 - acc: 0.6542 - val_loss: 1.6006 - val_acc: 0.5000\n",
            "Epoch 119/400\n",
            "8/8 [==============================] - 0s 7ms/step - loss: 1.2620 - acc: 0.6181 - val_loss: 1.6003 - val_acc: 0.5000\n",
            "Epoch 120/400\n",
            "8/8 [==============================] - 0s 8ms/step - loss: 1.1893 - acc: 0.6375 - val_loss: 1.5946 - val_acc: 0.5125\n",
            "Epoch 121/400\n",
            "8/8 [==============================] - 0s 8ms/step - loss: 1.1939 - acc: 0.6570 - val_loss: 1.5836 - val_acc: 0.5125\n",
            "Epoch 122/400\n",
            "8/8 [==============================] - 0s 8ms/step - loss: 1.1806 - acc: 0.6282 - val_loss: 1.5842 - val_acc: 0.5125\n",
            "Epoch 123/400\n",
            "8/8 [==============================] - 0s 8ms/step - loss: 1.2611 - acc: 0.6104 - val_loss: 1.5783 - val_acc: 0.5125\n",
            "Epoch 124/400\n",
            "8/8 [==============================] - 0s 7ms/step - loss: 1.2239 - acc: 0.6613 - val_loss: 1.5746 - val_acc: 0.5125\n",
            "Epoch 125/400\n",
            "8/8 [==============================] - 0s 7ms/step - loss: 1.1962 - acc: 0.6582 - val_loss: 1.5726 - val_acc: 0.5125\n",
            "Epoch 126/400\n",
            "8/8 [==============================] - 0s 8ms/step - loss: 1.2991 - acc: 0.6279 - val_loss: 1.5607 - val_acc: 0.5250\n",
            "Epoch 127/400\n",
            "8/8 [==============================] - 0s 9ms/step - loss: 1.2589 - acc: 0.6475 - val_loss: 1.5643 - val_acc: 0.5125\n",
            "Epoch 128/400\n",
            "8/8 [==============================] - 0s 8ms/step - loss: 1.2515 - acc: 0.6209 - val_loss: 1.5580 - val_acc: 0.5125\n",
            "Epoch 129/400\n",
            "8/8 [==============================] - 0s 7ms/step - loss: 1.2525 - acc: 0.6187 - val_loss: 1.5562 - val_acc: 0.5125\n",
            "Epoch 130/400\n",
            "8/8 [==============================] - 0s 7ms/step - loss: 1.2275 - acc: 0.6353 - val_loss: 1.5529 - val_acc: 0.5250\n",
            "Epoch 131/400\n",
            "8/8 [==============================] - 0s 8ms/step - loss: 1.0984 - acc: 0.6605 - val_loss: 1.5458 - val_acc: 0.5250\n",
            "Epoch 132/400\n",
            "8/8 [==============================] - 0s 9ms/step - loss: 1.1439 - acc: 0.6616 - val_loss: 1.5403 - val_acc: 0.5375\n",
            "Epoch 133/400\n",
            "8/8 [==============================] - 0s 7ms/step - loss: 1.1886 - acc: 0.6332 - val_loss: 1.5373 - val_acc: 0.5375\n",
            "Epoch 134/400\n",
            "8/8 [==============================] - 0s 7ms/step - loss: 1.1811 - acc: 0.6604 - val_loss: 1.5428 - val_acc: 0.5250\n",
            "Epoch 135/400\n",
            "8/8 [==============================] - 0s 7ms/step - loss: 1.1765 - acc: 0.6480 - val_loss: 1.5385 - val_acc: 0.5375\n",
            "Epoch 136/400\n",
            "8/8 [==============================] - 0s 9ms/step - loss: 1.1161 - acc: 0.6654 - val_loss: 1.5308 - val_acc: 0.5375\n",
            "Epoch 137/400\n",
            "8/8 [==============================] - 0s 8ms/step - loss: 1.0799 - acc: 0.6684 - val_loss: 1.5225 - val_acc: 0.5375\n",
            "Epoch 138/400\n",
            "8/8 [==============================] - 0s 8ms/step - loss: 1.0981 - acc: 0.6645 - val_loss: 1.5180 - val_acc: 0.5500\n",
            "Epoch 139/400\n",
            "8/8 [==============================] - 0s 7ms/step - loss: 1.1944 - acc: 0.6360 - val_loss: 1.5197 - val_acc: 0.5375\n",
            "Epoch 140/400\n",
            "8/8 [==============================] - 0s 8ms/step - loss: 1.1498 - acc: 0.6831 - val_loss: 1.5187 - val_acc: 0.5375\n",
            "Epoch 141/400\n",
            "8/8 [==============================] - 0s 25ms/step - loss: 1.1545 - acc: 0.6660 - val_loss: 1.5145 - val_acc: 0.5500\n",
            "Epoch 142/400\n",
            "8/8 [==============================] - 0s 7ms/step - loss: 1.2563 - acc: 0.5982 - val_loss: 1.5095 - val_acc: 0.5625\n",
            "Epoch 143/400\n",
            "8/8 [==============================] - 0s 8ms/step - loss: 1.0593 - acc: 0.6672 - val_loss: 1.5049 - val_acc: 0.5625\n",
            "Epoch 144/400\n",
            "8/8 [==============================] - 0s 7ms/step - loss: 1.0856 - acc: 0.6832 - val_loss: 1.5050 - val_acc: 0.5625\n",
            "Epoch 145/400\n",
            "8/8 [==============================] - 0s 7ms/step - loss: 1.2121 - acc: 0.6357 - val_loss: 1.4979 - val_acc: 0.5625\n",
            "Epoch 146/400\n",
            "8/8 [==============================] - 0s 8ms/step - loss: 1.1337 - acc: 0.6685 - val_loss: 1.4933 - val_acc: 0.5625\n",
            "Epoch 147/400\n",
            "8/8 [==============================] - 0s 8ms/step - loss: 1.1642 - acc: 0.6445 - val_loss: 1.4891 - val_acc: 0.5625\n",
            "Epoch 148/400\n",
            "8/8 [==============================] - 0s 7ms/step - loss: 1.0399 - acc: 0.6789 - val_loss: 1.4876 - val_acc: 0.5625\n",
            "Epoch 149/400\n",
            "8/8 [==============================] - 0s 8ms/step - loss: 1.2625 - acc: 0.6329 - val_loss: 1.4906 - val_acc: 0.5625\n",
            "Epoch 150/400\n",
            "8/8 [==============================] - 0s 8ms/step - loss: 1.1420 - acc: 0.6520 - val_loss: 1.4843 - val_acc: 0.5625\n",
            "Epoch 151/400\n",
            "8/8 [==============================] - 0s 10ms/step - loss: 1.0821 - acc: 0.6618 - val_loss: 1.4848 - val_acc: 0.5625\n",
            "Epoch 152/400\n",
            "8/8 [==============================] - 0s 9ms/step - loss: 1.0567 - acc: 0.6633 - val_loss: 1.4783 - val_acc: 0.5625\n",
            "Epoch 153/400\n",
            "8/8 [==============================] - 0s 8ms/step - loss: 1.1482 - acc: 0.6419 - val_loss: 1.4720 - val_acc: 0.5625\n",
            "Epoch 154/400\n",
            "8/8 [==============================] - 0s 7ms/step - loss: 0.9801 - acc: 0.7069 - val_loss: 1.4706 - val_acc: 0.5625\n",
            "Epoch 155/400\n",
            "8/8 [==============================] - 0s 7ms/step - loss: 1.1176 - acc: 0.6461 - val_loss: 1.4680 - val_acc: 0.5625\n",
            "Epoch 156/400\n",
            "8/8 [==============================] - 0s 8ms/step - loss: 1.1807 - acc: 0.6542 - val_loss: 1.4688 - val_acc: 0.5750\n",
            "Epoch 157/400\n",
            "8/8 [==============================] - 0s 8ms/step - loss: 1.0802 - acc: 0.6815 - val_loss: 1.4668 - val_acc: 0.5750\n",
            "Epoch 158/400\n",
            "8/8 [==============================] - 0s 7ms/step - loss: 1.1210 - acc: 0.6590 - val_loss: 1.4637 - val_acc: 0.5750\n",
            "Epoch 159/400\n",
            "8/8 [==============================] - 0s 7ms/step - loss: 1.1089 - acc: 0.6518 - val_loss: 1.4577 - val_acc: 0.5750\n",
            "Epoch 160/400\n",
            "8/8 [==============================] - 0s 9ms/step - loss: 1.0252 - acc: 0.6846 - val_loss: 1.4495 - val_acc: 0.5750\n",
            "Epoch 161/400\n",
            "8/8 [==============================] - 0s 7ms/step - loss: 1.0096 - acc: 0.6960 - val_loss: 1.4467 - val_acc: 0.5875\n",
            "Epoch 162/400\n",
            "8/8 [==============================] - 0s 8ms/step - loss: 1.1184 - acc: 0.6518 - val_loss: 1.4437 - val_acc: 0.5750\n",
            "Epoch 163/400\n",
            "8/8 [==============================] - 0s 8ms/step - loss: 1.1190 - acc: 0.6489 - val_loss: 1.4408 - val_acc: 0.5750\n",
            "Epoch 164/400\n",
            "8/8 [==============================] - 0s 9ms/step - loss: 0.9794 - acc: 0.7231 - val_loss: 1.4351 - val_acc: 0.5875\n",
            "Epoch 165/400\n",
            "8/8 [==============================] - 0s 8ms/step - loss: 1.1044 - acc: 0.6282 - val_loss: 1.4333 - val_acc: 0.5875\n",
            "Epoch 166/400\n",
            "8/8 [==============================] - 0s 8ms/step - loss: 1.0657 - acc: 0.6750 - val_loss: 1.4351 - val_acc: 0.5875\n",
            "Epoch 167/400\n",
            "8/8 [==============================] - 0s 7ms/step - loss: 1.0269 - acc: 0.6988 - val_loss: 1.4393 - val_acc: 0.5750\n",
            "Epoch 168/400\n",
            "8/8 [==============================] - 0s 8ms/step - loss: 1.0297 - acc: 0.6815 - val_loss: 1.4366 - val_acc: 0.5750\n",
            "Epoch 169/400\n",
            "8/8 [==============================] - 0s 8ms/step - loss: 1.0724 - acc: 0.6707 - val_loss: 1.4313 - val_acc: 0.5750\n",
            "Epoch 170/400\n",
            "8/8 [==============================] - 0s 8ms/step - loss: 0.9505 - acc: 0.7149 - val_loss: 1.4224 - val_acc: 0.6000\n",
            "Epoch 171/400\n",
            "8/8 [==============================] - 0s 7ms/step - loss: 0.9921 - acc: 0.6999 - val_loss: 1.4209 - val_acc: 0.5875\n",
            "Epoch 172/400\n",
            "8/8 [==============================] - 0s 9ms/step - loss: 1.0569 - acc: 0.6849 - val_loss: 1.4267 - val_acc: 0.5875\n",
            "Epoch 173/400\n",
            "8/8 [==============================] - 0s 7ms/step - loss: 0.9838 - acc: 0.7061 - val_loss: 1.4153 - val_acc: 0.5875\n",
            "Epoch 174/400\n",
            "8/8 [==============================] - 0s 7ms/step - loss: 1.0405 - acc: 0.6913 - val_loss: 1.4064 - val_acc: 0.6000\n",
            "Epoch 175/400\n",
            "8/8 [==============================] - 0s 8ms/step - loss: 0.9514 - acc: 0.7198 - val_loss: 1.4077 - val_acc: 0.6000\n",
            "Epoch 176/400\n",
            "8/8 [==============================] - 0s 8ms/step - loss: 0.9653 - acc: 0.7015 - val_loss: 1.3964 - val_acc: 0.6000\n",
            "Epoch 177/400\n",
            "8/8 [==============================] - 0s 8ms/step - loss: 1.0305 - acc: 0.6897 - val_loss: 1.4014 - val_acc: 0.6000\n",
            "Epoch 178/400\n",
            "8/8 [==============================] - 0s 8ms/step - loss: 1.0622 - acc: 0.6796 - val_loss: 1.3982 - val_acc: 0.6000\n",
            "Epoch 179/400\n",
            "8/8 [==============================] - 0s 8ms/step - loss: 0.9997 - acc: 0.6995 - val_loss: 1.4069 - val_acc: 0.6000\n",
            "Epoch 180/400\n",
            "8/8 [==============================] - 0s 8ms/step - loss: 1.0063 - acc: 0.7076 - val_loss: 1.4065 - val_acc: 0.6000\n",
            "Epoch 181/400\n",
            "8/8 [==============================] - 0s 8ms/step - loss: 1.1278 - acc: 0.6260 - val_loss: 1.4006 - val_acc: 0.6000\n",
            "Epoch 182/400\n",
            "8/8 [==============================] - 0s 8ms/step - loss: 1.0353 - acc: 0.6754 - val_loss: 1.3905 - val_acc: 0.6000\n",
            "Epoch 183/400\n",
            "8/8 [==============================] - 0s 8ms/step - loss: 0.9683 - acc: 0.7040 - val_loss: 1.3861 - val_acc: 0.6000\n",
            "Epoch 184/400\n",
            "8/8 [==============================] - 0s 8ms/step - loss: 1.0259 - acc: 0.6671 - val_loss: 1.3803 - val_acc: 0.6000\n",
            "Epoch 185/400\n",
            "8/8 [==============================] - 0s 9ms/step - loss: 0.9522 - acc: 0.7013 - val_loss: 1.3820 - val_acc: 0.6000\n",
            "Epoch 186/400\n",
            "8/8 [==============================] - 0s 8ms/step - loss: 0.9721 - acc: 0.7192 - val_loss: 1.3801 - val_acc: 0.5875\n",
            "Epoch 187/400\n",
            "8/8 [==============================] - 0s 9ms/step - loss: 1.0319 - acc: 0.6722 - val_loss: 1.3713 - val_acc: 0.6000\n",
            "Epoch 188/400\n",
            "8/8 [==============================] - 0s 8ms/step - loss: 0.9437 - acc: 0.7080 - val_loss: 1.3635 - val_acc: 0.6000\n",
            "Epoch 189/400\n",
            "8/8 [==============================] - 0s 9ms/step - loss: 0.9941 - acc: 0.6986 - val_loss: 1.3634 - val_acc: 0.6000\n",
            "Epoch 190/400\n",
            "8/8 [==============================] - 0s 8ms/step - loss: 1.0328 - acc: 0.6822 - val_loss: 1.3570 - val_acc: 0.6000\n",
            "Epoch 191/400\n",
            "8/8 [==============================] - 0s 8ms/step - loss: 0.9257 - acc: 0.7153 - val_loss: 1.3628 - val_acc: 0.6000\n",
            "Epoch 192/400\n",
            "8/8 [==============================] - 0s 8ms/step - loss: 0.9420 - acc: 0.6767 - val_loss: 1.3583 - val_acc: 0.6000\n",
            "Epoch 193/400\n",
            "8/8 [==============================] - 0s 9ms/step - loss: 0.9998 - acc: 0.6756 - val_loss: 1.3511 - val_acc: 0.6000\n",
            "Epoch 194/400\n",
            "8/8 [==============================] - 0s 8ms/step - loss: 0.9144 - acc: 0.7126 - val_loss: 1.3486 - val_acc: 0.6000\n",
            "Epoch 195/400\n",
            "8/8 [==============================] - 0s 8ms/step - loss: 0.9810 - acc: 0.6842 - val_loss: 1.3429 - val_acc: 0.5875\n",
            "Epoch 196/400\n",
            "8/8 [==============================] - 0s 8ms/step - loss: 0.9602 - acc: 0.7186 - val_loss: 1.3493 - val_acc: 0.6000\n",
            "Epoch 197/400\n",
            "8/8 [==============================] - 0s 9ms/step - loss: 0.9337 - acc: 0.7185 - val_loss: 1.3495 - val_acc: 0.6000\n",
            "Epoch 198/400\n",
            "8/8 [==============================] - 0s 8ms/step - loss: 0.9561 - acc: 0.7165 - val_loss: 1.3394 - val_acc: 0.6000\n",
            "Epoch 199/400\n",
            "8/8 [==============================] - 0s 26ms/step - loss: 0.8542 - acc: 0.7166 - val_loss: 1.3369 - val_acc: 0.6000\n",
            "Epoch 200/400\n",
            "8/8 [==============================] - 0s 8ms/step - loss: 0.9344 - acc: 0.7045 - val_loss: 1.3395 - val_acc: 0.6000\n",
            "Epoch 201/400\n",
            "8/8 [==============================] - 0s 8ms/step - loss: 0.9288 - acc: 0.6994 - val_loss: 1.3376 - val_acc: 0.6000\n",
            "Epoch 202/400\n",
            "8/8 [==============================] - 0s 7ms/step - loss: 0.8736 - acc: 0.7353 - val_loss: 1.3319 - val_acc: 0.5875\n",
            "Epoch 203/400\n",
            "8/8 [==============================] - 0s 8ms/step - loss: 0.9209 - acc: 0.7197 - val_loss: 1.3268 - val_acc: 0.5875\n",
            "Epoch 204/400\n",
            "8/8 [==============================] - 0s 7ms/step - loss: 0.9073 - acc: 0.7231 - val_loss: 1.3297 - val_acc: 0.6000\n",
            "Epoch 205/400\n",
            "8/8 [==============================] - 0s 9ms/step - loss: 0.9204 - acc: 0.6971 - val_loss: 1.3207 - val_acc: 0.5750\n",
            "Epoch 206/400\n",
            "8/8 [==============================] - 0s 8ms/step - loss: 0.9437 - acc: 0.7068 - val_loss: 1.3135 - val_acc: 0.5875\n",
            "Epoch 207/400\n",
            "8/8 [==============================] - 0s 8ms/step - loss: 0.9156 - acc: 0.7009 - val_loss: 1.3058 - val_acc: 0.6000\n",
            "Epoch 208/400\n",
            "8/8 [==============================] - 0s 7ms/step - loss: 0.9958 - acc: 0.6893 - val_loss: 1.3032 - val_acc: 0.6000\n",
            "Epoch 209/400\n",
            "8/8 [==============================] - 0s 8ms/step - loss: 0.9556 - acc: 0.6960 - val_loss: 1.3015 - val_acc: 0.6000\n",
            "Epoch 210/400\n",
            "8/8 [==============================] - 0s 8ms/step - loss: 0.8964 - acc: 0.6905 - val_loss: 1.3001 - val_acc: 0.5875\n",
            "Epoch 211/400\n",
            "8/8 [==============================] - 0s 7ms/step - loss: 0.8962 - acc: 0.7167 - val_loss: 1.2946 - val_acc: 0.6000\n",
            "Epoch 212/400\n",
            "8/8 [==============================] - 0s 8ms/step - loss: 0.9038 - acc: 0.7208 - val_loss: 1.2971 - val_acc: 0.5875\n",
            "Epoch 213/400\n",
            "8/8 [==============================] - 0s 8ms/step - loss: 0.8547 - acc: 0.7314 - val_loss: 1.3000 - val_acc: 0.5875\n",
            "Epoch 214/400\n",
            "8/8 [==============================] - 0s 7ms/step - loss: 0.8678 - acc: 0.7176 - val_loss: 1.2994 - val_acc: 0.5875\n",
            "Epoch 215/400\n",
            "8/8 [==============================] - 0s 9ms/step - loss: 0.8501 - acc: 0.7203 - val_loss: 1.2994 - val_acc: 0.5875\n",
            "Epoch 216/400\n",
            "8/8 [==============================] - 0s 8ms/step - loss: 0.9498 - acc: 0.6893 - val_loss: 1.2974 - val_acc: 0.6000\n",
            "Epoch 217/400\n",
            "8/8 [==============================] - 0s 8ms/step - loss: 0.8619 - acc: 0.7315 - val_loss: 1.2915 - val_acc: 0.5875\n",
            "Epoch 218/400\n",
            "8/8 [==============================] - 0s 9ms/step - loss: 0.9540 - acc: 0.6975 - val_loss: 1.2901 - val_acc: 0.6000\n",
            "Epoch 219/400\n",
            "8/8 [==============================] - 0s 7ms/step - loss: 0.8766 - acc: 0.7189 - val_loss: 1.2910 - val_acc: 0.6000\n",
            "Epoch 220/400\n",
            "8/8 [==============================] - 0s 8ms/step - loss: 0.7999 - acc: 0.7395 - val_loss: 1.2855 - val_acc: 0.6000\n",
            "Epoch 221/400\n",
            "8/8 [==============================] - 0s 8ms/step - loss: 0.8007 - acc: 0.7410 - val_loss: 1.2765 - val_acc: 0.6125\n",
            "Epoch 222/400\n",
            "8/8 [==============================] - 0s 7ms/step - loss: 0.8097 - acc: 0.7650 - val_loss: 1.2733 - val_acc: 0.6125\n",
            "Epoch 223/400\n",
            "8/8 [==============================] - 0s 8ms/step - loss: 0.7951 - acc: 0.7488 - val_loss: 1.2748 - val_acc: 0.6125\n",
            "Epoch 224/400\n",
            "8/8 [==============================] - 0s 8ms/step - loss: 0.8722 - acc: 0.7156 - val_loss: 1.2671 - val_acc: 0.6000\n",
            "Epoch 225/400\n",
            "8/8 [==============================] - 0s 9ms/step - loss: 0.7922 - acc: 0.7317 - val_loss: 1.2653 - val_acc: 0.6000\n",
            "Epoch 226/400\n",
            "8/8 [==============================] - 0s 8ms/step - loss: 0.9332 - acc: 0.7026 - val_loss: 1.2722 - val_acc: 0.6000\n",
            "Epoch 227/400\n",
            "8/8 [==============================] - 0s 8ms/step - loss: 0.7849 - acc: 0.7462 - val_loss: 1.2586 - val_acc: 0.6125\n",
            "Epoch 228/400\n",
            "8/8 [==============================] - 0s 8ms/step - loss: 0.8062 - acc: 0.7675 - val_loss: 1.2614 - val_acc: 0.6250\n",
            "Epoch 229/400\n",
            "8/8 [==============================] - 0s 8ms/step - loss: 0.7975 - acc: 0.7376 - val_loss: 1.2628 - val_acc: 0.6000\n",
            "Epoch 230/400\n",
            "8/8 [==============================] - 0s 9ms/step - loss: 0.7649 - acc: 0.7809 - val_loss: 1.2630 - val_acc: 0.6000\n",
            "Epoch 231/400\n",
            "8/8 [==============================] - 0s 8ms/step - loss: 0.8928 - acc: 0.7223 - val_loss: 1.2612 - val_acc: 0.6000\n",
            "Epoch 232/400\n",
            "8/8 [==============================] - 0s 8ms/step - loss: 0.8841 - acc: 0.7195 - val_loss: 1.2642 - val_acc: 0.6000\n",
            "Epoch 233/400\n",
            "8/8 [==============================] - 0s 8ms/step - loss: 0.9205 - acc: 0.6986 - val_loss: 1.2601 - val_acc: 0.6125\n",
            "Epoch 234/400\n",
            "8/8 [==============================] - 0s 9ms/step - loss: 0.7972 - acc: 0.7387 - val_loss: 1.2574 - val_acc: 0.6250\n",
            "Epoch 235/400\n",
            "8/8 [==============================] - 0s 8ms/step - loss: 0.8536 - acc: 0.7376 - val_loss: 1.2512 - val_acc: 0.6250\n",
            "Epoch 236/400\n",
            "8/8 [==============================] - 0s 8ms/step - loss: 0.8455 - acc: 0.7404 - val_loss: 1.2454 - val_acc: 0.6375\n",
            "Epoch 237/400\n",
            "8/8 [==============================] - 0s 8ms/step - loss: 0.9429 - acc: 0.6927 - val_loss: 1.2369 - val_acc: 0.6375\n",
            "Epoch 238/400\n",
            "8/8 [==============================] - 0s 9ms/step - loss: 0.8619 - acc: 0.7294 - val_loss: 1.2387 - val_acc: 0.6500\n",
            "Epoch 239/400\n",
            "8/8 [==============================] - 0s 8ms/step - loss: 0.8322 - acc: 0.7085 - val_loss: 1.2418 - val_acc: 0.6500\n",
            "Epoch 240/400\n",
            "8/8 [==============================] - 0s 8ms/step - loss: 0.7716 - acc: 0.7686 - val_loss: 1.2418 - val_acc: 0.6250\n",
            "Epoch 241/400\n",
            "8/8 [==============================] - 0s 8ms/step - loss: 0.8382 - acc: 0.7327 - val_loss: 1.2378 - val_acc: 0.6250\n",
            "Epoch 242/400\n",
            "8/8 [==============================] - 0s 8ms/step - loss: 0.7624 - acc: 0.7740 - val_loss: 1.2476 - val_acc: 0.6125\n",
            "Epoch 243/400\n",
            "8/8 [==============================] - 0s 8ms/step - loss: 0.7963 - acc: 0.7676 - val_loss: 1.2414 - val_acc: 0.6125\n",
            "Epoch 244/400\n",
            "8/8 [==============================] - 0s 8ms/step - loss: 0.7935 - acc: 0.7348 - val_loss: 1.2277 - val_acc: 0.6250\n",
            "Epoch 245/400\n",
            "8/8 [==============================] - 0s 8ms/step - loss: 0.7665 - acc: 0.7465 - val_loss: 1.2341 - val_acc: 0.6125\n",
            "Epoch 246/400\n",
            "8/8 [==============================] - 0s 8ms/step - loss: 0.7122 - acc: 0.7661 - val_loss: 1.2258 - val_acc: 0.6500\n",
            "Epoch 247/400\n",
            "8/8 [==============================] - 0s 8ms/step - loss: 0.7589 - acc: 0.7684 - val_loss: 1.2244 - val_acc: 0.6500\n",
            "Epoch 248/400\n",
            "8/8 [==============================] - 0s 7ms/step - loss: 0.7327 - acc: 0.7745 - val_loss: 1.2318 - val_acc: 0.6375\n",
            "Epoch 249/400\n",
            "8/8 [==============================] - 0s 8ms/step - loss: 0.7555 - acc: 0.7919 - val_loss: 1.2314 - val_acc: 0.6250\n",
            "Epoch 250/400\n",
            "8/8 [==============================] - 0s 9ms/step - loss: 0.8087 - acc: 0.7370 - val_loss: 1.2262 - val_acc: 0.6250\n",
            "Epoch 251/400\n",
            "8/8 [==============================] - 0s 8ms/step - loss: 0.7601 - acc: 0.7750 - val_loss: 1.2097 - val_acc: 0.6375\n",
            "Epoch 252/400\n",
            "8/8 [==============================] - 0s 8ms/step - loss: 0.8323 - acc: 0.7314 - val_loss: 1.2192 - val_acc: 0.6250\n",
            "Epoch 253/400\n",
            "8/8 [==============================] - 0s 8ms/step - loss: 0.8066 - acc: 0.7461 - val_loss: 1.2047 - val_acc: 0.6500\n",
            "Epoch 254/400\n",
            "8/8 [==============================] - 0s 9ms/step - loss: 0.7275 - acc: 0.7932 - val_loss: 1.2139 - val_acc: 0.6250\n",
            "Epoch 255/400\n",
            "8/8 [==============================] - 0s 8ms/step - loss: 0.7677 - acc: 0.7555 - val_loss: 1.2135 - val_acc: 0.6375\n",
            "Epoch 256/400\n",
            "8/8 [==============================] - 0s 8ms/step - loss: 0.8309 - acc: 0.7368 - val_loss: 1.2169 - val_acc: 0.6125\n",
            "Epoch 257/400\n",
            "8/8 [==============================] - 0s 25ms/step - loss: 0.7652 - acc: 0.7560 - val_loss: 1.2105 - val_acc: 0.6250\n",
            "Epoch 258/400\n",
            "8/8 [==============================] - 0s 9ms/step - loss: 0.8080 - acc: 0.7498 - val_loss: 1.2017 - val_acc: 0.6375\n",
            "Epoch 259/400\n",
            "8/8 [==============================] - 0s 8ms/step - loss: 0.6794 - acc: 0.7885 - val_loss: 1.1938 - val_acc: 0.6375\n",
            "Epoch 260/400\n",
            "8/8 [==============================] - 0s 8ms/step - loss: 0.7618 - acc: 0.7738 - val_loss: 1.1920 - val_acc: 0.6500\n",
            "Epoch 261/400\n",
            "8/8 [==============================] - 0s 9ms/step - loss: 0.6780 - acc: 0.7958 - val_loss: 1.1925 - val_acc: 0.6375\n",
            "Epoch 262/400\n",
            "8/8 [==============================] - 0s 8ms/step - loss: 0.7610 - acc: 0.7564 - val_loss: 1.1917 - val_acc: 0.6375\n",
            "Epoch 263/400\n",
            "8/8 [==============================] - 0s 8ms/step - loss: 0.7866 - acc: 0.7573 - val_loss: 1.1928 - val_acc: 0.6375\n",
            "Epoch 264/400\n",
            "8/8 [==============================] - 0s 8ms/step - loss: 0.7180 - acc: 0.7794 - val_loss: 1.1927 - val_acc: 0.6500\n",
            "Epoch 265/400\n",
            "8/8 [==============================] - 0s 8ms/step - loss: 0.7314 - acc: 0.7416 - val_loss: 1.1963 - val_acc: 0.6500\n",
            "Epoch 266/400\n",
            "8/8 [==============================] - 0s 9ms/step - loss: 0.6925 - acc: 0.7803 - val_loss: 1.1808 - val_acc: 0.6750\n",
            "Epoch 267/400\n",
            "8/8 [==============================] - 0s 8ms/step - loss: 0.7333 - acc: 0.7622 - val_loss: 1.1755 - val_acc: 0.6875\n",
            "Epoch 268/400\n",
            "8/8 [==============================] - 0s 8ms/step - loss: 0.6649 - acc: 0.8262 - val_loss: 1.1751 - val_acc: 0.6875\n",
            "Epoch 269/400\n",
            "8/8 [==============================] - 0s 9ms/step - loss: 0.6923 - acc: 0.7962 - val_loss: 1.1842 - val_acc: 0.6625\n",
            "Epoch 270/400\n",
            "8/8 [==============================] - 0s 9ms/step - loss: 0.6898 - acc: 0.7958 - val_loss: 1.1807 - val_acc: 0.6500\n",
            "Epoch 271/400\n",
            "8/8 [==============================] - 0s 8ms/step - loss: 0.7110 - acc: 0.7939 - val_loss: 1.1741 - val_acc: 0.6750\n",
            "Epoch 272/400\n",
            "8/8 [==============================] - 0s 8ms/step - loss: 0.6892 - acc: 0.7858 - val_loss: 1.1653 - val_acc: 0.6750\n",
            "Epoch 273/400\n",
            "8/8 [==============================] - 0s 8ms/step - loss: 0.6503 - acc: 0.7947 - val_loss: 1.1721 - val_acc: 0.6500\n",
            "Epoch 274/400\n",
            "8/8 [==============================] - 0s 8ms/step - loss: 0.8239 - acc: 0.7070 - val_loss: 1.1759 - val_acc: 0.6500\n",
            "Epoch 275/400\n",
            "8/8 [==============================] - 0s 8ms/step - loss: 0.6299 - acc: 0.7915 - val_loss: 1.1805 - val_acc: 0.6500\n",
            "Epoch 276/400\n",
            "8/8 [==============================] - 0s 8ms/step - loss: 0.7316 - acc: 0.7495 - val_loss: 1.1798 - val_acc: 0.6500\n",
            "Epoch 277/400\n",
            "8/8 [==============================] - 0s 8ms/step - loss: 0.6936 - acc: 0.8019 - val_loss: 1.1706 - val_acc: 0.6625\n",
            "Epoch 278/400\n",
            "8/8 [==============================] - 0s 8ms/step - loss: 0.6819 - acc: 0.7947 - val_loss: 1.1648 - val_acc: 0.6625\n",
            "Epoch 279/400\n",
            "8/8 [==============================] - 0s 8ms/step - loss: 0.7540 - acc: 0.7384 - val_loss: 1.1630 - val_acc: 0.6625\n",
            "Epoch 280/400\n",
            "8/8 [==============================] - 0s 7ms/step - loss: 0.6615 - acc: 0.7908 - val_loss: 1.1650 - val_acc: 0.6625\n",
            "Epoch 281/400\n",
            "8/8 [==============================] - 0s 9ms/step - loss: 0.6969 - acc: 0.8118 - val_loss: 1.1742 - val_acc: 0.6375\n",
            "Epoch 282/400\n",
            "8/8 [==============================] - 0s 8ms/step - loss: 0.6583 - acc: 0.7788 - val_loss: 1.1704 - val_acc: 0.6500\n",
            "Epoch 283/400\n",
            "8/8 [==============================] - 0s 8ms/step - loss: 0.7014 - acc: 0.7899 - val_loss: 1.1657 - val_acc: 0.6500\n",
            "Epoch 284/400\n",
            "8/8 [==============================] - 0s 7ms/step - loss: 0.7315 - acc: 0.7907 - val_loss: 1.1697 - val_acc: 0.6375\n",
            "Epoch 285/400\n",
            "8/8 [==============================] - 0s 9ms/step - loss: 0.7142 - acc: 0.7801 - val_loss: 1.1554 - val_acc: 0.6875\n",
            "Epoch 286/400\n",
            "8/8 [==============================] - 0s 7ms/step - loss: 0.8014 - acc: 0.7511 - val_loss: 1.1605 - val_acc: 0.6750\n",
            "Epoch 287/400\n",
            "8/8 [==============================] - 0s 8ms/step - loss: 0.7482 - acc: 0.7715 - val_loss: 1.1527 - val_acc: 0.6875\n",
            "Epoch 288/400\n",
            "8/8 [==============================] - 0s 9ms/step - loss: 0.7433 - acc: 0.7708 - val_loss: 1.1458 - val_acc: 0.6875\n",
            "Epoch 289/400\n",
            "8/8 [==============================] - 0s 7ms/step - loss: 0.6532 - acc: 0.8017 - val_loss: 1.1543 - val_acc: 0.6750\n",
            "Epoch 290/400\n",
            "8/8 [==============================] - 0s 8ms/step - loss: 0.6480 - acc: 0.7955 - val_loss: 1.1557 - val_acc: 0.6750\n",
            "Epoch 291/400\n",
            "8/8 [==============================] - 0s 8ms/step - loss: 0.7408 - acc: 0.7884 - val_loss: 1.1412 - val_acc: 0.6875\n",
            "Epoch 292/400\n",
            "8/8 [==============================] - 0s 8ms/step - loss: 0.6582 - acc: 0.7888 - val_loss: 1.1423 - val_acc: 0.6875\n",
            "Epoch 293/400\n",
            "8/8 [==============================] - 0s 7ms/step - loss: 0.6398 - acc: 0.8126 - val_loss: 1.1402 - val_acc: 0.6875\n",
            "Epoch 294/400\n",
            "8/8 [==============================] - 0s 8ms/step - loss: 0.6973 - acc: 0.7850 - val_loss: 1.1392 - val_acc: 0.7000\n",
            "Epoch 295/400\n",
            "8/8 [==============================] - 0s 8ms/step - loss: 0.6459 - acc: 0.8226 - val_loss: 1.1552 - val_acc: 0.6875\n",
            "Epoch 296/400\n",
            "8/8 [==============================] - 0s 8ms/step - loss: 0.6800 - acc: 0.7938 - val_loss: 1.1469 - val_acc: 0.7000\n",
            "Epoch 297/400\n",
            "8/8 [==============================] - 0s 8ms/step - loss: 0.6822 - acc: 0.7816 - val_loss: 1.1554 - val_acc: 0.6875\n",
            "Epoch 298/400\n",
            "8/8 [==============================] - 0s 8ms/step - loss: 0.6662 - acc: 0.7916 - val_loss: 1.1539 - val_acc: 0.6875\n",
            "Epoch 299/400\n",
            "8/8 [==============================] - 0s 9ms/step - loss: 0.5739 - acc: 0.8137 - val_loss: 1.1387 - val_acc: 0.6875\n",
            "Epoch 300/400\n",
            "8/8 [==============================] - 0s 8ms/step - loss: 0.6496 - acc: 0.8085 - val_loss: 1.1462 - val_acc: 0.6875\n",
            "Epoch 301/400\n",
            "8/8 [==============================] - 0s 8ms/step - loss: 0.7356 - acc: 0.7544 - val_loss: 1.1597 - val_acc: 0.6875\n",
            "Epoch 302/400\n",
            "8/8 [==============================] - 0s 8ms/step - loss: 0.6483 - acc: 0.8038 - val_loss: 1.1439 - val_acc: 0.6875\n",
            "Epoch 303/400\n",
            "8/8 [==============================] - 0s 9ms/step - loss: 0.6689 - acc: 0.7912 - val_loss: 1.1473 - val_acc: 0.6875\n",
            "Epoch 304/400\n",
            "8/8 [==============================] - 0s 9ms/step - loss: 0.5933 - acc: 0.8335 - val_loss: 1.1389 - val_acc: 0.6875\n",
            "Epoch 305/400\n",
            "8/8 [==============================] - 0s 8ms/step - loss: 0.5947 - acc: 0.7921 - val_loss: 1.1299 - val_acc: 0.7000\n",
            "Epoch 306/400\n",
            "8/8 [==============================] - 0s 8ms/step - loss: 0.6750 - acc: 0.8177 - val_loss: 1.1228 - val_acc: 0.7000\n",
            "Epoch 307/400\n",
            "8/8 [==============================] - 0s 8ms/step - loss: 0.6111 - acc: 0.8088 - val_loss: 1.1360 - val_acc: 0.7000\n",
            "Epoch 308/400\n",
            "8/8 [==============================] - 0s 8ms/step - loss: 0.5740 - acc: 0.8482 - val_loss: 1.1482 - val_acc: 0.7000\n",
            "Epoch 309/400\n",
            "8/8 [==============================] - 0s 9ms/step - loss: 0.6793 - acc: 0.7685 - val_loss: 1.1358 - val_acc: 0.7125\n",
            "Epoch 310/400\n",
            "8/8 [==============================] - 0s 8ms/step - loss: 0.6268 - acc: 0.8090 - val_loss: 1.1191 - val_acc: 0.7000\n",
            "Epoch 311/400\n",
            "8/8 [==============================] - 0s 9ms/step - loss: 0.6219 - acc: 0.7971 - val_loss: 1.1307 - val_acc: 0.7000\n",
            "Epoch 312/400\n",
            "8/8 [==============================] - 0s 8ms/step - loss: 0.6433 - acc: 0.8009 - val_loss: 1.1127 - val_acc: 0.7000\n",
            "Epoch 313/400\n",
            "8/8 [==============================] - 0s 8ms/step - loss: 0.6506 - acc: 0.8168 - val_loss: 1.1068 - val_acc: 0.7125\n",
            "Epoch 314/400\n",
            "8/8 [==============================] - 0s 8ms/step - loss: 0.6305 - acc: 0.8109 - val_loss: 1.1109 - val_acc: 0.7125\n",
            "Epoch 315/400\n",
            "8/8 [==============================] - 0s 27ms/step - loss: 0.5652 - acc: 0.8487 - val_loss: 1.1121 - val_acc: 0.7125\n",
            "Epoch 316/400\n",
            "8/8 [==============================] - 0s 8ms/step - loss: 0.5955 - acc: 0.8168 - val_loss: 1.1070 - val_acc: 0.7125\n",
            "Epoch 317/400\n",
            "8/8 [==============================] - 0s 9ms/step - loss: 0.6658 - acc: 0.7965 - val_loss: 1.1141 - val_acc: 0.7125\n",
            "Epoch 318/400\n",
            "8/8 [==============================] - 0s 8ms/step - loss: 0.5158 - acc: 0.8561 - val_loss: 1.1102 - val_acc: 0.7125\n",
            "Epoch 319/400\n",
            "8/8 [==============================] - 0s 8ms/step - loss: 0.6187 - acc: 0.8338 - val_loss: 1.1036 - val_acc: 0.7125\n",
            "Epoch 320/400\n",
            "8/8 [==============================] - 0s 8ms/step - loss: 0.5244 - acc: 0.8376 - val_loss: 1.1057 - val_acc: 0.7125\n",
            "Epoch 321/400\n",
            "8/8 [==============================] - 0s 9ms/step - loss: 0.6852 - acc: 0.7912 - val_loss: 1.1033 - val_acc: 0.7125\n",
            "Epoch 322/400\n",
            "8/8 [==============================] - 0s 8ms/step - loss: 0.6123 - acc: 0.7862 - val_loss: 1.0993 - val_acc: 0.7125\n",
            "Epoch 323/400\n",
            "8/8 [==============================] - 0s 8ms/step - loss: 0.6282 - acc: 0.8249 - val_loss: 1.1171 - val_acc: 0.7125\n",
            "Epoch 324/400\n",
            "8/8 [==============================] - 0s 8ms/step - loss: 0.6162 - acc: 0.8157 - val_loss: 1.1081 - val_acc: 0.7125\n",
            "Epoch 325/400\n",
            "8/8 [==============================] - 0s 9ms/step - loss: 0.5769 - acc: 0.8346 - val_loss: 1.0918 - val_acc: 0.7125\n",
            "Epoch 326/400\n",
            "8/8 [==============================] - 0s 7ms/step - loss: 0.5923 - acc: 0.8187 - val_loss: 1.0835 - val_acc: 0.7000\n",
            "Epoch 327/400\n",
            "8/8 [==============================] - 0s 8ms/step - loss: 0.5743 - acc: 0.8420 - val_loss: 1.1112 - val_acc: 0.7125\n",
            "Epoch 328/400\n",
            "8/8 [==============================] - 0s 8ms/step - loss: 0.5739 - acc: 0.8363 - val_loss: 1.1374 - val_acc: 0.7000\n",
            "Epoch 329/400\n",
            "8/8 [==============================] - 0s 10ms/step - loss: 0.6187 - acc: 0.8248 - val_loss: 1.1336 - val_acc: 0.7125\n",
            "Epoch 330/400\n",
            "8/8 [==============================] - 0s 10ms/step - loss: 0.5570 - acc: 0.8217 - val_loss: 1.1089 - val_acc: 0.7125\n",
            "Epoch 331/400\n",
            "8/8 [==============================] - 0s 8ms/step - loss: 0.5339 - acc: 0.8358 - val_loss: 1.1039 - val_acc: 0.7125\n",
            "Epoch 332/400\n",
            "8/8 [==============================] - 0s 8ms/step - loss: 0.6380 - acc: 0.8086 - val_loss: 1.0930 - val_acc: 0.7250\n",
            "Epoch 333/400\n",
            "8/8 [==============================] - 0s 9ms/step - loss: 0.5096 - acc: 0.8481 - val_loss: 1.0860 - val_acc: 0.7125\n",
            "Epoch 334/400\n",
            "8/8 [==============================] - 0s 8ms/step - loss: 0.6520 - acc: 0.7827 - val_loss: 1.0910 - val_acc: 0.7125\n",
            "Epoch 335/400\n",
            "8/8 [==============================] - 0s 8ms/step - loss: 0.5855 - acc: 0.8167 - val_loss: 1.0988 - val_acc: 0.7125\n",
            "Epoch 336/400\n",
            "8/8 [==============================] - 0s 9ms/step - loss: 0.5950 - acc: 0.8339 - val_loss: 1.0950 - val_acc: 0.7250\n",
            "Epoch 337/400\n",
            "8/8 [==============================] - 0s 9ms/step - loss: 0.5722 - acc: 0.8305 - val_loss: 1.0848 - val_acc: 0.7250\n",
            "Epoch 338/400\n",
            "8/8 [==============================] - 0s 8ms/step - loss: 0.5522 - acc: 0.8425 - val_loss: 1.0833 - val_acc: 0.7250\n",
            "Epoch 339/400\n",
            "8/8 [==============================] - 0s 8ms/step - loss: 0.6361 - acc: 0.8151 - val_loss: 1.0731 - val_acc: 0.6875\n",
            "Epoch 340/400\n",
            "8/8 [==============================] - 0s 8ms/step - loss: 0.5660 - acc: 0.8488 - val_loss: 1.0838 - val_acc: 0.7250\n",
            "Epoch 341/400\n",
            "8/8 [==============================] - 0s 9ms/step - loss: 0.5947 - acc: 0.8074 - val_loss: 1.0943 - val_acc: 0.7250\n",
            "Epoch 342/400\n",
            "8/8 [==============================] - 0s 8ms/step - loss: 0.5390 - acc: 0.8487 - val_loss: 1.0880 - val_acc: 0.7250\n",
            "Epoch 343/400\n",
            "8/8 [==============================] - 0s 8ms/step - loss: 0.5150 - acc: 0.8366 - val_loss: 1.0769 - val_acc: 0.7125\n",
            "Epoch 344/400\n",
            "8/8 [==============================] - 0s 8ms/step - loss: 0.5601 - acc: 0.8322 - val_loss: 1.0765 - val_acc: 0.7125\n",
            "Epoch 345/400\n",
            "8/8 [==============================] - 0s 8ms/step - loss: 0.5284 - acc: 0.8538 - val_loss: 1.0887 - val_acc: 0.7250\n",
            "Epoch 346/400\n",
            "8/8 [==============================] - 0s 8ms/step - loss: 0.5567 - acc: 0.8404 - val_loss: 1.0912 - val_acc: 0.7250\n",
            "Epoch 347/400\n",
            "8/8 [==============================] - 0s 9ms/step - loss: 0.5312 - acc: 0.8479 - val_loss: 1.1076 - val_acc: 0.7000\n",
            "Epoch 348/400\n",
            "8/8 [==============================] - 0s 8ms/step - loss: 0.5337 - acc: 0.8209 - val_loss: 1.0981 - val_acc: 0.7125\n",
            "Epoch 349/400\n",
            "8/8 [==============================] - 0s 8ms/step - loss: 0.5021 - acc: 0.8592 - val_loss: 1.1213 - val_acc: 0.6750\n",
            "Epoch 350/400\n",
            "8/8 [==============================] - 0s 8ms/step - loss: 0.5505 - acc: 0.8264 - val_loss: 1.1154 - val_acc: 0.7000\n",
            "Epoch 351/400\n",
            "8/8 [==============================] - 0s 10ms/step - loss: 0.5770 - acc: 0.8354 - val_loss: 1.0819 - val_acc: 0.7125\n",
            "Epoch 352/400\n",
            "8/8 [==============================] - 0s 9ms/step - loss: 0.5088 - acc: 0.8539 - val_loss: 1.0831 - val_acc: 0.7125\n",
            "Epoch 353/400\n",
            "8/8 [==============================] - 0s 8ms/step - loss: 0.5735 - acc: 0.8235 - val_loss: 1.0886 - val_acc: 0.7125\n",
            "Epoch 354/400\n",
            "8/8 [==============================] - 0s 9ms/step - loss: 0.5319 - acc: 0.8307 - val_loss: 1.0888 - val_acc: 0.7125\n"
          ],
          "name": "stdout"
        }
      ]
    },
    {
      "cell_type": "code",
      "metadata": {
        "id": "2u7wWnjHw-cX",
        "colab": {
          "base_uri": "https://localhost:8080/",
          "height": 831
        },
        "outputId": "649838f3-9e9a-4e09-e031-351345c9ca32"
      },
      "source": [
        "plt.figure(0)  \n",
        "plt.plot(history2.history['acc'],'r')  \n",
        "plt.plot(history2.history['val_acc'],'g')  \n",
        "plt.xticks(np.arange(0, 400, 40))  \n",
        "plt.rcParams['figure.figsize'] = (8, 6)  \n",
        "plt.xlabel(\"Num of Epochs\")  \n",
        "plt.ylabel(\"Accuracy\")  \n",
        "plt.title(\"Training Accuracy vs Validation Accuracy\")  \n",
        "plt.legend(['train','validation'])\n",
        "\n",
        "plt.figure(1)  \n",
        "plt.plot(history2.history['loss'],'r')  \n",
        "plt.plot(history2.history['val_loss'],'g')  \n",
        "plt.xticks(np.arange(0,400, 40))  \n",
        "plt.rcParams['figure.figsize'] = (8, 6)  \n",
        "plt.xlabel(\"Num of Epochs\")  \n",
        "plt.ylabel(\"Loss\")  \n",
        "plt.title(\"Training Loss vs Validation Loss\")  \n",
        "plt.legend(['train','validation'])\n",
        "\n",
        "plt.show()"
      ],
      "execution_count": 107,
      "outputs": [
        {
          "output_type": "display_data",
          "data": {
            "image/png": "[encoded data removed]",
            "text/plain": [
              "<Figure size 576x432 with 1 Axes>"
            ]
          },
          "metadata": {
            "tags": []
          }
        },
        {
          "output_type": "display_data",
          "data": {
            "image/png": "[encoded data removed]",
            "text/plain": [
              "<Figure size 576x432 with 1 Axes>"
            ]
          },
          "metadata": {
            "tags": []
          }
        }
      ]
    },
    {
      "cell_type": "code",
      "metadata": {
        "colab": {
          "base_uri": "https://localhost:8080/"
        },
        "id": "VIdou1pxcoLO",
        "outputId": "4b0c6d4a-51a8-4e4d-da10-28d6146d3639"
      },
      "source": [
        "## Evaluando el modelo\n",
        "train_loss, train_acc = model2.evaluate(x_train, y_train)\n",
        "#print('Train_loss: ', train_loss, 'Train_Acc: ', train_acc)\n",
        "test_loss, test_acc = model2.evaluate(x_test, y_test)\n",
        "#print('Test_loss: ', test_loss, 'Test_Acc: ', test_acc)"
      ],
      "execution_count": 109,
      "outputs": [
        {
          "output_type": "stream",
          "text": [
            "13/13 [==============================] - 0s 2ms/step - loss: 0.5362 - acc: 0.8575\n",
            "2/2 [==============================] - 0s 6ms/step - loss: 0.8127 - acc: 0.7500\n"
          ],
          "name": "stdout"
        }
      ]
    },
    {
      "cell_type": "code",
      "metadata": {
        "colab": {
          "base_uri": "https://localhost:8080/"
        },
        "id": "LSGZUoOplUaT",
        "outputId": "6f474bc8-aa14-4cab-f692-844d37eeeea1"
      },
      "source": [
        "#Predicciones\n",
        "red2_pred = model2.predict(x_test, batch_size=batchsize, verbose=1)  \n",
        "red2_predicted = np.argmax(red2_pred, axis=-1)"
      ],
      "execution_count": 110,
      "outputs": [
        {
          "output_type": "stream",
          "text": [
            "WARNING:tensorflow:5 out of the last 9 calls to <function Model.make_predict_function.<locals>.predict_function at 0x7f7642a45a60> triggered tf.function retracing. Tracing is expensive and the excessive number of tracings could be due to (1) creating @tf.function repeatedly in a loop, (2) passing tensors with different shapes, (3) passing Python objects instead of tensors. For (1), please define your @tf.function outside of the loop. For (2), @tf.function has experimental_relax_shapes=True option that relaxes argument shapes that can avoid unnecessary retracing. For (3), please refer to https://www.tensorflow.org/guide/function#controlling_retracing and https://www.tensorflow.org/api_docs/python/tf/function for  more details.\n",
            "2/2 [==============================] - 0s 6ms/step\n"
          ],
          "name": "stdout"
        }
      ]
    },
    {
      "cell_type": "code",
      "metadata": {
        "id": "72wuRU0Zw-YK",
        "colab": {
          "base_uri": "https://localhost:8080/",
          "height": 382
        },
        "outputId": "3cc0f83a-00cf-4dd5-b3b5-151fc6a2dc46"
      },
      "source": [
        "import seaborn as sn \n",
        "from sklearn.metrics import confusion_matrix, classification_report \n",
        "#Creamos la matriz de confusión\n",
        "red2_cm = confusion_matrix(np.argmax(y_test, axis=-1), red2_predicted)\n",
        "\n",
        "# Visualizamos la matriz de confusión\n",
        "cm_red2= pd.DataFrame(red2_cm, range(11), range(11))  \n",
        "plt.figure(figsize = (8,6))  \n",
        "sn.set(font_scale=1.4) #for label size  \n",
        "sn.heatmap(cm_red2, annot=True, annot_kws={\"size\": 10}) # font size  \n",
        "plt.show()"
      ],
      "execution_count": 111,
      "outputs": [
        {
          "output_type": "display_data",
          "data": {
            "image/png": "[encoded data removed]",
            "text/plain": [
              "<Figure size 576x432 with 2 Axes>"
            ]
          },
          "metadata": {
            "tags": []
          }
        }
      ]
    },
    {
      "cell_type": "code",
      "metadata": {
        "colab": {
          "base_uri": "https://localhost:8080/"
        },
        "id": "cFj3deXClUWu",
        "outputId": "11084abd-ff5b-4a78-c0c7-98f82f490e1d"
      },
      "source": [
        "red2_report = classification_report(np.argmax(y_test, axis=1), red2_predicted)  \n",
        "print(red0_report)\n",
        "print(red1_report)\n",
        "print(red2_report)"
      ],
      "execution_count": 112,
      "outputs": [
        {
          "output_type": "stream",
          "text": [
            "              precision    recall  f1-score   support\n",
            "\n",
            "           1       0.91      0.94      0.93        33\n",
            "           2       0.00      0.00      0.00         2\n",
            "           3       0.50      1.00      0.67         1\n",
            "           4       1.00      1.00      1.00         1\n",
            "           5       0.00      0.00      0.00         1\n",
            "           6       0.00      0.00      0.00         1\n",
            "           9       0.00      0.00      0.00         1\n",
            "          10       0.50      0.57      0.53         7\n",
            "          14       0.00      0.00      0.00         1\n",
            "          15       0.00      0.00      0.00         1\n",
            "          16       0.00      0.00      0.00         3\n",
            "\n",
            "    accuracy                           0.71        52\n",
            "   macro avg       0.26      0.32      0.28        52\n",
            "weighted avg       0.67      0.71      0.69        52\n",
            "\n",
            "              precision    recall  f1-score   support\n",
            "\n",
            "           1       0.86      0.97      0.91        33\n",
            "           2       0.00      0.00      0.00         2\n",
            "           3       1.00      1.00      1.00         1\n",
            "           4       1.00      1.00      1.00         1\n",
            "           5       0.00      0.00      0.00         1\n",
            "           6       0.00      0.00      0.00         1\n",
            "           9       0.00      0.00      0.00         1\n",
            "          10       0.62      0.71      0.67         7\n",
            "          14       1.00      1.00      1.00         1\n",
            "          15       0.00      0.00      0.00         1\n",
            "          16       1.00      0.33      0.50         3\n",
            "\n",
            "    accuracy                           0.79        52\n",
            "   macro avg       0.50      0.46      0.46        52\n",
            "weighted avg       0.75      0.79      0.76        52\n",
            "\n",
            "              precision    recall  f1-score   support\n",
            "\n",
            "           1       0.91      0.97      0.94        33\n",
            "           2       0.33      0.50      0.40         2\n",
            "           3       0.00      0.00      0.00         1\n",
            "           4       1.00      1.00      1.00         1\n",
            "           5       0.00      0.00      0.00         1\n",
            "           6       0.00      0.00      0.00         1\n",
            "           9       0.00      0.00      0.00         1\n",
            "          10       0.50      0.57      0.53         7\n",
            "          14       0.00      0.00      0.00         1\n",
            "          15       0.00      0.00      0.00         1\n",
            "          16       0.50      0.33      0.40         3\n",
            "\n",
            "    accuracy                           0.75        52\n",
            "   macro avg       0.30      0.31      0.30        52\n",
            "weighted avg       0.71      0.75      0.73        52\n",
            "\n"
          ],
          "name": "stdout"
        },
        {
          "output_type": "stream",
          "text": [
            "/usr/local/lib/python3.6/dist-packages/sklearn/metrics/_classification.py:1272: UndefinedMetricWarning: Precision and F-score are ill-defined and being set to 0.0 in labels with no predicted samples. Use `zero_division` parameter to control this behavior.\n",
            "  _warn_prf(average, modifier, msg_start, len(result))\n"
          ],
          "name": "stderr"
        }
      ]
    },
    {
      "cell_type": "code",
      "metadata": {
        "id": "reEgMS9flUTT"
      },
      "source": [
        ""
      ],
      "execution_count": null,
      "outputs": []
    },
    {
      "cell_type": "code",
      "metadata": {
        "id": "0amcB0oXlUPZ"
      },
      "source": [
        ""
      ],
      "execution_count": null,
      "outputs": []
    },
    {
      "cell_type": "code",
      "metadata": {
        "id": "YXGq5p14lULv"
      },
      "source": [
        ""
      ],
      "execution_count": null,
      "outputs": []
    },
    {
      "cell_type": "code",
      "metadata": {
        "id": "_uionQHFlUHP"
      },
      "source": [
        ""
      ],
      "execution_count": null,
      "outputs": []
    },
    {
      "cell_type": "code",
      "metadata": {
        "id": "7HcxrEvqnoiT"
      },
      "source": [
        ""
      ],
      "execution_count": null,
      "outputs": []
    },
    {
      "cell_type": "code",
      "metadata": {
        "id": "GlwKJW5IRcpe"
      },
      "source": [
        "y_pred"
      ],
      "execution_count": null,
      "outputs": []
    },
    {
      "cell_type": "code",
      "metadata": {
        "id": "5O1GECpTRrD8"
      },
      "source": [
        "_, test_acc = model.evaluate(x_test, y_test, verbose=0)\n",
        "_, train_acc = model.evaluate(x_train, y_train)"
      ],
      "execution_count": null,
      "outputs": []
    },
    {
      "cell_type": "code",
      "metadata": {
        "id": "hUkdzO9DRrA3"
      },
      "source": [
        "print(test_acc, train_acc)"
      ],
      "execution_count": null,
      "outputs": []
    },
    {
      "cell_type": "code",
      "metadata": {
        "id": "mxxSlBQHKavn"
      },
      "source": [
        "# Create your first MLP in Keras\n",
        "from keras.models import Sequential\n",
        "from keras.layers import Dense\n",
        "import numpy\n",
        "\n",
        "FILENAME = '../data/pima-indians-diabetes.csv'\n",
        "\n",
        "# Fix random seed for reproducibility.\n",
        "seed = 7\n",
        "numpy.random.seed(seed)\n",
        "\n",
        "# Load Pima indians dataset.\n",
        "dataset = numpy.loadtxt(FILENAME, delimiter=',')\n",
        "# Split into input (X) and output (Y) variables.\n",
        "training_data = dataset[:, 0:8]\n",
        "training_targets = dataset[:, 8]\n",
        "\n",
        "#  Create model:\n",
        "#   'relu' Activation function for input layer.\n",
        "#   We use a 'sigmoid' activation function on the output layer to ensure our network output\n",
        "#   is between 0 and 1 and easy to map to either a probability of class 1 or snap to a hard classification.\n",
        "#   of either class with a default threshold of 0.5.\n",
        "model = Sequential()\n",
        "model.add(Dense(12, input_dim=8, kernel_initializer='uniform', activation='relu'))\n",
        "model.add(Dense(8, kernel_initializer='uniform', activation='relu'))\n",
        "model.add(Dense(1, kernel_initializer='uniform', activation='sigmoid'))\n",
        "\n",
        "model.compile(loss='binary_crossentropy', optimizer='adam', metrics=['accuracy'])\n",
        "model.fit(training_data, training_targets, epochs=150, batch_size=10)\n",
        "scores = model.evaluate(training_data, training_targets)\n",
        "print(\"%s: %.2f%%\" % (model.metrics_names[1], scores[1] * 100))"
      ],
      "execution_count": null,
      "outputs": []
    },
    {
      "cell_type": "code",
      "metadata": {
        "id": "XN9GE32xKak1"
      },
      "source": [
        ""
      ],
      "execution_count": null,
      "outputs": []
    },
    {
      "cell_type": "code",
      "metadata": {
        "id": "9LuROT9TKahf"
      },
      "source": [
        ""
      ],
      "execution_count": null,
      "outputs": []
    },
    {
      "cell_type": "code",
      "metadata": {
        "id": "Lu5ebbw7Kadv"
      },
      "source": [
        ""
      ],
      "execution_count": null,
      "outputs": []
    },
    {
      "cell_type": "code",
      "metadata": {
        "id": "2OKjFiHQKaaG"
      },
      "source": [
        ""
      ],
      "execution_count": null,
      "outputs": []
    },
    {
      "cell_type": "code",
      "metadata": {
        "id": "MAQDgX5ZKaPQ"
      },
      "source": [
        ""
      ],
      "execution_count": null,
      "outputs": []
    },
    {
      "cell_type": "markdown",
      "metadata": {
        "id": "vkBg-bHP-k66"
      },
      "source": [
        "# Creando red neuronal basica\n"
      ]
    },
    {
      "cell_type": "code",
      "metadata": {
        "id": "S8xq99qd-j8k"
      },
      "source": [
        "from scipy import stats\n",
        "\n",
        "class capa():\n",
        "  def __init__(self, n_neuronas_capa_anterior, n_neuronas, funcion_act):\n",
        "    self.funcion_act = funcion_act\n",
        "    self.b  = np.round(stats.truncnorm.rvs(-1, 1, loc=0, scale=1, size= n_neuronas).reshape(1,n_neuronas),3)\n",
        "    self.W  = np.round(stats.truncnorm.rvs(-1, 1, loc=0, scale=1, size= n_neuronas * n_neuronas_capa_anterior).reshape(n_neuronas_capa_anterior,n_neuronas),3)"
      ],
      "execution_count": null,
      "outputs": []
    },
    {
      "cell_type": "code",
      "metadata": {
        "id": "LRsssww7CEvd",
        "colab": {
          "base_uri": "https://localhost:8080/",
          "height": 369
        },
        "outputId": "e275c4fc-0250-42ec-f20e-eabd799eeb9f"
      },
      "source": [
        "import numpy as np\n",
        "import math\n",
        "import matplotlib.pyplot as plt\n",
        "\n",
        "\n",
        "sigmoid = (\n",
        "  lambda x:1 / (1 + np.exp(-x)),\n",
        "  lambda x:x * (1 - x)\n",
        "  )\n",
        "\n",
        "rango = np.linspace(-10,10).reshape([50,1])\n",
        "datos_sigmoide = sigmoid[0](rango)\n",
        "datos_sigmoide_derivada = sigmoid[1](rango)\n",
        "\n",
        "#Cremos los graficos\n",
        "fig, axes = plt.subplots(nrows=1, ncols=2, figsize =(15,5))\n",
        "axes[0].plot(rango, datos_sigmoide)\n",
        "axes[1].plot(rango, datos_sigmoide_derivada)\n",
        "fig.tight_layout()"
      ],
      "execution_count": null,
      "outputs": [
        {
          "output_type": "display_data",
          "data": {
            "image/png": "[encoded data removed]",
            "text/plain": [
              "<Figure size 1080x360 with 2 Axes>"
            ]
          },
          "metadata": {
            "tags": [],
            "needs_background": "light"
          }
        }
      ]
    },
    {
      "cell_type": "code",
      "metadata": {
        "colab": {
          "base_uri": "https://localhost:8080/",
          "height": 320
        },
        "id": "qU3nV8sxBGmX",
        "outputId": "f7d6c0d9-3155-4f5f-e7df-9981e5e3f41d"
      },
      "source": [
        "def derivada_relu(x):\n",
        "  x[x<=0] = 0\n",
        "  x[x>0] = 1\n",
        "  return x\n",
        "\n",
        "relu = (\n",
        "  lambda x: x * (x > 0),\n",
        "  lambda x:derivada_relu(x)\n",
        "  )\n",
        "\n",
        "datos_relu = relu[0](rango)\n",
        "datos_relu_derivada = relu[1](rango)\n",
        "\n",
        "\n",
        "# Volvemos a definir rango que ha sido cambiado\n",
        "rango = np.linspace(-10,10).reshape([50,1])\n",
        "\n",
        "# Cremos los graficos\n",
        "#plt.cla()\n",
        "fig, axes = plt.subplots(nrows=1, ncols=2, figsize =(15,5))\n",
        "axes[0].plot(rango, datos_relu[:,0])\n",
        "axes[1].plot(rango, datos_relu_derivada[:,0])\n",
        "plt.show()"
      ],
      "execution_count": null,
      "outputs": [
        {
          "output_type": "display_data",
          "data": {
            "image/png": "[encoded data removed]",
            "text/plain": [
              "<Figure size 1080x360 with 2 Axes>"
            ]
          },
          "metadata": {
            "tags": [],
            "needs_background": "light"
          }
        }
      ]
    },
    {
      "cell_type": "code",
      "metadata": {
        "id": "tL9Q8jE4DL2M"
      },
      "source": [
        "# Numero de neuronas en cada capa. \n",
        "# El primer valor es el numero de columnas de la capa de entrada.\n",
        "neuronas = [2,4,8,1] "
      ],
      "execution_count": null,
      "outputs": []
    },
    {
      "cell_type": "code",
      "metadata": {
        "colab": {
          "base_uri": "https://localhost:8080/"
        },
        "id": "uo878wFXBGjM",
        "outputId": "64240735-c0c1-43b3-f833-a815dd7d4a04"
      },
      "source": [
        "neuronas"
      ],
      "execution_count": null,
      "outputs": [
        {
          "output_type": "execute_result",
          "data": {
            "text/plain": [
              "[2, 4, 8, 1]"
            ]
          },
          "metadata": {
            "tags": []
          },
          "execution_count": 24
        }
      ]
    },
    {
      "cell_type": "code",
      "metadata": {
        "id": "EgpCVL0nBGfU"
      },
      "source": [
        "# Funciones de activacion usadas en cada capa. \n",
        "funciones_activacion = [relu,relu, sigmoid]"
      ],
      "execution_count": null,
      "outputs": []
    },
    {
      "cell_type": "code",
      "metadata": {
        "colab": {
          "base_uri": "https://localhost:8080/"
        },
        "id": "0VAb4BIQBGb1",
        "outputId": "d45903a4-41c0-4ace-e177-0f7431af4622"
      },
      "source": [
        "red_neuronal = []\n",
        "\n",
        "for paso in range(len(neuronas)-1):\n",
        "  x = capa(neuronas[paso],neuronas[paso+1],funciones_activacion[paso])\n",
        "  red_neuronal.append(x)\n",
        "\n",
        "print(red_neuronal)"
      ],
      "execution_count": null,
      "outputs": [
        {
          "output_type": "stream",
          "text": [
            "[<__main__.capa object at 0x7f7f7d654d30>, <__main__.capa object at 0x7f7f7d654780>, <__main__.capa object at 0x7f7f7d644198>]\n"
          ],
          "name": "stdout"
        }
      ]
    },
    {
      "cell_type": "code",
      "metadata": {
        "colab": {
          "base_uri": "https://localhost:8080/"
        },
        "id": "cRVIXqbdGUBd",
        "outputId": "5e3476f4-2d16-4edf-b8b1-00961a8a6b97"
      },
      "source": [
        "neuronas"
      ],
      "execution_count": null,
      "outputs": [
        {
          "output_type": "execute_result",
          "data": {
            "text/plain": [
              "[2, 4, 8, 1]"
            ]
          },
          "metadata": {
            "tags": []
          },
          "execution_count": 39
        }
      ]
    },
    {
      "cell_type": "code",
      "metadata": {
        "colab": {
          "base_uri": "https://localhost:8080/"
        },
        "id": "NITH0Y3RHlaU",
        "outputId": "eb70a3ab-2181-44ec-ad46-c00fbee0af19"
      },
      "source": [
        "X =  np.round(np.random.randn(20,2),3) # Ejemplo de vector de entrada\n",
        "\n",
        "z = X @ red_neuronal[0].W\n",
        "\n",
        "print(z[:10,:], X.shape, z.shape)"
      ],
      "execution_count": null,
      "outputs": [
        {
          "output_type": "stream",
          "text": [
            "[[-1.327674 -0.38108  -0.137426 -1.28877 ]\n",
            " [-1.178937  0.023774  0.017723 -0.783456]\n",
            " [-0.821349  0.699634  0.275935  0.134934]\n",
            " [-0.031304  0.861324  0.3326    0.836974]\n",
            " [ 1.384587  0.412078  0.148975  1.358628]\n",
            " [-0.684272 -0.369316 -0.137552 -0.836546]\n",
            " [-0.80786   0.382356  0.153404 -0.172034]\n",
            " [-0.09753   0.645524  0.249806  0.576564]\n",
            " [ 0.528548 -0.508884 -0.200204 -0.145294]\n",
            " [ 0.843667 -0.271674 -0.110953  0.306856]] (20, 2) (20, 4)\n"
          ],
          "name": "stdout"
        }
      ]
    },
    {
      "cell_type": "code",
      "metadata": {
        "colab": {
          "base_uri": "https://localhost:8080/"
        },
        "id": "OnA5wWWrH_Z3",
        "outputId": "3572c291-7066-4dfd-dcfa-63a4d763deb2"
      },
      "source": [
        "# Ahora, hay que sumar el parámetro bias (b) al resultado anterior de z\n",
        "z = z + red_neuronal[0].b\n",
        "\n",
        "print(z[:5,:])"
      ],
      "execution_count": null,
      "outputs": [
        {
          "output_type": "stream",
          "text": [
            "[[-2.037674 -0.85808   0.203574 -1.56977 ]\n",
            " [-1.888937 -0.453226  0.358723 -1.064456]\n",
            " [-1.531349  0.222634  0.616935 -0.146066]\n",
            " [-0.741304  0.384324  0.6736    0.555974]\n",
            " [ 0.674587 -0.064922  0.489975  1.077628]]\n"
          ],
          "name": "stdout"
        }
      ]
    },
    {
      "cell_type": "code",
      "metadata": {
        "colab": {
          "base_uri": "https://localhost:8080/"
        },
        "id": "tTkFEc5_I3ip",
        "outputId": "8b60e60b-ab88-45d8-b57d-0c956bd76562"
      },
      "source": [
        "# Ahora, habría que aplicar la función de activación de esa capa\n",
        "\n",
        "a = red_neuronal[0].funcion_act[0](z)\n",
        "a[:5,:]"
      ],
      "execution_count": null,
      "outputs": [
        {
          "output_type": "execute_result",
          "data": {
            "text/plain": [
              "array([[-0.      , -0.      ,  0.203574, -0.      ],\n",
              "       [-0.      , -0.      ,  0.358723, -0.      ],\n",
              "       [-0.      ,  0.222634,  0.616935, -0.      ],\n",
              "       [-0.      ,  0.384324,  0.6736  ,  0.555974],\n",
              "       [ 0.674587, -0.      ,  0.489975,  1.077628]])"
            ]
          },
          "metadata": {
            "tags": []
          },
          "execution_count": 51
        }
      ]
    },
    {
      "cell_type": "code",
      "metadata": {
        "colab": {
          "base_uri": "https://localhost:8080/"
        },
        "id": "RbGZS7L_JOty",
        "outputId": "f81c9790-107f-4559-f07b-c817e667d3e0"
      },
      "source": [
        "output = [X]\n",
        "\n",
        "for num_capa in range(len(red_neuronal)):\n",
        "  z = output[-1] @ red_neuronal[num_capa].W + red_neuronal[num_capa].b\n",
        "  a = red_neuronal[num_capa].funcion_act[0](z)\n",
        "  output.append(a)\n",
        "\n",
        "print(output[-1])\n"
      ],
      "execution_count": null,
      "outputs": [
        {
          "output_type": "stream",
          "text": [
            "[[0.65369944]\n",
            " [0.69243446]\n",
            " [0.77301516]\n",
            " [0.76368266]\n",
            " [0.68782435]\n",
            " [0.65366218]\n",
            " [0.7194693 ]\n",
            " [0.73868313]\n",
            " [0.63491084]\n",
            " [0.68304176]\n",
            " [0.70562324]\n",
            " [0.66365427]\n",
            " [0.65979406]\n",
            " [0.72529244]\n",
            " [0.70827457]\n",
            " [0.69345612]\n",
            " [0.69070574]\n",
            " [0.69091911]\n",
            " [0.66495453]\n",
            " [0.68471   ]]\n"
          ],
          "name": "stdout"
        }
      ]
    },
    {
      "cell_type": "code",
      "metadata": {
        "id": "BGUwNudxNCCi"
      },
      "source": [
        "def mse(Ypredich, Yreal):\n",
        "\n",
        "  # Calculamos el error\n",
        "  x = (np.array(Ypredich) - np.array(Yreal)) ** 2\n",
        "  x = np.mean(x)\n",
        "\n",
        "  # Calculamos la derivada de la funcion\n",
        "  y = np.array(Ypredich) - np.array(Yreal)\n",
        "  return (x,y)"
      ],
      "execution_count": null,
      "outputs": []
    },
    {
      "cell_type": "code",
      "metadata": {
        "colab": {
          "base_uri": "https://localhost:8080/"
        },
        "id": "7JqphY_VPPWe",
        "outputId": "f8da9b47-9e3a-4975-dac3-8dac92c7b67f"
      },
      "source": [
        "from random import shuffle\n",
        "\n",
        "Y = [0] * 10 + [1] * 10\n",
        "shuffle(Y)\n",
        "Y = np.array(Y).reshape(len(Y),1)\n",
        "\n",
        "mse(output[-1], Y)[0]"
      ],
      "execution_count": null,
      "outputs": [
        {
          "output_type": "execute_result",
          "data": {
            "text/plain": [
              "0.3065883624034401"
            ]
          },
          "metadata": {
            "tags": []
          },
          "execution_count": 55
        }
      ]
    },
    {
      "cell_type": "code",
      "metadata": {
        "colab": {
          "base_uri": "https://localhost:8080/"
        },
        "id": "2RbWn7j8PYOl",
        "outputId": "9e61d8fd-a9bf-48f8-80f6-b11049cc8535"
      },
      "source": [
        "red_neuronal[-1].b\n",
        "red_neuronal[-1].W"
      ],
      "execution_count": null,
      "outputs": [
        {
          "output_type": "execute_result",
          "data": {
            "text/plain": [
              "array([[ 0.288],\n",
              "       [-0.68 ],\n",
              "       [ 0.32 ],\n",
              "       [ 0.338],\n",
              "       [ 0.85 ],\n",
              "       [ 0.317],\n",
              "       [ 0.082],\n",
              "       [-0.371]])"
            ]
          },
          "metadata": {
            "tags": []
          },
          "execution_count": 57
        }
      ]
    },
    {
      "cell_type": "code",
      "metadata": {
        "colab": {
          "base_uri": "https://localhost:8080/"
        },
        "id": "WiVTv-qwPY90",
        "outputId": "247c47f7-a955-4416-c63e-aab276ef5d4c"
      },
      "source": [
        "# Backprop en la ultima capa\n",
        "a = output[-1]\n",
        "x = mse(a,Y)[1] * red_neuronal[-2].funcion_act[1](a)\n",
        "\n",
        "x"
      ],
      "execution_count": null,
      "outputs": [
        {
          "output_type": "execute_result",
          "data": {
            "text/plain": [
              "array([[-0.34630056],\n",
              "       [ 0.69243446],\n",
              "       [ 0.77301516],\n",
              "       [ 0.76368266],\n",
              "       [ 0.68782435],\n",
              "       [-0.34633782],\n",
              "       [ 0.7194693 ],\n",
              "       [-0.26131687],\n",
              "       [-0.36508916],\n",
              "       [-0.31695824],\n",
              "       [ 0.70562324],\n",
              "       [-0.33634573],\n",
              "       [-0.34020594],\n",
              "       [-0.27470756],\n",
              "       [ 0.70827457],\n",
              "       [ 0.69345612],\n",
              "       [-0.30929426],\n",
              "       [ 0.69091911],\n",
              "       [-0.33504547],\n",
              "       [ 0.68471   ]])"
            ]
          },
          "metadata": {
            "tags": []
          },
          "execution_count": 58
        }
      ]
    },
    {
      "cell_type": "code",
      "metadata": {
        "colab": {
          "base_uri": "https://localhost:8080/"
        },
        "id": "lgS1prN6SAS5",
        "outputId": "31bf0e08-ffd8-475c-c686-f3612bc0c529"
      },
      "source": [
        "red_neuronal[-1].b = red_neuronal[-1].b - x.mean() * 0.01\n",
        "red_neuronal[-1].W = red_neuronal[-1].W - (output[-1].T @ x) * 0.01\n",
        "\n",
        "red_neuronal[-1].b\n",
        "red_neuronal[-1].W"
      ],
      "execution_count": null,
      "outputs": [
        {
          "output_type": "execute_result",
          "data": {
            "text/plain": [
              "array([[ 0.24912193],\n",
              "       [-0.71887807],\n",
              "       [ 0.28112193],\n",
              "       [ 0.29912193],\n",
              "       [ 0.81112193],\n",
              "       [ 0.27812193],\n",
              "       [ 0.04312193],\n",
              "       [-0.40987807]])"
            ]
          },
          "metadata": {
            "tags": []
          },
          "execution_count": 59
        }
      ]
    },
    {
      "cell_type": "code",
      "metadata": {
        "colab": {
          "base_uri": "https://localhost:8080/"
        },
        "id": "MhtreGUeSIzo",
        "outputId": "2c844bba-88fa-4eb7-8906-71cd6d686a6c"
      },
      "source": [
        "# Definimos el learning rate\n",
        "lr = 0.05\n",
        "\n",
        "# Creamos el indice inverso para ir de derecha a izquierda\n",
        "back = list(range(len(output)-1))\n",
        "back.reverse()\n",
        "\n",
        "# Creamos el vector delta donde meteremos los errores en cada capa\n",
        "delta = []\n",
        "\n",
        "for capa in back:\n",
        "  # Backprop #\n",
        "\n",
        "  # Guardamos los resultados de la ultima capa antes de usar backprop para poder usarlas en gradient descent\n",
        "  a = output[capa+1][1]\n",
        "\n",
        "  # Backprop en la ultima capa \n",
        "  if capa == back[0]:\n",
        "    x = mse(a,Y)[1] * red_neuronal[capa].funcion_act[1](a)\n",
        "    delta.append(x)\n",
        "\n",
        "  # Backprop en el resto de capas \n",
        "  else:\n",
        "    x = delta[-1] @ W_temp * red_neuronal[capa].funcion_act[1](a)\n",
        "    delta.append(x)\n",
        "\n",
        "  # Guardamos los valores de W para poder usarlos en la iteracion siguiente\n",
        "  W_temp = red_neuronal[capa].W.transpose()\n",
        "\n",
        "  # Gradient Descent #\n",
        "\n",
        "  # Ajustamos los valores de los parametros de la capa\n",
        "  red_neuronal[capa].b = red_neuronal[capa].b - delta[-1].mean() * lr\n",
        "  red_neuronal[capa].W = red_neuronal[capa].W - (output[capa].T @ delta[-1]) * lr\n",
        "\n",
        "\n",
        "print('MSE: ' + str(mse(output[-1],Y)[0]) )\n",
        "print('Estimacion: ' + str(output[-1]) )"
      ],
      "execution_count": null,
      "outputs": [
        {
          "output_type": "stream",
          "text": [
            "MSE: 0.5\n",
            "Estimacion: [[1.]\n",
            " [1.]\n",
            " [1.]\n",
            " [1.]\n",
            " [1.]\n",
            " [1.]\n",
            " [1.]\n",
            " [1.]\n",
            " [1.]\n",
            " [1.]\n",
            " [1.]\n",
            " [1.]\n",
            " [1.]\n",
            " [1.]\n",
            " [1.]\n",
            " [1.]\n",
            " [1.]\n",
            " [1.]\n",
            " [1.]\n",
            " [1.]]\n"
          ],
          "name": "stdout"
        }
      ]
    },
    {
      "cell_type": "markdown",
      "metadata": {
        "id": "wvK4JYG7S7yv"
      },
      "source": [
        "# Definición del problema: clasificación de puntos"
      ]
    },
    {
      "cell_type": "code",
      "metadata": {
        "id": "NE3qCfplS7oe"
      },
      "source": [
        "import random\n",
        "\n",
        "def circulo(num_datos = 100,R = 1, minimo = 0,maximo= 1):\n",
        "  pi = math.pi\n",
        "  r = R * np.sqrt(stats.truncnorm.rvs(minimo, maximo, size= num_datos)) * 10\n",
        "  theta = stats.truncnorm.rvs(minimo, maximo, size= num_datos) * 2 * pi *10\n",
        "\n",
        "  x = np.cos(theta) * r\n",
        "  y = np.sin(theta) * r\n",
        "\n",
        "  y = y.reshape((num_datos,1))\n",
        "  x = x.reshape((num_datos,1))\n",
        "\n",
        "  #Vamos a reducir el numero de elementos para que no cause un Overflow\n",
        "  x = np.round(x,3)\n",
        "  y = np.round(y,3)\n",
        "\n",
        "  df = np.column_stack([x,y])\n",
        "  return(df)"
      ],
      "execution_count": null,
      "outputs": []
    },
    {
      "cell_type": "code",
      "metadata": {
        "id": "YJq7L6arS7lK"
      },
      "source": [
        "datos_1 = circulo(num_datos = 150, R = 2)\n",
        "datos_2 = circulo(num_datos = 150, R = 0.5)\n",
        "X = np.concatenate([datos_1,datos_2])\n",
        "X = np.round(X,3)\n",
        "\n",
        "Y = [0] * 150 + [1] * 150\n",
        "Y = np.array(Y).reshape(len(Y),1)"
      ],
      "execution_count": null,
      "outputs": []
    },
    {
      "cell_type": "code",
      "metadata": {
        "colab": {
          "base_uri": "https://localhost:8080/"
        },
        "id": "4zZeWxVYS7hm",
        "outputId": "8790b5d6-839a-42c2-8378-8ddb0153a081"
      },
      "source": [
        "X.shape"
      ],
      "execution_count": null,
      "outputs": [
        {
          "output_type": "execute_result",
          "data": {
            "text/plain": [
              "(300, 2)"
            ]
          },
          "metadata": {
            "tags": []
          },
          "execution_count": 67
        }
      ]
    },
    {
      "cell_type": "code",
      "metadata": {
        "colab": {
          "base_uri": "https://localhost:8080/",
          "height": 269
        },
        "id": "XPgx6wPaS7d8",
        "outputId": "60a55755-084c-4ef9-f1d5-9268af143fe7"
      },
      "source": [
        "plt.scatter(X[0:150,0],X[0:150,1], c = \"b\")\n",
        "plt.scatter(X[150:300,0],X[150:300,1], c = \"r\")\n",
        "plt.show()"
      ],
      "execution_count": null,
      "outputs": [
        {
          "output_type": "display_data",
          "data": {
            "image/png": "[encoded data removed]",
            "text/plain": [
              "<Figure size 432x288 with 1 Axes>"
            ]
          },
          "metadata": {
            "tags": [],
            "needs_background": "light"
          }
        }
      ]
    },
    {
      "cell_type": "code",
      "metadata": {
        "id": "xWCttqmpShk0"
      },
      "source": [
        "def entrenamiento(X,Y, red_neuronal, lr = 0.01):\n",
        "\n",
        "  # Output guardara el resultado de cada capa\n",
        "  # En la capa 1, el resultado es el valor de entrada\n",
        "  output = [X]\n",
        "\n",
        "  for num_capa in range(len(red_neuronal)):\n",
        "    z = output[-1] @ red_neuronal[num_capa].W + red_neuronal[num_capa].b\n",
        "\n",
        "    a = red_neuronal[num_capa].funcion_act[0](z)\n",
        "\n",
        "    # Incluimos el resultado de la capa a output\n",
        "    output.append(a)\n",
        "\n",
        "  # Backpropagation\n",
        "\n",
        "  back = list(range(len(output)-1))\n",
        "  back.reverse()\n",
        "\n",
        "  # Guardaremos el error de la capa en delta  \n",
        "  delta = []\n",
        "\n",
        "  for capa in back:\n",
        "    # Backprop #delta\n",
        "\n",
        "    a = output[capa+1]\n",
        "\n",
        "    if capa == back[0]:\n",
        "      x = mse(a,Y)[1] * red_neuronal[capa].funcion_act[1](a)\n",
        "      delta.append(x)\n",
        "\n",
        "    else:\n",
        "      x = delta[-1] @ W_temp * red_neuronal[capa].funcion_act[1](a)\n",
        "      delta.append(x)\n",
        "\n",
        "    W_temp = red_neuronal[capa].W.transpose()\n",
        "\n",
        "    # Gradient Descent #\n",
        "    red_neuronal[capa].b = red_neuronal[capa].b - np.mean(delta[-1], axis = 0, keepdims = True) * lr\n",
        "    red_neuronal[capa].W = red_neuronal[capa].W - output[capa].transpose() @ delta[-1] * lr\n",
        "\n",
        "  return output[-1]"
      ],
      "execution_count": null,
      "outputs": []
    },
    {
      "cell_type": "code",
      "metadata": {
        "id": "pdfo0_KWUItB"
      },
      "source": [
        "class capa():\n",
        "  def __init__(self, n_neuronas_capa_anterior, n_neuronas, funcion_act):\n",
        "    self.funcion_act = funcion_act\n",
        "    self.b  = np.round(stats.truncnorm.rvs(-1, 1, loc=0, scale=1, size= n_neuronas).reshape(1,n_neuronas),3)\n",
        "    self.W  = np.round(stats.truncnorm.rvs(-1, 1, loc=0, scale=1, size= n_neuronas * n_neuronas_capa_anterior).reshape(n_neuronas_capa_anterior,n_neuronas),3)\n",
        "\n",
        "neuronas = [2,4,8,1] \n",
        "funciones_activacion = [relu,relu, sigmoid]\n",
        "red_neuronal = []\n",
        "\n",
        "for paso in list(range(len(neuronas)-1)):\n",
        "  x = capa(neuronas[paso],neuronas[paso+1],funciones_activacion[paso])\n",
        "  red_neuronal.append(x)  "
      ],
      "execution_count": null,
      "outputs": []
    },
    {
      "cell_type": "code",
      "metadata": {
        "id": "FuM46fJkUau8"
      },
      "source": [
        "error = []\n",
        "predicciones = []\n",
        "\n",
        "for epoch in range(0,1000):\n",
        "  ronda = entrenamiento(X = X ,Y = Y ,red_neuronal = red_neuronal, lr = 0.001)\n",
        "  predicciones.append(ronda)\n",
        "  temp = mse(np.round(predicciones[-1]),Y)[0]\n",
        "  error.append(temp)"
      ],
      "execution_count": null,
      "outputs": []
    },
    {
      "cell_type": "code",
      "metadata": {
        "id": "d2_QkEZeUqVD",
        "colab": {
          "base_uri": "https://localhost:8080/",
          "height": 282
        },
        "outputId": "017bbac6-b5ff-445e-f236-246bffe8db6b"
      },
      "source": [
        "epoch = list(range(0,1000))\n",
        "plt.plot(epoch, error)"
      ],
      "execution_count": null,
      "outputs": [
        {
          "output_type": "execute_result",
          "data": {
            "text/plain": [
              "[<matplotlib.lines.Line2D at 0x7f7f853b59b0>]"
            ]
          },
          "metadata": {
            "tags": []
          },
          "execution_count": 72
        },
        {
          "output_type": "display_data",
          "data": {
            "image/png": "[encoded data removed]",
            "text/plain": [
              "<Figure size 432x288 with 1 Axes>"
            ]
          },
          "metadata": {
            "tags": [],
            "needs_background": "light"
          }
        }
      ]
    },
    {
      "cell_type": "code",
      "metadata": {
        "id": "8pkWSQilUu0m"
      },
      "source": [
        ""
      ],
      "execution_count": null,
      "outputs": []
    }
  ]
}